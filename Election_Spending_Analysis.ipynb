{
 "cells": [
  {
   "cell_type": "code",
   "execution_count": 22,
   "metadata": {},
   "outputs": [],
   "source": [
    "#Importing required libraries\n",
    "import numpy as np\n",
    "import pandas as pd\n",
    "import matplotlib.pyplot as plt\n",
    "import plotly_express as px"
   ]
  },
  {
   "cell_type": "code",
   "execution_count": 23,
   "metadata": {},
   "outputs": [],
   "source": [
    "#Loading the datasets\n",
    "advertisers=pd.read_csv('advertisers.csv')\n",
    "locations=pd.read_csv('locations.csv')\n",
    "results=pd.read_csv('results.csv')"
   ]
  },
  {
   "cell_type": "code",
   "execution_count": 24,
   "metadata": {},
   "outputs": [
    {
     "data": {
      "text/html": [
       "<div>\n",
       "<style scoped>\n",
       "    .dataframe tbody tr th:only-of-type {\n",
       "        vertical-align: middle;\n",
       "    }\n",
       "\n",
       "    .dataframe tbody tr th {\n",
       "        vertical-align: top;\n",
       "    }\n",
       "\n",
       "    .dataframe thead th {\n",
       "        text-align: right;\n",
       "    }\n",
       "</style>\n",
       "<table border=\"1\" class=\"dataframe\">\n",
       "  <thead>\n",
       "    <tr style=\"text-align: right;\">\n",
       "      <th></th>\n",
       "      <th>Page ID</th>\n",
       "      <th>Page name</th>\n",
       "      <th>Disclaimer</th>\n",
       "      <th>Amount spent (INR)</th>\n",
       "      <th>Number of ads in Library</th>\n",
       "    </tr>\n",
       "  </thead>\n",
       "  <tbody>\n",
       "    <tr>\n",
       "      <th>0</th>\n",
       "      <td>1.214400e+14</td>\n",
       "      <td>Bharatiya Janata Party (BJP)</td>\n",
       "      <td>Bharatiya Janata Party (BJP)</td>\n",
       "      <td>193854342</td>\n",
       "      <td>43455</td>\n",
       "    </tr>\n",
       "    <tr>\n",
       "      <th>1</th>\n",
       "      <td>3.516160e+14</td>\n",
       "      <td>Indian National Congress</td>\n",
       "      <td>Indian National Congress</td>\n",
       "      <td>108787100</td>\n",
       "      <td>846</td>\n",
       "    </tr>\n",
       "    <tr>\n",
       "      <th>2</th>\n",
       "      <td>1.327150e+14</td>\n",
       "      <td>Ama Chinha Sankha Chinha</td>\n",
       "      <td>Ama Chinha Sankha Chinha</td>\n",
       "      <td>73361399</td>\n",
       "      <td>1799</td>\n",
       "    </tr>\n",
       "    <tr>\n",
       "      <th>3</th>\n",
       "      <td>1.928560e+14</td>\n",
       "      <td>Ama Chinha Sankha Chinha</td>\n",
       "      <td>Ama Chinha Sankha Chinha</td>\n",
       "      <td>32294327</td>\n",
       "      <td>680</td>\n",
       "    </tr>\n",
       "    <tr>\n",
       "      <th>4</th>\n",
       "      <td>1.094700e+14</td>\n",
       "      <td>Ellorum Nammudan</td>\n",
       "      <td>Populus Empowerment Network Private Limited</td>\n",
       "      <td>22399499</td>\n",
       "      <td>879</td>\n",
       "    </tr>\n",
       "  </tbody>\n",
       "</table>\n",
       "</div>"
      ],
      "text/plain": [
       "        Page ID                     Page name  \\\n",
       "0  1.214400e+14  Bharatiya Janata Party (BJP)   \n",
       "1  3.516160e+14      Indian National Congress   \n",
       "2  1.327150e+14      Ama Chinha Sankha Chinha   \n",
       "3  1.928560e+14      Ama Chinha Sankha Chinha   \n",
       "4  1.094700e+14              Ellorum Nammudan   \n",
       "\n",
       "                                    Disclaimer Amount spent (INR)  \\\n",
       "0                 Bharatiya Janata Party (BJP)          193854342   \n",
       "1                     Indian National Congress          108787100   \n",
       "2                     Ama Chinha Sankha Chinha           73361399   \n",
       "3                     Ama Chinha Sankha Chinha           32294327   \n",
       "4  Populus Empowerment Network Private Limited           22399499   \n",
       "\n",
       "   Number of ads in Library  \n",
       "0                     43455  \n",
       "1                       846  \n",
       "2                      1799  \n",
       "3                       680  \n",
       "4                       879  "
      ]
     },
     "execution_count": 24,
     "metadata": {},
     "output_type": "execute_result"
    }
   ],
   "source": [
    "#Inspecting the datasets briefly\n",
    "advertisers.head()\n",
    "\n"
   ]
  },
  {
   "cell_type": "code",
   "execution_count": 25,
   "metadata": {},
   "outputs": [
    {
     "name": "stdout",
     "output_type": "stream",
     "text": [
      "<class 'pandas.core.frame.DataFrame'>\n",
      "RangeIndex: 20832 entries, 0 to 20831\n",
      "Data columns (total 5 columns):\n",
      " #   Column                    Non-Null Count  Dtype  \n",
      "---  ------                    --------------  -----  \n",
      " 0   Page ID                   20832 non-null  float64\n",
      " 1   Page name                 20832 non-null  object \n",
      " 2   Disclaimer                20832 non-null  object \n",
      " 3   Amount spent (INR)        20832 non-null  object \n",
      " 4   Number of ads in Library  20832 non-null  int64  \n",
      "dtypes: float64(1), int64(1), object(3)\n",
      "memory usage: 813.9+ KB\n"
     ]
    },
    {
     "data": {
      "text/html": [
       "<div>\n",
       "<style scoped>\n",
       "    .dataframe tbody tr th:only-of-type {\n",
       "        vertical-align: middle;\n",
       "    }\n",
       "\n",
       "    .dataframe tbody tr th {\n",
       "        vertical-align: top;\n",
       "    }\n",
       "\n",
       "    .dataframe thead th {\n",
       "        text-align: right;\n",
       "    }\n",
       "</style>\n",
       "<table border=\"1\" class=\"dataframe\">\n",
       "  <thead>\n",
       "    <tr style=\"text-align: right;\">\n",
       "      <th></th>\n",
       "      <th>Page ID</th>\n",
       "      <th>Number of ads in Library</th>\n",
       "    </tr>\n",
       "  </thead>\n",
       "  <tbody>\n",
       "    <tr>\n",
       "      <th>count</th>\n",
       "      <td>2.083200e+04</td>\n",
       "      <td>20832.000000</td>\n",
       "    </tr>\n",
       "    <tr>\n",
       "      <th>mean</th>\n",
       "      <td>8.475104e+14</td>\n",
       "      <td>22.981615</td>\n",
       "    </tr>\n",
       "    <tr>\n",
       "      <th>std</th>\n",
       "      <td>7.819865e+15</td>\n",
       "      <td>311.870685</td>\n",
       "    </tr>\n",
       "    <tr>\n",
       "      <th>min</th>\n",
       "      <td>6.115848e+09</td>\n",
       "      <td>1.000000</td>\n",
       "    </tr>\n",
       "    <tr>\n",
       "      <th>25%</th>\n",
       "      <td>1.081315e+14</td>\n",
       "      <td>1.000000</td>\n",
       "    </tr>\n",
       "    <tr>\n",
       "      <th>50%</th>\n",
       "      <td>1.856655e+14</td>\n",
       "      <td>2.000000</td>\n",
       "    </tr>\n",
       "    <tr>\n",
       "      <th>75%</th>\n",
       "      <td>3.075538e+14</td>\n",
       "      <td>9.000000</td>\n",
       "    </tr>\n",
       "    <tr>\n",
       "      <th>max</th>\n",
       "      <td>1.221340e+17</td>\n",
       "      <td>43455.000000</td>\n",
       "    </tr>\n",
       "  </tbody>\n",
       "</table>\n",
       "</div>"
      ],
      "text/plain": [
       "            Page ID  Number of ads in Library\n",
       "count  2.083200e+04              20832.000000\n",
       "mean   8.475104e+14                 22.981615\n",
       "std    7.819865e+15                311.870685\n",
       "min    6.115848e+09                  1.000000\n",
       "25%    1.081315e+14                  1.000000\n",
       "50%    1.856655e+14                  2.000000\n",
       "75%    3.075538e+14                  9.000000\n",
       "max    1.221340e+17              43455.000000"
      ]
     },
     "execution_count": 25,
     "metadata": {},
     "output_type": "execute_result"
    }
   ],
   "source": [
    "advertisers.info()\n",
    "advertisers.describe()"
   ]
  },
  {
   "cell_type": "code",
   "execution_count": 26,
   "metadata": {},
   "outputs": [
    {
     "data": {
      "text/html": [
       "<div>\n",
       "<style scoped>\n",
       "    .dataframe tbody tr th:only-of-type {\n",
       "        vertical-align: middle;\n",
       "    }\n",
       "\n",
       "    .dataframe tbody tr th {\n",
       "        vertical-align: top;\n",
       "    }\n",
       "\n",
       "    .dataframe thead th {\n",
       "        text-align: right;\n",
       "    }\n",
       "</style>\n",
       "<table border=\"1\" class=\"dataframe\">\n",
       "  <thead>\n",
       "    <tr style=\"text-align: right;\">\n",
       "      <th></th>\n",
       "      <th>Location name</th>\n",
       "      <th>Amount spent (INR)</th>\n",
       "    </tr>\n",
       "  </thead>\n",
       "  <tbody>\n",
       "    <tr>\n",
       "      <th>0</th>\n",
       "      <td>Andaman and Nicobar Islands</td>\n",
       "      <td>377858</td>\n",
       "    </tr>\n",
       "    <tr>\n",
       "      <th>1</th>\n",
       "      <td>Andhra Pradesh</td>\n",
       "      <td>100819732</td>\n",
       "    </tr>\n",
       "    <tr>\n",
       "      <th>2</th>\n",
       "      <td>Arunachal Pradesh</td>\n",
       "      <td>1385654</td>\n",
       "    </tr>\n",
       "    <tr>\n",
       "      <th>3</th>\n",
       "      <td>Assam</td>\n",
       "      <td>17478091</td>\n",
       "    </tr>\n",
       "    <tr>\n",
       "      <th>4</th>\n",
       "      <td>Bihar</td>\n",
       "      <td>53619242</td>\n",
       "    </tr>\n",
       "  </tbody>\n",
       "</table>\n",
       "</div>"
      ],
      "text/plain": [
       "                 Location name  Amount spent (INR)\n",
       "0  Andaman and Nicobar Islands              377858\n",
       "1               Andhra Pradesh           100819732\n",
       "2            Arunachal Pradesh             1385654\n",
       "3                        Assam            17478091\n",
       "4                        Bihar            53619242"
      ]
     },
     "execution_count": 26,
     "metadata": {},
     "output_type": "execute_result"
    }
   ],
   "source": [
    "locations.head()"
   ]
  },
  {
   "cell_type": "code",
   "execution_count": 27,
   "metadata": {},
   "outputs": [
    {
     "name": "stdout",
     "output_type": "stream",
     "text": [
      "<class 'pandas.core.frame.DataFrame'>\n",
      "RangeIndex: 36 entries, 0 to 35\n",
      "Data columns (total 2 columns):\n",
      " #   Column              Non-Null Count  Dtype \n",
      "---  ------              --------------  ----- \n",
      " 0   Location name       36 non-null     object\n",
      " 1   Amount spent (INR)  36 non-null     int64 \n",
      "dtypes: int64(1), object(1)\n",
      "memory usage: 704.0+ bytes\n"
     ]
    },
    {
     "data": {
      "text/html": [
       "<div>\n",
       "<style scoped>\n",
       "    .dataframe tbody tr th:only-of-type {\n",
       "        vertical-align: middle;\n",
       "    }\n",
       "\n",
       "    .dataframe tbody tr th {\n",
       "        vertical-align: top;\n",
       "    }\n",
       "\n",
       "    .dataframe thead th {\n",
       "        text-align: right;\n",
       "    }\n",
       "</style>\n",
       "<table border=\"1\" class=\"dataframe\">\n",
       "  <thead>\n",
       "    <tr style=\"text-align: right;\">\n",
       "      <th></th>\n",
       "      <th>Amount spent (INR)</th>\n",
       "    </tr>\n",
       "  </thead>\n",
       "  <tbody>\n",
       "    <tr>\n",
       "      <th>count</th>\n",
       "      <td>3.600000e+01</td>\n",
       "    </tr>\n",
       "    <tr>\n",
       "      <th>mean</th>\n",
       "      <td>3.203361e+07</td>\n",
       "    </tr>\n",
       "    <tr>\n",
       "      <th>std</th>\n",
       "      <td>4.012339e+07</td>\n",
       "    </tr>\n",
       "    <tr>\n",
       "      <th>min</th>\n",
       "      <td>1.984700e+04</td>\n",
       "    </tr>\n",
       "    <tr>\n",
       "      <th>25%</th>\n",
       "      <td>1.498168e+06</td>\n",
       "    </tr>\n",
       "    <tr>\n",
       "      <th>50%</th>\n",
       "      <td>1.559171e+07</td>\n",
       "    </tr>\n",
       "    <tr>\n",
       "      <th>75%</th>\n",
       "      <td>4.506176e+07</td>\n",
       "    </tr>\n",
       "    <tr>\n",
       "      <th>max</th>\n",
       "      <td>1.802523e+08</td>\n",
       "    </tr>\n",
       "  </tbody>\n",
       "</table>\n",
       "</div>"
      ],
      "text/plain": [
       "       Amount spent (INR)\n",
       "count        3.600000e+01\n",
       "mean         3.203361e+07\n",
       "std          4.012339e+07\n",
       "min          1.984700e+04\n",
       "25%          1.498168e+06\n",
       "50%          1.559171e+07\n",
       "75%          4.506176e+07\n",
       "max          1.802523e+08"
      ]
     },
     "execution_count": 27,
     "metadata": {},
     "output_type": "execute_result"
    }
   ],
   "source": [
    "locations.info()\n",
    "locations.describe()"
   ]
  },
  {
   "cell_type": "code",
   "execution_count": 28,
   "metadata": {},
   "outputs": [
    {
     "data": {
      "text/html": [
       "<div>\n",
       "<style scoped>\n",
       "    .dataframe tbody tr th:only-of-type {\n",
       "        vertical-align: middle;\n",
       "    }\n",
       "\n",
       "    .dataframe tbody tr th {\n",
       "        vertical-align: top;\n",
       "    }\n",
       "\n",
       "    .dataframe thead th {\n",
       "        text-align: right;\n",
       "    }\n",
       "</style>\n",
       "<table border=\"1\" class=\"dataframe\">\n",
       "  <thead>\n",
       "    <tr style=\"text-align: right;\">\n",
       "      <th></th>\n",
       "      <th>_id</th>\n",
       "      <th>Sl No</th>\n",
       "      <th>State</th>\n",
       "      <th>PC_Name</th>\n",
       "      <th>Total Electors</th>\n",
       "      <th>Polled (%)</th>\n",
       "      <th>Total Votes</th>\n",
       "      <th>Phase</th>\n",
       "    </tr>\n",
       "  </thead>\n",
       "  <tbody>\n",
       "    <tr>\n",
       "      <th>0</th>\n",
       "      <td>1</td>\n",
       "      <td>1.0</td>\n",
       "      <td>Andaman &amp; Nicobar Islands</td>\n",
       "      <td>Andaman &amp; Nicobar Islands</td>\n",
       "      <td>315148</td>\n",
       "      <td>64.10</td>\n",
       "      <td>202018</td>\n",
       "      <td>1.0</td>\n",
       "    </tr>\n",
       "    <tr>\n",
       "      <th>1</th>\n",
       "      <td>2</td>\n",
       "      <td>2.0</td>\n",
       "      <td>Arunachal Pradesh</td>\n",
       "      <td>Arunachal East</td>\n",
       "      <td>375310</td>\n",
       "      <td>83.31</td>\n",
       "      <td>312658</td>\n",
       "      <td>1.0</td>\n",
       "    </tr>\n",
       "    <tr>\n",
       "      <th>2</th>\n",
       "      <td>3</td>\n",
       "      <td>3.0</td>\n",
       "      <td>Arunachal Pradesh</td>\n",
       "      <td>Arunachal West</td>\n",
       "      <td>517384</td>\n",
       "      <td>73.60</td>\n",
       "      <td>380783</td>\n",
       "      <td>1.0</td>\n",
       "    </tr>\n",
       "    <tr>\n",
       "      <th>3</th>\n",
       "      <td>4</td>\n",
       "      <td>4.0</td>\n",
       "      <td>Assam</td>\n",
       "      <td>Dibrugarh</td>\n",
       "      <td>1659588</td>\n",
       "      <td>76.75</td>\n",
       "      <td>1273744</td>\n",
       "      <td>1.0</td>\n",
       "    </tr>\n",
       "    <tr>\n",
       "      <th>4</th>\n",
       "      <td>5</td>\n",
       "      <td>5.0</td>\n",
       "      <td>Assam</td>\n",
       "      <td>Jorhat</td>\n",
       "      <td>1727121</td>\n",
       "      <td>79.89</td>\n",
       "      <td>1379749</td>\n",
       "      <td>1.0</td>\n",
       "    </tr>\n",
       "  </tbody>\n",
       "</table>\n",
       "</div>"
      ],
      "text/plain": [
       "   _id  Sl No                      State                    PC_Name  \\\n",
       "0    1    1.0  Andaman & Nicobar Islands  Andaman & Nicobar Islands   \n",
       "1    2    2.0          Arunachal Pradesh             Arunachal East   \n",
       "2    3    3.0          Arunachal Pradesh             Arunachal West   \n",
       "3    4    4.0                      Assam                  Dibrugarh   \n",
       "4    5    5.0                      Assam                     Jorhat   \n",
       "\n",
       "   Total Electors  Polled (%)  Total Votes  Phase  \n",
       "0          315148       64.10       202018    1.0  \n",
       "1          375310       83.31       312658    1.0  \n",
       "2          517384       73.60       380783    1.0  \n",
       "3         1659588       76.75      1273744    1.0  \n",
       "4         1727121       79.89      1379749    1.0  "
      ]
     },
     "execution_count": 28,
     "metadata": {},
     "output_type": "execute_result"
    }
   ],
   "source": [
    "results.head()"
   ]
  },
  {
   "cell_type": "code",
   "execution_count": 29,
   "metadata": {},
   "outputs": [
    {
     "name": "stdout",
     "output_type": "stream",
     "text": [
      "<class 'pandas.core.frame.DataFrame'>\n",
      "RangeIndex: 550 entries, 0 to 549\n",
      "Data columns (total 8 columns):\n",
      " #   Column          Non-Null Count  Dtype  \n",
      "---  ------          --------------  -----  \n",
      " 0   _id             550 non-null    int64  \n",
      " 1   Sl No           543 non-null    float64\n",
      " 2   State           543 non-null    object \n",
      " 3   PC_Name         550 non-null    object \n",
      " 4   Total Electors  550 non-null    int64  \n",
      " 5   Polled (%)      550 non-null    float64\n",
      " 6   Total Votes     550 non-null    int64  \n",
      " 7   Phase           492 non-null    float64\n",
      "dtypes: float64(3), int64(3), object(2)\n",
      "memory usage: 34.5+ KB\n"
     ]
    },
    {
     "data": {
      "text/html": [
       "<div>\n",
       "<style scoped>\n",
       "    .dataframe tbody tr th:only-of-type {\n",
       "        vertical-align: middle;\n",
       "    }\n",
       "\n",
       "    .dataframe tbody tr th {\n",
       "        vertical-align: top;\n",
       "    }\n",
       "\n",
       "    .dataframe thead th {\n",
       "        text-align: right;\n",
       "    }\n",
       "</style>\n",
       "<table border=\"1\" class=\"dataframe\">\n",
       "  <thead>\n",
       "    <tr style=\"text-align: right;\">\n",
       "      <th></th>\n",
       "      <th>_id</th>\n",
       "      <th>Sl No</th>\n",
       "      <th>Total Electors</th>\n",
       "      <th>Polled (%)</th>\n",
       "      <th>Total Votes</th>\n",
       "      <th>Phase</th>\n",
       "    </tr>\n",
       "  </thead>\n",
       "  <tbody>\n",
       "    <tr>\n",
       "      <th>count</th>\n",
       "      <td>550.000000</td>\n",
       "      <td>543.000000</td>\n",
       "      <td>5.500000e+02</td>\n",
       "      <td>550.000000</td>\n",
       "      <td>5.500000e+02</td>\n",
       "      <td>492.000000</td>\n",
       "    </tr>\n",
       "    <tr>\n",
       "      <th>mean</th>\n",
       "      <td>275.500000</td>\n",
       "      <td>41.961326</td>\n",
       "      <td>3.549276e+06</td>\n",
       "      <td>66.536509</td>\n",
       "      <td>2.335049e+06</td>\n",
       "      <td>3.160569</td>\n",
       "    </tr>\n",
       "    <tr>\n",
       "      <th>std</th>\n",
       "      <td>158.915596</td>\n",
       "      <td>26.353550</td>\n",
       "      <td>1.593337e+07</td>\n",
       "      <td>9.824336</td>\n",
       "      <td>1.055306e+07</td>\n",
       "      <td>1.637341</td>\n",
       "    </tr>\n",
       "    <tr>\n",
       "      <th>min</th>\n",
       "      <td>1.000000</td>\n",
       "      <td>1.000000</td>\n",
       "      <td>5.778400e+04</td>\n",
       "      <td>38.490000</td>\n",
       "      <td>4.863000e+04</td>\n",
       "      <td>1.000000</td>\n",
       "    </tr>\n",
       "    <tr>\n",
       "      <th>25%</th>\n",
       "      <td>138.250000</td>\n",
       "      <td>20.000000</td>\n",
       "      <td>1.634814e+06</td>\n",
       "      <td>58.537500</td>\n",
       "      <td>1.055907e+06</td>\n",
       "      <td>2.000000</td>\n",
       "    </tr>\n",
       "    <tr>\n",
       "      <th>50%</th>\n",
       "      <td>275.500000</td>\n",
       "      <td>39.000000</td>\n",
       "      <td>1.823793e+06</td>\n",
       "      <td>65.455000</td>\n",
       "      <td>1.176107e+06</td>\n",
       "      <td>3.000000</td>\n",
       "    </tr>\n",
       "    <tr>\n",
       "      <th>75%</th>\n",
       "      <td>412.750000</td>\n",
       "      <td>61.000000</td>\n",
       "      <td>1.992416e+06</td>\n",
       "      <td>74.592500</td>\n",
       "      <td>1.352293e+06</td>\n",
       "      <td>4.000000</td>\n",
       "    </tr>\n",
       "    <tr>\n",
       "      <th>max</th>\n",
       "      <td>550.000000</td>\n",
       "      <td>102.000000</td>\n",
       "      <td>1.770756e+08</td>\n",
       "      <td>92.080000</td>\n",
       "      <td>1.224693e+08</td>\n",
       "      <td>6.000000</td>\n",
       "    </tr>\n",
       "  </tbody>\n",
       "</table>\n",
       "</div>"
      ],
      "text/plain": [
       "              _id       Sl No  Total Electors  Polled (%)   Total Votes  \\\n",
       "count  550.000000  543.000000    5.500000e+02  550.000000  5.500000e+02   \n",
       "mean   275.500000   41.961326    3.549276e+06   66.536509  2.335049e+06   \n",
       "std    158.915596   26.353550    1.593337e+07    9.824336  1.055306e+07   \n",
       "min      1.000000    1.000000    5.778400e+04   38.490000  4.863000e+04   \n",
       "25%    138.250000   20.000000    1.634814e+06   58.537500  1.055907e+06   \n",
       "50%    275.500000   39.000000    1.823793e+06   65.455000  1.176107e+06   \n",
       "75%    412.750000   61.000000    1.992416e+06   74.592500  1.352293e+06   \n",
       "max    550.000000  102.000000    1.770756e+08   92.080000  1.224693e+08   \n",
       "\n",
       "            Phase  \n",
       "count  492.000000  \n",
       "mean     3.160569  \n",
       "std      1.637341  \n",
       "min      1.000000  \n",
       "25%      2.000000  \n",
       "50%      3.000000  \n",
       "75%      4.000000  \n",
       "max      6.000000  "
      ]
     },
     "execution_count": 29,
     "metadata": {},
     "output_type": "execute_result"
    }
   ],
   "source": [
    "results.info()\n",
    "results.describe()"
   ]
  },
  {
   "cell_type": "code",
   "execution_count": 30,
   "metadata": {},
   "outputs": [
    {
     "name": "stdout",
     "output_type": "stream",
     "text": [
      "The null values in advertisers are: Page ID                     0\n",
      "Page name                   0\n",
      "Disclaimer                  0\n",
      "Amount spent (INR)          0\n",
      "Number of ads in Library    0\n",
      "dtype: int64\n",
      "The null values in locations are\n",
      ": Location name         0\n",
      "Amount spent (INR)    0\n",
      "dtype: int64\n",
      "The null values in results are\n",
      ": _id                0\n",
      "Sl No              7\n",
      "State              7\n",
      "PC_Name            0\n",
      "Total Electors     0\n",
      "Polled (%)         0\n",
      "Total Votes        0\n",
      "Phase             58\n",
      "dtype: int64\n"
     ]
    }
   ],
   "source": [
    "print(\"The null values in advertisers are:\", advertisers.isnull().sum() )\n",
    "print(\"The null values in locations are\\n:\", locations.isnull().sum() )\n",
    "print(\"The null values in results are\\n:\", results.isnull().sum() )"
   ]
  },
  {
   "cell_type": "code",
   "execution_count": 31,
   "metadata": {},
   "outputs": [
    {
     "data": {
      "text/html": [
       "<div>\n",
       "<style scoped>\n",
       "    .dataframe tbody tr th:only-of-type {\n",
       "        vertical-align: middle;\n",
       "    }\n",
       "\n",
       "    .dataframe tbody tr th {\n",
       "        vertical-align: top;\n",
       "    }\n",
       "\n",
       "    .dataframe thead th {\n",
       "        text-align: right;\n",
       "    }\n",
       "</style>\n",
       "<table border=\"1\" class=\"dataframe\">\n",
       "  <thead>\n",
       "    <tr style=\"text-align: right;\">\n",
       "      <th></th>\n",
       "      <th>_id</th>\n",
       "      <th>Sl No</th>\n",
       "      <th>State</th>\n",
       "      <th>PC_Name</th>\n",
       "      <th>Total Electors</th>\n",
       "      <th>Polled (%)</th>\n",
       "      <th>Total Votes</th>\n",
       "      <th>Phase</th>\n",
       "      <th>Location name</th>\n",
       "      <th>Amount spent (INR)</th>\n",
       "    </tr>\n",
       "  </thead>\n",
       "  <tbody>\n",
       "    <tr>\n",
       "      <th>0</th>\n",
       "      <td>1</td>\n",
       "      <td>1.0</td>\n",
       "      <td>andaman &amp; nicobar islands</td>\n",
       "      <td>Andaman &amp; Nicobar Islands</td>\n",
       "      <td>315148</td>\n",
       "      <td>64.10</td>\n",
       "      <td>202018</td>\n",
       "      <td>1.0</td>\n",
       "      <td>NaN</td>\n",
       "      <td>NaN</td>\n",
       "    </tr>\n",
       "    <tr>\n",
       "      <th>1</th>\n",
       "      <td>2</td>\n",
       "      <td>2.0</td>\n",
       "      <td>arunachal pradesh</td>\n",
       "      <td>Arunachal East</td>\n",
       "      <td>375310</td>\n",
       "      <td>83.31</td>\n",
       "      <td>312658</td>\n",
       "      <td>1.0</td>\n",
       "      <td>arunachal pradesh</td>\n",
       "      <td>1385654.0</td>\n",
       "    </tr>\n",
       "    <tr>\n",
       "      <th>2</th>\n",
       "      <td>3</td>\n",
       "      <td>3.0</td>\n",
       "      <td>arunachal pradesh</td>\n",
       "      <td>Arunachal West</td>\n",
       "      <td>517384</td>\n",
       "      <td>73.60</td>\n",
       "      <td>380783</td>\n",
       "      <td>1.0</td>\n",
       "      <td>arunachal pradesh</td>\n",
       "      <td>1385654.0</td>\n",
       "    </tr>\n",
       "    <tr>\n",
       "      <th>3</th>\n",
       "      <td>4</td>\n",
       "      <td>4.0</td>\n",
       "      <td>assam</td>\n",
       "      <td>Dibrugarh</td>\n",
       "      <td>1659588</td>\n",
       "      <td>76.75</td>\n",
       "      <td>1273744</td>\n",
       "      <td>1.0</td>\n",
       "      <td>assam</td>\n",
       "      <td>17478091.0</td>\n",
       "    </tr>\n",
       "    <tr>\n",
       "      <th>4</th>\n",
       "      <td>5</td>\n",
       "      <td>5.0</td>\n",
       "      <td>assam</td>\n",
       "      <td>Jorhat</td>\n",
       "      <td>1727121</td>\n",
       "      <td>79.89</td>\n",
       "      <td>1379749</td>\n",
       "      <td>1.0</td>\n",
       "      <td>assam</td>\n",
       "      <td>17478091.0</td>\n",
       "    </tr>\n",
       "  </tbody>\n",
       "</table>\n",
       "</div>"
      ],
      "text/plain": [
       "   _id  Sl No                      State                    PC_Name  \\\n",
       "0    1    1.0  andaman & nicobar islands  Andaman & Nicobar Islands   \n",
       "1    2    2.0          arunachal pradesh             Arunachal East   \n",
       "2    3    3.0          arunachal pradesh             Arunachal West   \n",
       "3    4    4.0                      assam                  Dibrugarh   \n",
       "4    5    5.0                      assam                     Jorhat   \n",
       "\n",
       "   Total Electors  Polled (%)  Total Votes  Phase      Location name  \\\n",
       "0          315148       64.10       202018    1.0                NaN   \n",
       "1          375310       83.31       312658    1.0  arunachal pradesh   \n",
       "2          517384       73.60       380783    1.0  arunachal pradesh   \n",
       "3         1659588       76.75      1273744    1.0              assam   \n",
       "4         1727121       79.89      1379749    1.0              assam   \n",
       "\n",
       "   Amount spent (INR)  \n",
       "0                 NaN  \n",
       "1           1385654.0  \n",
       "2           1385654.0  \n",
       "3          17478091.0  \n",
       "4          17478091.0  "
      ]
     },
     "execution_count": 31,
     "metadata": {},
     "output_type": "execute_result"
    }
   ],
   "source": [
    "#Cleaning and trimming whitespaves in both results and locations for state and location name respectively\n",
    "results['State'] = results['State'].str.strip().str.lower()\n",
    "\n",
    "locations['Location name'] = locations['Location name'].str.strip().str.lower()\n",
    "\n",
    "#Merging locations and results data\n",
    "loc_results = results.merge(\n",
    "    locations,\n",
    "    left_on='State',\n",
    "    right_on='Location name',\n",
    "    how='left'\n",
    ")\n",
    "\n",
    "loc_results.head()"
   ]
  },
  {
   "cell_type": "code",
   "execution_count": 32,
   "metadata": {},
   "outputs": [
    {
     "data": {
      "application/vnd.plotly.v1+json": {
       "config": {
        "plotlyServerURL": "https://plot.ly"
       },
       "data": [
        {
         "alignmentgroup": "True",
         "bingroup": "x",
         "histfunc": "sum",
         "hovertemplate": "State=%{x}<br>sum of Amount Spent (INR)=%{y}<extra></extra>",
         "legendgroup": "",
         "marker": {
          "color": "#636efa",
          "pattern": {
           "shape": ""
          }
         },
         "name": "",
         "offsetgroup": "",
         "orientation": "v",
         "showlegend": false,
         "type": "histogram",
         "x": [
          "odisha",
          "odisha",
          "odisha",
          "odisha",
          "odisha",
          "odisha",
          "odisha",
          "odisha",
          "odisha",
          "odisha",
          "odisha",
          "odisha",
          "odisha",
          "odisha",
          "odisha",
          "odisha",
          "odisha",
          "odisha",
          "odisha",
          "odisha",
          "odisha",
          "maharashtra",
          "maharashtra",
          "maharashtra",
          "maharashtra",
          "maharashtra",
          "maharashtra",
          "maharashtra",
          "maharashtra",
          "maharashtra",
          "maharashtra",
          "maharashtra",
          "maharashtra",
          "maharashtra",
          "maharashtra",
          "maharashtra",
          "maharashtra",
          "maharashtra",
          "maharashtra",
          "maharashtra",
          "maharashtra",
          "maharashtra",
          "maharashtra",
          "maharashtra",
          "maharashtra",
          "maharashtra",
          "maharashtra",
          "maharashtra",
          "maharashtra",
          "maharashtra",
          "maharashtra",
          "maharashtra",
          "maharashtra",
          "maharashtra",
          "maharashtra",
          "maharashtra",
          "maharashtra",
          "maharashtra",
          "maharashtra",
          "maharashtra",
          "maharashtra",
          "maharashtra",
          "maharashtra",
          "maharashtra",
          "maharashtra",
          "maharashtra",
          "maharashtra",
          "maharashtra",
          "maharashtra",
          "andhra pradesh",
          "andhra pradesh",
          "andhra pradesh",
          "andhra pradesh",
          "andhra pradesh",
          "andhra pradesh",
          "andhra pradesh",
          "andhra pradesh",
          "andhra pradesh",
          "andhra pradesh",
          "andhra pradesh",
          "andhra pradesh",
          "andhra pradesh",
          "andhra pradesh",
          "andhra pradesh",
          "andhra pradesh",
          "andhra pradesh",
          "andhra pradesh",
          "andhra pradesh",
          "andhra pradesh",
          "andhra pradesh",
          "andhra pradesh",
          "andhra pradesh",
          "andhra pradesh",
          "andhra pradesh",
          "uttar pradesh",
          "uttar pradesh",
          "uttar pradesh",
          "uttar pradesh",
          "uttar pradesh",
          "uttar pradesh",
          "uttar pradesh",
          "uttar pradesh",
          "uttar pradesh",
          "uttar pradesh",
          "uttar pradesh",
          "uttar pradesh",
          "uttar pradesh",
          "uttar pradesh",
          "uttar pradesh",
          "uttar pradesh",
          "uttar pradesh",
          "uttar pradesh",
          "uttar pradesh",
          "uttar pradesh",
          "uttar pradesh",
          "uttar pradesh",
          "uttar pradesh",
          "uttar pradesh",
          "uttar pradesh",
          "uttar pradesh",
          "uttar pradesh",
          "uttar pradesh",
          "uttar pradesh",
          "uttar pradesh",
          "uttar pradesh",
          "uttar pradesh",
          "uttar pradesh",
          "uttar pradesh",
          "uttar pradesh",
          "uttar pradesh",
          "uttar pradesh",
          "uttar pradesh",
          "uttar pradesh",
          "uttar pradesh",
          "uttar pradesh",
          "uttar pradesh",
          "uttar pradesh",
          "uttar pradesh",
          "uttar pradesh",
          "uttar pradesh",
          "uttar pradesh",
          "uttar pradesh",
          "uttar pradesh",
          "uttar pradesh",
          "uttar pradesh",
          "uttar pradesh",
          "uttar pradesh",
          "uttar pradesh",
          "uttar pradesh",
          "uttar pradesh",
          "uttar pradesh",
          "uttar pradesh",
          "uttar pradesh",
          "uttar pradesh",
          "uttar pradesh",
          "uttar pradesh",
          "uttar pradesh",
          "uttar pradesh",
          "uttar pradesh",
          "uttar pradesh",
          "uttar pradesh",
          "uttar pradesh",
          "uttar pradesh",
          "uttar pradesh",
          "uttar pradesh",
          "uttar pradesh",
          "uttar pradesh",
          "uttar pradesh",
          "uttar pradesh",
          "uttar pradesh",
          "uttar pradesh",
          "uttar pradesh",
          "uttar pradesh",
          "uttar pradesh",
          "west bengal",
          "west bengal",
          "west bengal",
          "west bengal",
          "west bengal",
          "west bengal",
          "west bengal",
          "west bengal",
          "west bengal",
          "west bengal",
          "west bengal",
          "west bengal",
          "west bengal",
          "west bengal",
          "west bengal",
          "west bengal",
          "west bengal",
          "west bengal",
          "west bengal",
          "west bengal",
          "west bengal",
          "west bengal",
          "west bengal",
          "west bengal",
          "west bengal",
          "west bengal",
          "west bengal",
          "west bengal",
          "west bengal",
          "west bengal",
          "west bengal",
          "west bengal",
          "west bengal",
          "west bengal",
          "west bengal",
          "west bengal",
          "west bengal",
          "west bengal",
          "west bengal",
          "west bengal",
          "west bengal",
          "west bengal",
          "tamil nadu",
          "tamil nadu",
          "tamil nadu",
          "tamil nadu",
          "tamil nadu",
          "tamil nadu",
          "tamil nadu",
          "tamil nadu",
          "tamil nadu",
          "tamil nadu",
          "tamil nadu",
          "tamil nadu",
          "tamil nadu",
          "tamil nadu",
          "tamil nadu",
          "tamil nadu",
          "tamil nadu",
          "tamil nadu",
          "tamil nadu",
          "tamil nadu",
          "tamil nadu",
          "tamil nadu",
          "tamil nadu",
          "tamil nadu",
          "tamil nadu",
          "tamil nadu",
          "tamil nadu",
          "tamil nadu",
          "tamil nadu",
          "tamil nadu",
          "tamil nadu",
          "tamil nadu",
          "tamil nadu",
          "tamil nadu",
          "tamil nadu",
          "tamil nadu",
          "tamil nadu",
          "tamil nadu",
          "tamil nadu",
          "telangana",
          "telangana",
          "telangana",
          "telangana",
          "telangana",
          "telangana",
          "telangana",
          "telangana",
          "telangana",
          "telangana",
          "telangana",
          "telangana",
          "telangana",
          "telangana",
          "telangana",
          "telangana",
          "telangana",
          "bihar",
          "bihar",
          "bihar",
          "bihar",
          "bihar",
          "bihar",
          "bihar",
          "bihar",
          "bihar",
          "bihar",
          "bihar",
          "bihar",
          "bihar",
          "bihar",
          "bihar",
          "bihar",
          "bihar",
          "bihar",
          "bihar",
          "bihar",
          "bihar",
          "bihar",
          "bihar",
          "bihar",
          "bihar",
          "bihar",
          "bihar",
          "bihar",
          "bihar",
          "bihar",
          "bihar",
          "bihar",
          "bihar",
          "bihar",
          "bihar",
          "bihar",
          "bihar",
          "bihar",
          "bihar",
          "bihar",
          "haryana",
          "haryana",
          "haryana",
          "haryana",
          "haryana",
          "haryana",
          "haryana",
          "haryana",
          "haryana",
          "haryana",
          "karnataka",
          "karnataka",
          "karnataka",
          "karnataka",
          "karnataka",
          "karnataka",
          "karnataka",
          "karnataka",
          "karnataka",
          "karnataka",
          "karnataka",
          "karnataka",
          "karnataka",
          "karnataka",
          "karnataka",
          "karnataka",
          "karnataka",
          "karnataka",
          "karnataka",
          "karnataka",
          "karnataka",
          "karnataka",
          "karnataka",
          "karnataka",
          "karnataka",
          "karnataka",
          "karnataka",
          "karnataka",
          "rajasthan",
          "rajasthan",
          "rajasthan",
          "rajasthan",
          "rajasthan",
          "rajasthan",
          "rajasthan",
          "rajasthan",
          "rajasthan",
          "rajasthan",
          "rajasthan",
          "rajasthan",
          "rajasthan",
          "rajasthan",
          "rajasthan",
          "rajasthan",
          "rajasthan",
          "rajasthan",
          "rajasthan",
          "rajasthan",
          "rajasthan",
          "rajasthan",
          "rajasthan",
          "rajasthan",
          "rajasthan",
          "gujarat",
          "gujarat",
          "gujarat",
          "gujarat",
          "gujarat",
          "gujarat",
          "gujarat",
          "gujarat",
          "gujarat",
          "gujarat",
          "gujarat",
          "gujarat",
          "gujarat",
          "gujarat",
          "gujarat",
          "gujarat",
          "gujarat",
          "gujarat",
          "gujarat",
          "gujarat",
          "gujarat",
          "gujarat",
          "gujarat",
          "gujarat",
          "gujarat",
          "madhya pradesh",
          "madhya pradesh",
          "madhya pradesh",
          "madhya pradesh",
          "madhya pradesh",
          "madhya pradesh",
          "madhya pradesh",
          "madhya pradesh",
          "madhya pradesh",
          "madhya pradesh",
          "madhya pradesh",
          "madhya pradesh",
          "madhya pradesh",
          "madhya pradesh",
          "madhya pradesh",
          "madhya pradesh",
          "madhya pradesh",
          "madhya pradesh",
          "madhya pradesh",
          "madhya pradesh",
          "madhya pradesh",
          "madhya pradesh",
          "madhya pradesh",
          "madhya pradesh",
          "madhya pradesh",
          "madhya pradesh",
          "madhya pradesh",
          "madhya pradesh",
          "madhya pradesh",
          "kerala",
          "kerala",
          "kerala",
          "kerala",
          "kerala",
          "kerala",
          "kerala",
          "kerala",
          "kerala",
          "kerala",
          "kerala",
          "kerala",
          "kerala",
          "kerala",
          "kerala",
          "kerala",
          "kerala",
          "kerala",
          "kerala",
          "kerala",
          "assam",
          "assam",
          "assam",
          "assam",
          "assam",
          "assam",
          "assam",
          "assam",
          "assam",
          "assam",
          "assam",
          "assam",
          "assam",
          "assam",
          "jharkhand",
          "jharkhand",
          "jharkhand",
          "jharkhand",
          "jharkhand",
          "jharkhand",
          "jharkhand",
          "jharkhand",
          "jharkhand",
          "jharkhand",
          "jharkhand",
          "jharkhand",
          "jharkhand",
          "jharkhand",
          "chhattisgarh",
          "chhattisgarh",
          "chhattisgarh",
          "chhattisgarh",
          "chhattisgarh",
          "chhattisgarh",
          "chhattisgarh",
          "chhattisgarh",
          "chhattisgarh",
          "chhattisgarh",
          "chhattisgarh",
          "himachal pradesh",
          "himachal pradesh",
          "himachal pradesh",
          "himachal pradesh",
          "uttarakhand",
          "uttarakhand",
          "uttarakhand",
          "uttarakhand",
          "uttarakhand",
          "jammu and kashmir",
          "jammu and kashmir",
          "jammu and kashmir",
          "jammu and kashmir",
          "jammu and kashmir",
          "chandigarh",
          "sikkim",
          "goa",
          "goa",
          "tripura",
          "tripura",
          "puducherry",
          "arunachal pradesh",
          "arunachal pradesh",
          "manipur",
          "manipur",
          "manipur",
          "meghalaya",
          "meghalaya",
          "nagaland",
          "mizoram",
          "lakshadweep",
          "andaman & nicobar islands",
          null,
          null,
          "dadra & nagar haveli and\ndaman & diu",
          "dadra & nagar haveli and\ndaman & diu",
          null,
          null,
          "ladakh",
          null,
          "nct of delhi",
          "nct of delhi",
          "nct of delhi",
          "nct of delhi",
          "nct of delhi",
          "nct of delhi",
          "nct of delhi",
          null,
          "punjab",
          "punjab",
          "punjab",
          "punjab",
          "punjab",
          "punjab",
          "punjab",
          "punjab",
          "punjab",
          "punjab",
          "punjab",
          "punjab",
          "punjab",
          null
         ],
         "xaxis": "x",
         "y": [
          180252277,
          180252277,
          180252277,
          180252277,
          180252277,
          180252277,
          180252277,
          180252277,
          180252277,
          180252277,
          180252277,
          180252277,
          180252277,
          180252277,
          180252277,
          180252277,
          180252277,
          180252277,
          180252277,
          180252277,
          180252277,
          101917091,
          101917091,
          101917091,
          101917091,
          101917091,
          101917091,
          101917091,
          101917091,
          101917091,
          101917091,
          101917091,
          101917091,
          101917091,
          101917091,
          101917091,
          101917091,
          101917091,
          101917091,
          101917091,
          101917091,
          101917091,
          101917091,
          101917091,
          101917091,
          101917091,
          101917091,
          101917091,
          101917091,
          101917091,
          101917091,
          101917091,
          101917091,
          101917091,
          101917091,
          101917091,
          101917091,
          101917091,
          101917091,
          101917091,
          101917091,
          101917091,
          101917091,
          101917091,
          101917091,
          101917091,
          101917091,
          101917091,
          101917091,
          100819732,
          100819732,
          100819732,
          100819732,
          100819732,
          100819732,
          100819732,
          100819732,
          100819732,
          100819732,
          100819732,
          100819732,
          100819732,
          100819732,
          100819732,
          100819732,
          100819732,
          100819732,
          100819732,
          100819732,
          100819732,
          100819732,
          100819732,
          100819732,
          100819732,
          89668131,
          89668131,
          89668131,
          89668131,
          89668131,
          89668131,
          89668131,
          89668131,
          89668131,
          89668131,
          89668131,
          89668131,
          89668131,
          89668131,
          89668131,
          89668131,
          89668131,
          89668131,
          89668131,
          89668131,
          89668131,
          89668131,
          89668131,
          89668131,
          89668131,
          89668131,
          89668131,
          89668131,
          89668131,
          89668131,
          89668131,
          89668131,
          89668131,
          89668131,
          89668131,
          89668131,
          89668131,
          89668131,
          89668131,
          89668131,
          89668131,
          89668131,
          89668131,
          89668131,
          89668131,
          89668131,
          89668131,
          89668131,
          89668131,
          89668131,
          89668131,
          89668131,
          89668131,
          89668131,
          89668131,
          89668131,
          89668131,
          89668131,
          89668131,
          89668131,
          89668131,
          89668131,
          89668131,
          89668131,
          89668131,
          89668131,
          89668131,
          89668131,
          89668131,
          89668131,
          89668131,
          89668131,
          89668131,
          89668131,
          89668131,
          89668131,
          89668131,
          89668131,
          89668131,
          89668131,
          77244996,
          77244996,
          77244996,
          77244996,
          77244996,
          77244996,
          77244996,
          77244996,
          77244996,
          77244996,
          77244996,
          77244996,
          77244996,
          77244996,
          77244996,
          77244996,
          77244996,
          77244996,
          77244996,
          77244996,
          77244996,
          77244996,
          77244996,
          77244996,
          77244996,
          77244996,
          77244996,
          77244996,
          77244996,
          77244996,
          77244996,
          77244996,
          77244996,
          77244996,
          77244996,
          77244996,
          77244996,
          77244996,
          77244996,
          77244996,
          77244996,
          77244996,
          76622608,
          76622608,
          76622608,
          76622608,
          76622608,
          76622608,
          76622608,
          76622608,
          76622608,
          76622608,
          76622608,
          76622608,
          76622608,
          76622608,
          76622608,
          76622608,
          76622608,
          76622608,
          76622608,
          76622608,
          76622608,
          76622608,
          76622608,
          76622608,
          76622608,
          76622608,
          76622608,
          76622608,
          76622608,
          76622608,
          76622608,
          76622608,
          76622608,
          76622608,
          76622608,
          76622608,
          76622608,
          76622608,
          76622608,
          54496166,
          54496166,
          54496166,
          54496166,
          54496166,
          54496166,
          54496166,
          54496166,
          54496166,
          54496166,
          54496166,
          54496166,
          54496166,
          54496166,
          54496166,
          54496166,
          54496166,
          53619242,
          53619242,
          53619242,
          53619242,
          53619242,
          53619242,
          53619242,
          53619242,
          53619242,
          53619242,
          53619242,
          53619242,
          53619242,
          53619242,
          53619242,
          53619242,
          53619242,
          53619242,
          53619242,
          53619242,
          53619242,
          53619242,
          53619242,
          53619242,
          53619242,
          53619242,
          53619242,
          53619242,
          53619242,
          53619242,
          53619242,
          53619242,
          53619242,
          53619242,
          53619242,
          53619242,
          53619242,
          53619242,
          53619242,
          53619242,
          41683411,
          41683411,
          41683411,
          41683411,
          41683411,
          41683411,
          41683411,
          41683411,
          41683411,
          41683411,
          41659397,
          41659397,
          41659397,
          41659397,
          41659397,
          41659397,
          41659397,
          41659397,
          41659397,
          41659397,
          41659397,
          41659397,
          41659397,
          41659397,
          41659397,
          41659397,
          41659397,
          41659397,
          41659397,
          41659397,
          41659397,
          41659397,
          41659397,
          41659397,
          41659397,
          41659397,
          41659397,
          41659397,
          41268323,
          41268323,
          41268323,
          41268323,
          41268323,
          41268323,
          41268323,
          41268323,
          41268323,
          41268323,
          41268323,
          41268323,
          41268323,
          41268323,
          41268323,
          41268323,
          41268323,
          41268323,
          41268323,
          41268323,
          41268323,
          41268323,
          41268323,
          41268323,
          41268323,
          40425399,
          40425399,
          40425399,
          40425399,
          40425399,
          40425399,
          40425399,
          40425399,
          40425399,
          40425399,
          40425399,
          40425399,
          40425399,
          40425399,
          40425399,
          40425399,
          40425399,
          40425399,
          40425399,
          40425399,
          40425399,
          40425399,
          40425399,
          40425399,
          40425399,
          39992952,
          39992952,
          39992952,
          39992952,
          39992952,
          39992952,
          39992952,
          39992952,
          39992952,
          39992952,
          39992952,
          39992952,
          39992952,
          39992952,
          39992952,
          39992952,
          39992952,
          39992952,
          39992952,
          39992952,
          39992952,
          39992952,
          39992952,
          39992952,
          39992952,
          39992952,
          39992952,
          39992952,
          39992952,
          22681201,
          22681201,
          22681201,
          22681201,
          22681201,
          22681201,
          22681201,
          22681201,
          22681201,
          22681201,
          22681201,
          22681201,
          22681201,
          22681201,
          22681201,
          22681201,
          22681201,
          22681201,
          22681201,
          22681201,
          17478091,
          17478091,
          17478091,
          17478091,
          17478091,
          17478091,
          17478091,
          17478091,
          17478091,
          17478091,
          17478091,
          17478091,
          17478091,
          17478091,
          16380139,
          16380139,
          16380139,
          16380139,
          16380139,
          16380139,
          16380139,
          16380139,
          16380139,
          16380139,
          16380139,
          16380139,
          16380139,
          16380139,
          14803286,
          14803286,
          14803286,
          14803286,
          14803286,
          14803286,
          14803286,
          14803286,
          14803286,
          14803286,
          14803286,
          12011616,
          12011616,
          12011616,
          12011616,
          7140897,
          7140897,
          7140897,
          7140897,
          7140897,
          6575061,
          6575061,
          6575061,
          6575061,
          6575061,
          6507258,
          4379297,
          2164209,
          2164209,
          1857459,
          1857459,
          1535672,
          1385654,
          1385654,
          889062,
          889062,
          889062,
          884220,
          884220,
          599170,
          481052,
          19847,
          null,
          null,
          null,
          null,
          null,
          null,
          null,
          null,
          null,
          null,
          null,
          null,
          null,
          null,
          null,
          null,
          null,
          null,
          null,
          null,
          null,
          null,
          null,
          null,
          null,
          null,
          null,
          null,
          null,
          null,
          null
         ],
         "yaxis": "y"
        }
       ],
       "layout": {
        "barmode": "relative",
        "legend": {
         "tracegroupgap": 0
        },
        "template": {
         "data": {
          "bar": [
           {
            "error_x": {
             "color": "#2a3f5f"
            },
            "error_y": {
             "color": "#2a3f5f"
            },
            "marker": {
             "line": {
              "color": "#E5ECF6",
              "width": 0.5
             },
             "pattern": {
              "fillmode": "overlay",
              "size": 10,
              "solidity": 0.2
             }
            },
            "type": "bar"
           }
          ],
          "barpolar": [
           {
            "marker": {
             "line": {
              "color": "#E5ECF6",
              "width": 0.5
             },
             "pattern": {
              "fillmode": "overlay",
              "size": 10,
              "solidity": 0.2
             }
            },
            "type": "barpolar"
           }
          ],
          "carpet": [
           {
            "aaxis": {
             "endlinecolor": "#2a3f5f",
             "gridcolor": "white",
             "linecolor": "white",
             "minorgridcolor": "white",
             "startlinecolor": "#2a3f5f"
            },
            "baxis": {
             "endlinecolor": "#2a3f5f",
             "gridcolor": "white",
             "linecolor": "white",
             "minorgridcolor": "white",
             "startlinecolor": "#2a3f5f"
            },
            "type": "carpet"
           }
          ],
          "choropleth": [
           {
            "colorbar": {
             "outlinewidth": 0,
             "ticks": ""
            },
            "type": "choropleth"
           }
          ],
          "contour": [
           {
            "colorbar": {
             "outlinewidth": 0,
             "ticks": ""
            },
            "colorscale": [
             [
              0,
              "#0d0887"
             ],
             [
              0.1111111111111111,
              "#46039f"
             ],
             [
              0.2222222222222222,
              "#7201a8"
             ],
             [
              0.3333333333333333,
              "#9c179e"
             ],
             [
              0.4444444444444444,
              "#bd3786"
             ],
             [
              0.5555555555555556,
              "#d8576b"
             ],
             [
              0.6666666666666666,
              "#ed7953"
             ],
             [
              0.7777777777777778,
              "#fb9f3a"
             ],
             [
              0.8888888888888888,
              "#fdca26"
             ],
             [
              1,
              "#f0f921"
             ]
            ],
            "type": "contour"
           }
          ],
          "contourcarpet": [
           {
            "colorbar": {
             "outlinewidth": 0,
             "ticks": ""
            },
            "type": "contourcarpet"
           }
          ],
          "heatmap": [
           {
            "colorbar": {
             "outlinewidth": 0,
             "ticks": ""
            },
            "colorscale": [
             [
              0,
              "#0d0887"
             ],
             [
              0.1111111111111111,
              "#46039f"
             ],
             [
              0.2222222222222222,
              "#7201a8"
             ],
             [
              0.3333333333333333,
              "#9c179e"
             ],
             [
              0.4444444444444444,
              "#bd3786"
             ],
             [
              0.5555555555555556,
              "#d8576b"
             ],
             [
              0.6666666666666666,
              "#ed7953"
             ],
             [
              0.7777777777777778,
              "#fb9f3a"
             ],
             [
              0.8888888888888888,
              "#fdca26"
             ],
             [
              1,
              "#f0f921"
             ]
            ],
            "type": "heatmap"
           }
          ],
          "heatmapgl": [
           {
            "colorbar": {
             "outlinewidth": 0,
             "ticks": ""
            },
            "colorscale": [
             [
              0,
              "#0d0887"
             ],
             [
              0.1111111111111111,
              "#46039f"
             ],
             [
              0.2222222222222222,
              "#7201a8"
             ],
             [
              0.3333333333333333,
              "#9c179e"
             ],
             [
              0.4444444444444444,
              "#bd3786"
             ],
             [
              0.5555555555555556,
              "#d8576b"
             ],
             [
              0.6666666666666666,
              "#ed7953"
             ],
             [
              0.7777777777777778,
              "#fb9f3a"
             ],
             [
              0.8888888888888888,
              "#fdca26"
             ],
             [
              1,
              "#f0f921"
             ]
            ],
            "type": "heatmapgl"
           }
          ],
          "histogram": [
           {
            "marker": {
             "pattern": {
              "fillmode": "overlay",
              "size": 10,
              "solidity": 0.2
             }
            },
            "type": "histogram"
           }
          ],
          "histogram2d": [
           {
            "colorbar": {
             "outlinewidth": 0,
             "ticks": ""
            },
            "colorscale": [
             [
              0,
              "#0d0887"
             ],
             [
              0.1111111111111111,
              "#46039f"
             ],
             [
              0.2222222222222222,
              "#7201a8"
             ],
             [
              0.3333333333333333,
              "#9c179e"
             ],
             [
              0.4444444444444444,
              "#bd3786"
             ],
             [
              0.5555555555555556,
              "#d8576b"
             ],
             [
              0.6666666666666666,
              "#ed7953"
             ],
             [
              0.7777777777777778,
              "#fb9f3a"
             ],
             [
              0.8888888888888888,
              "#fdca26"
             ],
             [
              1,
              "#f0f921"
             ]
            ],
            "type": "histogram2d"
           }
          ],
          "histogram2dcontour": [
           {
            "colorbar": {
             "outlinewidth": 0,
             "ticks": ""
            },
            "colorscale": [
             [
              0,
              "#0d0887"
             ],
             [
              0.1111111111111111,
              "#46039f"
             ],
             [
              0.2222222222222222,
              "#7201a8"
             ],
             [
              0.3333333333333333,
              "#9c179e"
             ],
             [
              0.4444444444444444,
              "#bd3786"
             ],
             [
              0.5555555555555556,
              "#d8576b"
             ],
             [
              0.6666666666666666,
              "#ed7953"
             ],
             [
              0.7777777777777778,
              "#fb9f3a"
             ],
             [
              0.8888888888888888,
              "#fdca26"
             ],
             [
              1,
              "#f0f921"
             ]
            ],
            "type": "histogram2dcontour"
           }
          ],
          "mesh3d": [
           {
            "colorbar": {
             "outlinewidth": 0,
             "ticks": ""
            },
            "type": "mesh3d"
           }
          ],
          "parcoords": [
           {
            "line": {
             "colorbar": {
              "outlinewidth": 0,
              "ticks": ""
             }
            },
            "type": "parcoords"
           }
          ],
          "pie": [
           {
            "automargin": true,
            "type": "pie"
           }
          ],
          "scatter": [
           {
            "fillpattern": {
             "fillmode": "overlay",
             "size": 10,
             "solidity": 0.2
            },
            "type": "scatter"
           }
          ],
          "scatter3d": [
           {
            "line": {
             "colorbar": {
              "outlinewidth": 0,
              "ticks": ""
             }
            },
            "marker": {
             "colorbar": {
              "outlinewidth": 0,
              "ticks": ""
             }
            },
            "type": "scatter3d"
           }
          ],
          "scattercarpet": [
           {
            "marker": {
             "colorbar": {
              "outlinewidth": 0,
              "ticks": ""
             }
            },
            "type": "scattercarpet"
           }
          ],
          "scattergeo": [
           {
            "marker": {
             "colorbar": {
              "outlinewidth": 0,
              "ticks": ""
             }
            },
            "type": "scattergeo"
           }
          ],
          "scattergl": [
           {
            "marker": {
             "colorbar": {
              "outlinewidth": 0,
              "ticks": ""
             }
            },
            "type": "scattergl"
           }
          ],
          "scattermapbox": [
           {
            "marker": {
             "colorbar": {
              "outlinewidth": 0,
              "ticks": ""
             }
            },
            "type": "scattermapbox"
           }
          ],
          "scatterpolar": [
           {
            "marker": {
             "colorbar": {
              "outlinewidth": 0,
              "ticks": ""
             }
            },
            "type": "scatterpolar"
           }
          ],
          "scatterpolargl": [
           {
            "marker": {
             "colorbar": {
              "outlinewidth": 0,
              "ticks": ""
             }
            },
            "type": "scatterpolargl"
           }
          ],
          "scatterternary": [
           {
            "marker": {
             "colorbar": {
              "outlinewidth": 0,
              "ticks": ""
             }
            },
            "type": "scatterternary"
           }
          ],
          "surface": [
           {
            "colorbar": {
             "outlinewidth": 0,
             "ticks": ""
            },
            "colorscale": [
             [
              0,
              "#0d0887"
             ],
             [
              0.1111111111111111,
              "#46039f"
             ],
             [
              0.2222222222222222,
              "#7201a8"
             ],
             [
              0.3333333333333333,
              "#9c179e"
             ],
             [
              0.4444444444444444,
              "#bd3786"
             ],
             [
              0.5555555555555556,
              "#d8576b"
             ],
             [
              0.6666666666666666,
              "#ed7953"
             ],
             [
              0.7777777777777778,
              "#fb9f3a"
             ],
             [
              0.8888888888888888,
              "#fdca26"
             ],
             [
              1,
              "#f0f921"
             ]
            ],
            "type": "surface"
           }
          ],
          "table": [
           {
            "cells": {
             "fill": {
              "color": "#EBF0F8"
             },
             "line": {
              "color": "white"
             }
            },
            "header": {
             "fill": {
              "color": "#C8D4E3"
             },
             "line": {
              "color": "white"
             }
            },
            "type": "table"
           }
          ]
         },
         "layout": {
          "annotationdefaults": {
           "arrowcolor": "#2a3f5f",
           "arrowhead": 0,
           "arrowwidth": 1
          },
          "autotypenumbers": "strict",
          "coloraxis": {
           "colorbar": {
            "outlinewidth": 0,
            "ticks": ""
           }
          },
          "colorscale": {
           "diverging": [
            [
             0,
             "#8e0152"
            ],
            [
             0.1,
             "#c51b7d"
            ],
            [
             0.2,
             "#de77ae"
            ],
            [
             0.3,
             "#f1b6da"
            ],
            [
             0.4,
             "#fde0ef"
            ],
            [
             0.5,
             "#f7f7f7"
            ],
            [
             0.6,
             "#e6f5d0"
            ],
            [
             0.7,
             "#b8e186"
            ],
            [
             0.8,
             "#7fbc41"
            ],
            [
             0.9,
             "#4d9221"
            ],
            [
             1,
             "#276419"
            ]
           ],
           "sequential": [
            [
             0,
             "#0d0887"
            ],
            [
             0.1111111111111111,
             "#46039f"
            ],
            [
             0.2222222222222222,
             "#7201a8"
            ],
            [
             0.3333333333333333,
             "#9c179e"
            ],
            [
             0.4444444444444444,
             "#bd3786"
            ],
            [
             0.5555555555555556,
             "#d8576b"
            ],
            [
             0.6666666666666666,
             "#ed7953"
            ],
            [
             0.7777777777777778,
             "#fb9f3a"
            ],
            [
             0.8888888888888888,
             "#fdca26"
            ],
            [
             1,
             "#f0f921"
            ]
           ],
           "sequentialminus": [
            [
             0,
             "#0d0887"
            ],
            [
             0.1111111111111111,
             "#46039f"
            ],
            [
             0.2222222222222222,
             "#7201a8"
            ],
            [
             0.3333333333333333,
             "#9c179e"
            ],
            [
             0.4444444444444444,
             "#bd3786"
            ],
            [
             0.5555555555555556,
             "#d8576b"
            ],
            [
             0.6666666666666666,
             "#ed7953"
            ],
            [
             0.7777777777777778,
             "#fb9f3a"
            ],
            [
             0.8888888888888888,
             "#fdca26"
            ],
            [
             1,
             "#f0f921"
            ]
           ]
          },
          "colorway": [
           "#636efa",
           "#EF553B",
           "#00cc96",
           "#ab63fa",
           "#FFA15A",
           "#19d3f3",
           "#FF6692",
           "#B6E880",
           "#FF97FF",
           "#FECB52"
          ],
          "font": {
           "color": "#2a3f5f"
          },
          "geo": {
           "bgcolor": "white",
           "lakecolor": "white",
           "landcolor": "#E5ECF6",
           "showlakes": true,
           "showland": true,
           "subunitcolor": "white"
          },
          "hoverlabel": {
           "align": "left"
          },
          "hovermode": "closest",
          "mapbox": {
           "style": "light"
          },
          "paper_bgcolor": "white",
          "plot_bgcolor": "#E5ECF6",
          "polar": {
           "angularaxis": {
            "gridcolor": "white",
            "linecolor": "white",
            "ticks": ""
           },
           "bgcolor": "#E5ECF6",
           "radialaxis": {
            "gridcolor": "white",
            "linecolor": "white",
            "ticks": ""
           }
          },
          "scene": {
           "xaxis": {
            "backgroundcolor": "#E5ECF6",
            "gridcolor": "white",
            "gridwidth": 2,
            "linecolor": "white",
            "showbackground": true,
            "ticks": "",
            "zerolinecolor": "white"
           },
           "yaxis": {
            "backgroundcolor": "#E5ECF6",
            "gridcolor": "white",
            "gridwidth": 2,
            "linecolor": "white",
            "showbackground": true,
            "ticks": "",
            "zerolinecolor": "white"
           },
           "zaxis": {
            "backgroundcolor": "#E5ECF6",
            "gridcolor": "white",
            "gridwidth": 2,
            "linecolor": "white",
            "showbackground": true,
            "ticks": "",
            "zerolinecolor": "white"
           }
          },
          "shapedefaults": {
           "line": {
            "color": "#2a3f5f"
           }
          },
          "ternary": {
           "aaxis": {
            "gridcolor": "white",
            "linecolor": "white",
            "ticks": ""
           },
           "baxis": {
            "gridcolor": "white",
            "linecolor": "white",
            "ticks": ""
           },
           "bgcolor": "#E5ECF6",
           "caxis": {
            "gridcolor": "white",
            "linecolor": "white",
            "ticks": ""
           }
          },
          "title": {
           "x": 0.05
          },
          "xaxis": {
           "automargin": true,
           "gridcolor": "white",
           "linecolor": "white",
           "ticks": "",
           "title": {
            "standoff": 15
           },
           "zerolinecolor": "white",
           "zerolinewidth": 2
          },
          "yaxis": {
           "automargin": true,
           "gridcolor": "white",
           "linecolor": "white",
           "ticks": "",
           "title": {
            "standoff": 15
           },
           "zerolinecolor": "white",
           "zerolinewidth": 2
          }
         }
        },
        "title": {
         "text": "Total Amount Spent by Each State"
        },
        "xaxis": {
         "anchor": "y",
         "domain": [
          0,
          1
         ],
         "title": {
          "text": "State"
         }
        },
        "yaxis": {
         "anchor": "x",
         "domain": [
          0,
          1
         ],
         "title": {
          "text": "sum of Amount Spent (INR)"
         }
        }
       }
      }
     },
     "metadata": {},
     "output_type": "display_data"
    }
   ],
   "source": [
    "#Total ad money spent by state and its statistics:\n",
    "Amount_spent_by_each_state = loc_results.sort_values(by='Amount spent (INR)', ascending=False)\n",
    "Total_Amount_spent_by_each_state=px.histogram(data_frame=Amount_spent_by_each_state, x = 'State', y ='Amount spent (INR)',     labels={'Location name': 'State', 'Amount spent (INR)': 'Amount Spent (INR)'},  # Labeling\n",
    "title='Total Amount Spent by Each State')\n",
    "\n",
    "Total_Amount_spent_by_each_state.show()\n"
   ]
  },
  {
   "cell_type": "code",
   "execution_count": 33,
   "metadata": {},
   "outputs": [],
   "source": [
    "#Voter Turnout by state\n"
   ]
  },
  {
   "cell_type": "code",
   "execution_count": 34,
   "metadata": {},
   "outputs": [
    {
     "data": {
      "application/vnd.plotly.v1+json": {
       "config": {
        "plotlyServerURL": "https://plot.ly"
       },
       "data": [
        {
         "alignmentgroup": "True",
         "hovertemplate": "State=%{x}<br>Voter Turnout (%)=%{y}<extra></extra>",
         "legendgroup": "",
         "marker": {
          "color": "#636efa",
          "pattern": {
           "shape": ""
          }
         },
         "name": "",
         "offsetgroup": "",
         "orientation": "v",
         "showlegend": false,
         "textposition": "auto",
         "type": "bar",
         "x": [
          "lakshadweep",
          "tripura",
          "assam",
          "andhra pradesh",
          "sikkim",
          "west bengal",
          "puducherry",
          "arunachal pradesh",
          "manipur",
          "meghalaya",
          "goa",
          "odisha",
          "chhattisgarh",
          "ladakh",
          "karnataka",
          "kerala",
          "himachal pradesh",
          "dadra & nagar haveli and\ndaman & diu",
          "tamil nadu",
          "chandigarh",
          "telangana",
          "madhya pradesh",
          "jharkhand",
          "haryana",
          "andaman & nicobar islands",
          "punjab",
          "maharashtra",
          "rajasthan",
          "gujarat",
          "jammu and kashmir",
          "nct of delhi",
          "nagaland",
          "uttar pradesh",
          "mizoram",
          "bihar",
          "uttarakhand"
         ],
         "xaxis": "x",
         "y": [
          84.16,
          80.92,
          80.88285714285713,
          80.7708,
          79.88,
          79.18809523809524,
          78.9,
          78.455,
          78.03,
          77.575,
          76.08,
          74.51,
          73.10545454545455,
          71.82,
          71.71464285714286,
          71.1895,
          70.965,
          70.645,
          70.03538461538461,
          67.98,
          67.66294117647058,
          66.97034482758622,
          66.605,
          65.019,
          64.1,
          62.80384615384616,
          61.46,
          61.4264,
          60.1404,
          58.696000000000005,
          58.50285714285714,
          57.72,
          57.047000000000004,
          56.87,
          56.329499999999996,
          56.184000000000005
         ],
         "yaxis": "y"
        }
       ],
       "layout": {
        "barmode": "relative",
        "legend": {
         "tracegroupgap": 0
        },
        "template": {
         "data": {
          "bar": [
           {
            "error_x": {
             "color": "#2a3f5f"
            },
            "error_y": {
             "color": "#2a3f5f"
            },
            "marker": {
             "line": {
              "color": "#E5ECF6",
              "width": 0.5
             },
             "pattern": {
              "fillmode": "overlay",
              "size": 10,
              "solidity": 0.2
             }
            },
            "type": "bar"
           }
          ],
          "barpolar": [
           {
            "marker": {
             "line": {
              "color": "#E5ECF6",
              "width": 0.5
             },
             "pattern": {
              "fillmode": "overlay",
              "size": 10,
              "solidity": 0.2
             }
            },
            "type": "barpolar"
           }
          ],
          "carpet": [
           {
            "aaxis": {
             "endlinecolor": "#2a3f5f",
             "gridcolor": "white",
             "linecolor": "white",
             "minorgridcolor": "white",
             "startlinecolor": "#2a3f5f"
            },
            "baxis": {
             "endlinecolor": "#2a3f5f",
             "gridcolor": "white",
             "linecolor": "white",
             "minorgridcolor": "white",
             "startlinecolor": "#2a3f5f"
            },
            "type": "carpet"
           }
          ],
          "choropleth": [
           {
            "colorbar": {
             "outlinewidth": 0,
             "ticks": ""
            },
            "type": "choropleth"
           }
          ],
          "contour": [
           {
            "colorbar": {
             "outlinewidth": 0,
             "ticks": ""
            },
            "colorscale": [
             [
              0,
              "#0d0887"
             ],
             [
              0.1111111111111111,
              "#46039f"
             ],
             [
              0.2222222222222222,
              "#7201a8"
             ],
             [
              0.3333333333333333,
              "#9c179e"
             ],
             [
              0.4444444444444444,
              "#bd3786"
             ],
             [
              0.5555555555555556,
              "#d8576b"
             ],
             [
              0.6666666666666666,
              "#ed7953"
             ],
             [
              0.7777777777777778,
              "#fb9f3a"
             ],
             [
              0.8888888888888888,
              "#fdca26"
             ],
             [
              1,
              "#f0f921"
             ]
            ],
            "type": "contour"
           }
          ],
          "contourcarpet": [
           {
            "colorbar": {
             "outlinewidth": 0,
             "ticks": ""
            },
            "type": "contourcarpet"
           }
          ],
          "heatmap": [
           {
            "colorbar": {
             "outlinewidth": 0,
             "ticks": ""
            },
            "colorscale": [
             [
              0,
              "#0d0887"
             ],
             [
              0.1111111111111111,
              "#46039f"
             ],
             [
              0.2222222222222222,
              "#7201a8"
             ],
             [
              0.3333333333333333,
              "#9c179e"
             ],
             [
              0.4444444444444444,
              "#bd3786"
             ],
             [
              0.5555555555555556,
              "#d8576b"
             ],
             [
              0.6666666666666666,
              "#ed7953"
             ],
             [
              0.7777777777777778,
              "#fb9f3a"
             ],
             [
              0.8888888888888888,
              "#fdca26"
             ],
             [
              1,
              "#f0f921"
             ]
            ],
            "type": "heatmap"
           }
          ],
          "heatmapgl": [
           {
            "colorbar": {
             "outlinewidth": 0,
             "ticks": ""
            },
            "colorscale": [
             [
              0,
              "#0d0887"
             ],
             [
              0.1111111111111111,
              "#46039f"
             ],
             [
              0.2222222222222222,
              "#7201a8"
             ],
             [
              0.3333333333333333,
              "#9c179e"
             ],
             [
              0.4444444444444444,
              "#bd3786"
             ],
             [
              0.5555555555555556,
              "#d8576b"
             ],
             [
              0.6666666666666666,
              "#ed7953"
             ],
             [
              0.7777777777777778,
              "#fb9f3a"
             ],
             [
              0.8888888888888888,
              "#fdca26"
             ],
             [
              1,
              "#f0f921"
             ]
            ],
            "type": "heatmapgl"
           }
          ],
          "histogram": [
           {
            "marker": {
             "pattern": {
              "fillmode": "overlay",
              "size": 10,
              "solidity": 0.2
             }
            },
            "type": "histogram"
           }
          ],
          "histogram2d": [
           {
            "colorbar": {
             "outlinewidth": 0,
             "ticks": ""
            },
            "colorscale": [
             [
              0,
              "#0d0887"
             ],
             [
              0.1111111111111111,
              "#46039f"
             ],
             [
              0.2222222222222222,
              "#7201a8"
             ],
             [
              0.3333333333333333,
              "#9c179e"
             ],
             [
              0.4444444444444444,
              "#bd3786"
             ],
             [
              0.5555555555555556,
              "#d8576b"
             ],
             [
              0.6666666666666666,
              "#ed7953"
             ],
             [
              0.7777777777777778,
              "#fb9f3a"
             ],
             [
              0.8888888888888888,
              "#fdca26"
             ],
             [
              1,
              "#f0f921"
             ]
            ],
            "type": "histogram2d"
           }
          ],
          "histogram2dcontour": [
           {
            "colorbar": {
             "outlinewidth": 0,
             "ticks": ""
            },
            "colorscale": [
             [
              0,
              "#0d0887"
             ],
             [
              0.1111111111111111,
              "#46039f"
             ],
             [
              0.2222222222222222,
              "#7201a8"
             ],
             [
              0.3333333333333333,
              "#9c179e"
             ],
             [
              0.4444444444444444,
              "#bd3786"
             ],
             [
              0.5555555555555556,
              "#d8576b"
             ],
             [
              0.6666666666666666,
              "#ed7953"
             ],
             [
              0.7777777777777778,
              "#fb9f3a"
             ],
             [
              0.8888888888888888,
              "#fdca26"
             ],
             [
              1,
              "#f0f921"
             ]
            ],
            "type": "histogram2dcontour"
           }
          ],
          "mesh3d": [
           {
            "colorbar": {
             "outlinewidth": 0,
             "ticks": ""
            },
            "type": "mesh3d"
           }
          ],
          "parcoords": [
           {
            "line": {
             "colorbar": {
              "outlinewidth": 0,
              "ticks": ""
             }
            },
            "type": "parcoords"
           }
          ],
          "pie": [
           {
            "automargin": true,
            "type": "pie"
           }
          ],
          "scatter": [
           {
            "fillpattern": {
             "fillmode": "overlay",
             "size": 10,
             "solidity": 0.2
            },
            "type": "scatter"
           }
          ],
          "scatter3d": [
           {
            "line": {
             "colorbar": {
              "outlinewidth": 0,
              "ticks": ""
             }
            },
            "marker": {
             "colorbar": {
              "outlinewidth": 0,
              "ticks": ""
             }
            },
            "type": "scatter3d"
           }
          ],
          "scattercarpet": [
           {
            "marker": {
             "colorbar": {
              "outlinewidth": 0,
              "ticks": ""
             }
            },
            "type": "scattercarpet"
           }
          ],
          "scattergeo": [
           {
            "marker": {
             "colorbar": {
              "outlinewidth": 0,
              "ticks": ""
             }
            },
            "type": "scattergeo"
           }
          ],
          "scattergl": [
           {
            "marker": {
             "colorbar": {
              "outlinewidth": 0,
              "ticks": ""
             }
            },
            "type": "scattergl"
           }
          ],
          "scattermapbox": [
           {
            "marker": {
             "colorbar": {
              "outlinewidth": 0,
              "ticks": ""
             }
            },
            "type": "scattermapbox"
           }
          ],
          "scatterpolar": [
           {
            "marker": {
             "colorbar": {
              "outlinewidth": 0,
              "ticks": ""
             }
            },
            "type": "scatterpolar"
           }
          ],
          "scatterpolargl": [
           {
            "marker": {
             "colorbar": {
              "outlinewidth": 0,
              "ticks": ""
             }
            },
            "type": "scatterpolargl"
           }
          ],
          "scatterternary": [
           {
            "marker": {
             "colorbar": {
              "outlinewidth": 0,
              "ticks": ""
             }
            },
            "type": "scatterternary"
           }
          ],
          "surface": [
           {
            "colorbar": {
             "outlinewidth": 0,
             "ticks": ""
            },
            "colorscale": [
             [
              0,
              "#0d0887"
             ],
             [
              0.1111111111111111,
              "#46039f"
             ],
             [
              0.2222222222222222,
              "#7201a8"
             ],
             [
              0.3333333333333333,
              "#9c179e"
             ],
             [
              0.4444444444444444,
              "#bd3786"
             ],
             [
              0.5555555555555556,
              "#d8576b"
             ],
             [
              0.6666666666666666,
              "#ed7953"
             ],
             [
              0.7777777777777778,
              "#fb9f3a"
             ],
             [
              0.8888888888888888,
              "#fdca26"
             ],
             [
              1,
              "#f0f921"
             ]
            ],
            "type": "surface"
           }
          ],
          "table": [
           {
            "cells": {
             "fill": {
              "color": "#EBF0F8"
             },
             "line": {
              "color": "white"
             }
            },
            "header": {
             "fill": {
              "color": "#C8D4E3"
             },
             "line": {
              "color": "white"
             }
            },
            "type": "table"
           }
          ]
         },
         "layout": {
          "annotationdefaults": {
           "arrowcolor": "#2a3f5f",
           "arrowhead": 0,
           "arrowwidth": 1
          },
          "autotypenumbers": "strict",
          "coloraxis": {
           "colorbar": {
            "outlinewidth": 0,
            "ticks": ""
           }
          },
          "colorscale": {
           "diverging": [
            [
             0,
             "#8e0152"
            ],
            [
             0.1,
             "#c51b7d"
            ],
            [
             0.2,
             "#de77ae"
            ],
            [
             0.3,
             "#f1b6da"
            ],
            [
             0.4,
             "#fde0ef"
            ],
            [
             0.5,
             "#f7f7f7"
            ],
            [
             0.6,
             "#e6f5d0"
            ],
            [
             0.7,
             "#b8e186"
            ],
            [
             0.8,
             "#7fbc41"
            ],
            [
             0.9,
             "#4d9221"
            ],
            [
             1,
             "#276419"
            ]
           ],
           "sequential": [
            [
             0,
             "#0d0887"
            ],
            [
             0.1111111111111111,
             "#46039f"
            ],
            [
             0.2222222222222222,
             "#7201a8"
            ],
            [
             0.3333333333333333,
             "#9c179e"
            ],
            [
             0.4444444444444444,
             "#bd3786"
            ],
            [
             0.5555555555555556,
             "#d8576b"
            ],
            [
             0.6666666666666666,
             "#ed7953"
            ],
            [
             0.7777777777777778,
             "#fb9f3a"
            ],
            [
             0.8888888888888888,
             "#fdca26"
            ],
            [
             1,
             "#f0f921"
            ]
           ],
           "sequentialminus": [
            [
             0,
             "#0d0887"
            ],
            [
             0.1111111111111111,
             "#46039f"
            ],
            [
             0.2222222222222222,
             "#7201a8"
            ],
            [
             0.3333333333333333,
             "#9c179e"
            ],
            [
             0.4444444444444444,
             "#bd3786"
            ],
            [
             0.5555555555555556,
             "#d8576b"
            ],
            [
             0.6666666666666666,
             "#ed7953"
            ],
            [
             0.7777777777777778,
             "#fb9f3a"
            ],
            [
             0.8888888888888888,
             "#fdca26"
            ],
            [
             1,
             "#f0f921"
            ]
           ]
          },
          "colorway": [
           "#636efa",
           "#EF553B",
           "#00cc96",
           "#ab63fa",
           "#FFA15A",
           "#19d3f3",
           "#FF6692",
           "#B6E880",
           "#FF97FF",
           "#FECB52"
          ],
          "font": {
           "color": "#2a3f5f"
          },
          "geo": {
           "bgcolor": "white",
           "lakecolor": "white",
           "landcolor": "#E5ECF6",
           "showlakes": true,
           "showland": true,
           "subunitcolor": "white"
          },
          "hoverlabel": {
           "align": "left"
          },
          "hovermode": "closest",
          "mapbox": {
           "style": "light"
          },
          "paper_bgcolor": "white",
          "plot_bgcolor": "#E5ECF6",
          "polar": {
           "angularaxis": {
            "gridcolor": "white",
            "linecolor": "white",
            "ticks": ""
           },
           "bgcolor": "#E5ECF6",
           "radialaxis": {
            "gridcolor": "white",
            "linecolor": "white",
            "ticks": ""
           }
          },
          "scene": {
           "xaxis": {
            "backgroundcolor": "#E5ECF6",
            "gridcolor": "white",
            "gridwidth": 2,
            "linecolor": "white",
            "showbackground": true,
            "ticks": "",
            "zerolinecolor": "white"
           },
           "yaxis": {
            "backgroundcolor": "#E5ECF6",
            "gridcolor": "white",
            "gridwidth": 2,
            "linecolor": "white",
            "showbackground": true,
            "ticks": "",
            "zerolinecolor": "white"
           },
           "zaxis": {
            "backgroundcolor": "#E5ECF6",
            "gridcolor": "white",
            "gridwidth": 2,
            "linecolor": "white",
            "showbackground": true,
            "ticks": "",
            "zerolinecolor": "white"
           }
          },
          "shapedefaults": {
           "line": {
            "color": "#2a3f5f"
           }
          },
          "ternary": {
           "aaxis": {
            "gridcolor": "white",
            "linecolor": "white",
            "ticks": ""
           },
           "baxis": {
            "gridcolor": "white",
            "linecolor": "white",
            "ticks": ""
           },
           "bgcolor": "#E5ECF6",
           "caxis": {
            "gridcolor": "white",
            "linecolor": "white",
            "ticks": ""
           }
          },
          "title": {
           "x": 0.05
          },
          "xaxis": {
           "automargin": true,
           "gridcolor": "white",
           "linecolor": "white",
           "ticks": "",
           "title": {
            "standoff": 15
           },
           "zerolinecolor": "white",
           "zerolinewidth": 2
          },
          "yaxis": {
           "automargin": true,
           "gridcolor": "white",
           "linecolor": "white",
           "ticks": "",
           "title": {
            "standoff": 15
           },
           "zerolinecolor": "white",
           "zerolinewidth": 2
          }
         }
        },
        "title": {
         "text": "Average Voter Turnout by State"
        },
        "xaxis": {
         "anchor": "y",
         "domain": [
          0,
          1
         ],
         "title": {
          "text": "State"
         }
        },
        "yaxis": {
         "anchor": "x",
         "domain": [
          0,
          1
         ],
         "title": {
          "text": "Voter Turnout (%)"
         }
        }
       }
      }
     },
     "metadata": {},
     "output_type": "display_data"
    }
   ],
   "source": [
    "# Calculate the average voter turnout by state (grouped by state)\n",
    "state_voter_turnout = loc_results.groupby('State')['Polled (%)'].mean().reset_index()\n",
    "\n",
    "# Sort the averaged voter turnout data in descending order\n",
    "state_voter_turnout_sorted = state_voter_turnout.sort_values(by='Polled (%)', ascending=False)\n",
    "\n",
    "# Create a bar chart\n",
    "fig = px.bar(state_voter_turnout_sorted, \n",
    "             x='State', \n",
    "             y='Polled (%)',\n",
    "             labels={'State': 'State', 'Polled (%)': 'Voter Turnout (%)'},\n",
    "             title='Average Voter Turnout by State')\n",
    "  \n",
    "\n",
    "# Show the plot\n",
    "fig.show()\n"
   ]
  },
  {
   "cell_type": "code",
   "execution_count": 35,
   "metadata": {},
   "outputs": [
    {
     "data": {
      "application/vnd.plotly.v1+json": {
       "config": {
        "plotlyServerURL": "https://plot.ly"
       },
       "data": [
        {
         "hovertemplate": "State=andaman & nicobar islands<br>Amount Spent (INR)=%{x}<br>Voter Turnout (%)=%{marker.size}<extra></extra>",
         "legendgroup": "andaman & nicobar islands",
         "marker": {
          "color": "#636efa",
          "size": [
           64.1
          ],
          "sizemode": "area",
          "sizeref": 0.2302,
          "symbol": "circle"
         },
         "mode": "markers",
         "name": "andaman & nicobar islands",
         "orientation": "v",
         "showlegend": true,
         "type": "scatter",
         "x": [
          null
         ],
         "xaxis": "x",
         "y": [
          64.1
         ],
         "yaxis": "y"
        },
        {
         "hovertemplate": "State=arunachal pradesh<br>Amount Spent (INR)=%{x}<br>Voter Turnout (%)=%{marker.size}<extra></extra>",
         "legendgroup": "arunachal pradesh",
         "marker": {
          "color": "#EF553B",
          "size": [
           83.31,
           73.6
          ],
          "sizemode": "area",
          "sizeref": 0.2302,
          "symbol": "circle"
         },
         "mode": "markers",
         "name": "arunachal pradesh",
         "orientation": "v",
         "showlegend": true,
         "type": "scatter",
         "x": [
          1385654,
          1385654
         ],
         "xaxis": "x",
         "y": [
          83.31,
          73.6
         ],
         "yaxis": "y"
        },
        {
         "hovertemplate": "State=assam<br>Amount Spent (INR)=%{x}<br>Voter Turnout (%)=%{marker.size}<extra></extra>",
         "legendgroup": "assam",
         "marker": {
          "color": "#00cc96",
          "size": [
           76.75,
           79.89,
           79.33,
           76.42,
           78.46,
           82.01,
           75.74,
           80.48,
           84.97,
           79.05,
           85.24,
           92.08,
           78.39,
           83.55
          ],
          "sizemode": "area",
          "sizeref": 0.2302,
          "symbol": "circle"
         },
         "mode": "markers",
         "name": "assam",
         "orientation": "v",
         "showlegend": true,
         "type": "scatter",
         "x": [
          17478091,
          17478091,
          17478091,
          17478091,
          17478091,
          17478091,
          17478091,
          17478091,
          17478091,
          17478091,
          17478091,
          17478091,
          17478091,
          17478091
         ],
         "xaxis": "x",
         "y": [
          76.75,
          79.89,
          79.33,
          76.42,
          78.46,
          82.01,
          75.74,
          80.48,
          84.97,
          79.05,
          85.24,
          92.08,
          78.39,
          83.55
         ],
         "yaxis": "y"
        },
        {
         "hovertemplate": "State=bihar<br>Amount Spent (INR)=%{x}<br>Voter Turnout (%)=%{marker.size}<extra></extra>",
         "legendgroup": "bihar",
         "marker": {
          "color": "#ab63fa",
          "size": [
           50.35,
           52.76,
           51.25,
           43.17,
           54.48,
           53.5,
           63.76,
           62.84,
           63.08,
           61.93,
           54.48,
           57.52,
           58.29,
           63.55,
           58.7,
           57.37,
           55.55,
           60.11,
           59.59,
           58.43,
           53.04,
           59.47,
           56.73,
           56.21,
           52.32,
           52.27,
           61.62,
           59.68,
           57.4,
           52.49,
           62.59,
           60.19,
           50.27,
           55.39,
           55.09,
           54.68,
           49.78,
           59.24,
           46.85,
           57.16
          ],
          "sizemode": "area",
          "sizeref": 0.2302,
          "symbol": "circle"
         },
         "mode": "markers",
         "name": "bihar",
         "orientation": "v",
         "showlegend": true,
         "type": "scatter",
         "x": [
          53619242,
          53619242,
          53619242,
          53619242,
          53619242,
          53619242,
          53619242,
          53619242,
          53619242,
          53619242,
          53619242,
          53619242,
          53619242,
          53619242,
          53619242,
          53619242,
          53619242,
          53619242,
          53619242,
          53619242,
          53619242,
          53619242,
          53619242,
          53619242,
          53619242,
          53619242,
          53619242,
          53619242,
          53619242,
          53619242,
          53619242,
          53619242,
          53619242,
          53619242,
          53619242,
          53619242,
          53619242,
          53619242,
          53619242,
          53619242
         ],
         "xaxis": "x",
         "y": [
          50.35,
          52.76,
          51.25,
          43.17,
          54.48,
          53.5,
          63.76,
          62.84,
          63.08,
          61.93,
          54.48,
          57.52,
          58.29,
          63.55,
          58.7,
          57.37,
          55.55,
          60.11,
          59.59,
          58.43,
          53.04,
          59.47,
          56.73,
          56.21,
          52.32,
          52.27,
          61.62,
          59.68,
          57.4,
          52.49,
          62.59,
          60.19,
          50.27,
          55.39,
          55.09,
          54.68,
          49.78,
          59.24,
          46.85,
          57.16
         ],
         "yaxis": "y"
        },
        {
         "hovertemplate": "State=chhattisgarh<br>Amount Spent (INR)=%{x}<br>Voter Turnout (%)=%{marker.size}<extra></extra>",
         "legendgroup": "chhattisgarh",
         "marker": {
          "color": "#FFA15A",
          "size": [
           68.29,
           76.23,
           75.02,
           77.42,
           64.77,
           73.68,
           67.56,
           75.63,
           78.85,
           66.82,
           79.89
          ],
          "sizemode": "area",
          "sizeref": 0.2302,
          "symbol": "circle"
         },
         "mode": "markers",
         "name": "chhattisgarh",
         "orientation": "v",
         "showlegend": true,
         "type": "scatter",
         "x": [
          14803286,
          14803286,
          14803286,
          14803286,
          14803286,
          14803286,
          14803286,
          14803286,
          14803286,
          14803286,
          14803286
         ],
         "xaxis": "x",
         "y": [
          68.29,
          76.23,
          75.02,
          77.42,
          64.77,
          73.68,
          67.56,
          75.63,
          78.85,
          66.82,
          79.89
         ],
         "yaxis": "y"
        },
        {
         "hovertemplate": "State=jammu and kashmir<br>Amount Spent (INR)=%{x}<br>Voter Turnout (%)=%{marker.size}<extra></extra>",
         "legendgroup": "jammu and kashmir",
         "marker": {
          "color": "#19d3f3",
          "size": [
           68.27,
           72.22,
           38.49,
           59.1,
           55.4
          ],
          "sizemode": "area",
          "sizeref": 0.2302,
          "symbol": "circle"
         },
         "mode": "markers",
         "name": "jammu and kashmir",
         "orientation": "v",
         "showlegend": true,
         "type": "scatter",
         "x": [
          6575061,
          6575061,
          6575061,
          6575061,
          6575061
         ],
         "xaxis": "x",
         "y": [
          68.27,
          72.22,
          38.49,
          59.1,
          55.4
         ],
         "yaxis": "y"
        },
        {
         "hovertemplate": "State=lakshadweep<br>Amount Spent (INR)=%{x}<br>Voter Turnout (%)=%{marker.size}<extra></extra>",
         "legendgroup": "lakshadweep",
         "marker": {
          "color": "#FF6692",
          "size": [
           84.16
          ],
          "sizemode": "area",
          "sizeref": 0.2302,
          "symbol": "circle"
         },
         "mode": "markers",
         "name": "lakshadweep",
         "orientation": "v",
         "showlegend": true,
         "type": "scatter",
         "x": [
          19847
         ],
         "xaxis": "x",
         "y": [
          84.16
         ],
         "yaxis": "y"
        },
        {
         "hovertemplate": "State=madhya pradesh<br>Amount Spent (INR)=%{x}<br>Voter Turnout (%)=%{marker.size}<extra></extra>",
         "legendgroup": "madhya pradesh",
         "marker": {
          "color": "#B6E880",
          "size": [
           73.45,
           79.83,
           61,
           72.84,
           64.68,
           56.5,
           56.48,
           67.21,
           56.97,
           49.43,
           61.94,
           60,
           73.53,
           54.93,
           64.06,
           72.43,
           62.13,
           58.97,
           76.04,
           65.75,
           74.48,
           75.48,
           72.76,
           61.67,
           71.52,
           76.03,
           75.27,
           72.94,
           73.82
          ],
          "sizemode": "area",
          "sizeref": 0.2302,
          "symbol": "circle"
         },
         "mode": "markers",
         "name": "madhya pradesh",
         "orientation": "v",
         "showlegend": true,
         "type": "scatter",
         "x": [
          39992952,
          39992952,
          39992952,
          39992952,
          39992952,
          39992952,
          39992952,
          39992952,
          39992952,
          39992952,
          39992952,
          39992952,
          39992952,
          39992952,
          39992952,
          39992952,
          39992952,
          39992952,
          39992952,
          39992952,
          39992952,
          39992952,
          39992952,
          39992952,
          39992952,
          39992952,
          39992952,
          39992952,
          39992952
         ],
         "xaxis": "x",
         "y": [
          73.45,
          79.83,
          61,
          72.84,
          64.68,
          56.5,
          56.48,
          67.21,
          56.97,
          49.43,
          61.94,
          60,
          73.53,
          54.93,
          64.06,
          72.43,
          62.13,
          58.97,
          76.04,
          65.75,
          74.48,
          75.48,
          72.76,
          61.67,
          71.52,
          76.03,
          75.27,
          72.94,
          73.82
         ],
         "yaxis": "y"
        },
        {
         "hovertemplate": "State=maharashtra<br>Amount Spent (INR)=%{x}<br>Voter Turnout (%)=%{marker.size}<extra></extra>",
         "legendgroup": "maharashtra",
         "marker": {
          "color": "#FF97FF",
          "size": [
           67.04,
           67.55,
           71.88,
           54.32,
           61.01,
           61.79,
           63.67,
           62.03,
           63.54,
           60.94,
           62.26,
           64.85,
           62.87,
           59.5,
           71.11,
           71.59,
           62.59,
           63.65,
           63.88,
           60.51,
           62.52,
           62.27,
           63.16,
           59.19,
           66.61,
           63.03,
           70.92,
           58.47,
           69.18,
           54.87,
           70.68,
           53.54,
           64.28,
           63.03,
           54.16,
           59.89,
           60.21,
           66.75,
           50.12,
           57.02,
           51.98,
           56.37,
           54.84,
           50.06,
           53.6,
           60.75,
           63.91,
           52.09
          ],
          "sizemode": "area",
          "sizeref": 0.2302,
          "symbol": "circle"
         },
         "mode": "markers",
         "name": "maharashtra",
         "orientation": "v",
         "showlegend": true,
         "type": "scatter",
         "x": [
          101917091,
          101917091,
          101917091,
          101917091,
          101917091,
          101917091,
          101917091,
          101917091,
          101917091,
          101917091,
          101917091,
          101917091,
          101917091,
          101917091,
          101917091,
          101917091,
          101917091,
          101917091,
          101917091,
          101917091,
          101917091,
          101917091,
          101917091,
          101917091,
          101917091,
          101917091,
          101917091,
          101917091,
          101917091,
          101917091,
          101917091,
          101917091,
          101917091,
          101917091,
          101917091,
          101917091,
          101917091,
          101917091,
          101917091,
          101917091,
          101917091,
          101917091,
          101917091,
          101917091,
          101917091,
          101917091,
          101917091,
          101917091
         ],
         "xaxis": "x",
         "y": [
          67.04,
          67.55,
          71.88,
          54.32,
          61.01,
          61.79,
          63.67,
          62.03,
          63.54,
          60.94,
          62.26,
          64.85,
          62.87,
          59.5,
          71.11,
          71.59,
          62.59,
          63.65,
          63.88,
          60.51,
          62.52,
          62.27,
          63.16,
          59.19,
          66.61,
          63.03,
          70.92,
          58.47,
          69.18,
          54.87,
          70.68,
          53.54,
          64.28,
          63.03,
          54.16,
          59.89,
          60.21,
          66.75,
          50.12,
          57.02,
          51.98,
          56.37,
          54.84,
          50.06,
          53.6,
          60.75,
          63.91,
          52.09
         ],
         "yaxis": "y"
        },
        {
         "hovertemplate": "State=manipur<br>Amount Spent (INR)=%{x}<br>Voter Turnout (%)=%{marker.size}<extra></extra>",
         "legendgroup": "manipur",
         "marker": {
          "color": "#FECB52",
          "size": [
           80.15,
           68.83,
           85.11
          ],
          "sizemode": "area",
          "sizeref": 0.2302,
          "symbol": "circle"
         },
         "mode": "markers",
         "name": "manipur",
         "orientation": "v",
         "showlegend": true,
         "type": "scatter",
         "x": [
          889062,
          889062,
          889062
         ],
         "xaxis": "x",
         "y": [
          80.15,
          68.83,
          85.11
         ],
         "yaxis": "y"
        },
        {
         "hovertemplate": "State=meghalaya<br>Amount Spent (INR)=%{x}<br>Voter Turnout (%)=%{marker.size}<extra></extra>",
         "legendgroup": "meghalaya",
         "marker": {
          "color": "#636efa",
          "size": [
           73.78,
           81.37
          ],
          "sizemode": "area",
          "sizeref": 0.2302,
          "symbol": "circle"
         },
         "mode": "markers",
         "name": "meghalaya",
         "orientation": "v",
         "showlegend": true,
         "type": "scatter",
         "x": [
          884220,
          884220
         ],
         "xaxis": "x",
         "y": [
          73.78,
          81.37
         ],
         "yaxis": "y"
        },
        {
         "hovertemplate": "State=mizoram<br>Amount Spent (INR)=%{x}<br>Voter Turnout (%)=%{marker.size}<extra></extra>",
         "legendgroup": "mizoram",
         "marker": {
          "color": "#EF553B",
          "size": [
           56.87
          ],
          "sizemode": "area",
          "sizeref": 0.2302,
          "symbol": "circle"
         },
         "mode": "markers",
         "name": "mizoram",
         "orientation": "v",
         "showlegend": true,
         "type": "scatter",
         "x": [
          481052
         ],
         "xaxis": "x",
         "y": [
          56.87
         ],
         "yaxis": "y"
        },
        {
         "hovertemplate": "State=nagaland<br>Amount Spent (INR)=%{x}<br>Voter Turnout (%)=%{marker.size}<extra></extra>",
         "legendgroup": "nagaland",
         "marker": {
          "color": "#00cc96",
          "size": [
           57.72
          ],
          "sizemode": "area",
          "sizeref": 0.2302,
          "symbol": "circle"
         },
         "mode": "markers",
         "name": "nagaland",
         "orientation": "v",
         "showlegend": true,
         "type": "scatter",
         "x": [
          599170
         ],
         "xaxis": "x",
         "y": [
          57.72
         ],
         "yaxis": "y"
        },
        {
         "hovertemplate": "State=puducherry<br>Amount Spent (INR)=%{x}<br>Voter Turnout (%)=%{marker.size}<extra></extra>",
         "legendgroup": "puducherry",
         "marker": {
          "color": "#ab63fa",
          "size": [
           78.9
          ],
          "sizemode": "area",
          "sizeref": 0.2302,
          "symbol": "circle"
         },
         "mode": "markers",
         "name": "puducherry",
         "orientation": "v",
         "showlegend": true,
         "type": "scatter",
         "x": [
          1535672
         ],
         "xaxis": "x",
         "y": [
          78.9
         ],
         "yaxis": "y"
        },
        {
         "hovertemplate": "State=rajasthan<br>Amount Spent (INR)=%{x}<br>Voter Turnout (%)=%{marker.size}<extra></extra>",
         "legendgroup": "rajasthan",
         "marker": {
          "color": "#FFA15A",
          "size": [
           60.07,
           52.8,
           54.11,
           63.61,
           55.72,
           66.59,
           63.38,
           56.7,
           52.93,
           49.59,
           57.23,
           57.53,
           59.66,
           73.88,
           75.93,
           60.37,
           68.61,
           62.89,
           69.71,
           64.27,
           71.26,
           57.19,
           58.39,
           56.58,
           66.66
          ],
          "sizemode": "area",
          "sizeref": 0.2302,
          "symbol": "circle"
         },
         "mode": "markers",
         "name": "rajasthan",
         "orientation": "v",
         "showlegend": true,
         "type": "scatter",
         "x": [
          41268323,
          41268323,
          41268323,
          41268323,
          41268323,
          41268323,
          41268323,
          41268323,
          41268323,
          41268323,
          41268323,
          41268323,
          41268323,
          41268323,
          41268323,
          41268323,
          41268323,
          41268323,
          41268323,
          41268323,
          41268323,
          41268323,
          41268323,
          41268323,
          41268323
         ],
         "xaxis": "x",
         "y": [
          60.07,
          52.8,
          54.11,
          63.61,
          55.72,
          66.59,
          63.38,
          56.7,
          52.93,
          49.59,
          57.23,
          57.53,
          59.66,
          73.88,
          75.93,
          60.37,
          68.61,
          62.89,
          69.71,
          64.27,
          71.26,
          57.19,
          58.39,
          56.58,
          66.66
         ],
         "yaxis": "y"
        },
        {
         "hovertemplate": "State=sikkim<br>Amount Spent (INR)=%{x}<br>Voter Turnout (%)=%{marker.size}<extra></extra>",
         "legendgroup": "sikkim",
         "marker": {
          "color": "#19d3f3",
          "size": [
           79.88
          ],
          "sizemode": "area",
          "sizeref": 0.2302,
          "symbol": "circle"
         },
         "mode": "markers",
         "name": "sikkim",
         "orientation": "v",
         "showlegend": true,
         "type": "scatter",
         "x": [
          4379297
         ],
         "xaxis": "x",
         "y": [
          79.88
         ],
         "yaxis": "y"
        },
        {
         "hovertemplate": "State=tamil nadu<br>Amount Spent (INR)=%{x}<br>Voter Turnout (%)=%{marker.size}<extra></extra>",
         "legendgroup": "tamil nadu",
         "marker": {
          "color": "#FF6692",
          "size": [
           74.19,
           75.76,
           53.96,
           60.11,
           54.17,
           76.37,
           64.89,
           72.57,
           81.2,
           71.14,
           70.59,
           79.21,
           71.68,
           65.44,
           78.7,
           71.5,
           62.04,
           70.09,
           71.94,
           78.21,
           70.95,
           77.43,
           70.41,
           68.19,
           78.16,
           64.26,
           60.25,
           67.65,
           68.27,
           69.84,
           66.88,
           67.51,
           64.1,
           70.62,
           68.59,
           74.24,
           73.53,
           76.52,
           70.22
          ],
          "sizemode": "area",
          "sizeref": 0.2302,
          "symbol": "circle"
         },
         "mode": "markers",
         "name": "tamil nadu",
         "orientation": "v",
         "showlegend": true,
         "type": "scatter",
         "x": [
          76622608,
          76622608,
          76622608,
          76622608,
          76622608,
          76622608,
          76622608,
          76622608,
          76622608,
          76622608,
          76622608,
          76622608,
          76622608,
          76622608,
          76622608,
          76622608,
          76622608,
          76622608,
          76622608,
          76622608,
          76622608,
          76622608,
          76622608,
          76622608,
          76622608,
          76622608,
          76622608,
          76622608,
          76622608,
          76622608,
          76622608,
          76622608,
          76622608,
          76622608,
          76622608,
          76622608,
          76622608,
          76622608,
          76622608
         ],
         "xaxis": "x",
         "y": [
          74.19,
          75.76,
          53.96,
          60.11,
          54.17,
          76.37,
          64.89,
          72.57,
          81.2,
          71.14,
          70.59,
          79.21,
          71.68,
          65.44,
          78.7,
          71.5,
          62.04,
          70.09,
          71.94,
          78.21,
          70.95,
          77.43,
          70.41,
          68.19,
          78.16,
          64.26,
          60.25,
          67.65,
          68.27,
          69.84,
          66.88,
          67.51,
          64.1,
          70.62,
          68.59,
          74.24,
          73.53,
          76.52,
          70.22
         ],
         "yaxis": "y"
        },
        {
         "hovertemplate": "State=tripura<br>Amount Spent (INR)=%{x}<br>Voter Turnout (%)=%{marker.size}<extra></extra>",
         "legendgroup": "tripura",
         "marker": {
          "color": "#B6E880",
          "size": [
           81.48,
           80.36
          ],
          "sizemode": "area",
          "sizeref": 0.2302,
          "symbol": "circle"
         },
         "mode": "markers",
         "name": "tripura",
         "orientation": "v",
         "showlegend": true,
         "type": "scatter",
         "x": [
          1857459,
          1857459
         ],
         "xaxis": "x",
         "y": [
          81.48,
          80.36
         ],
         "yaxis": "y"
        },
        {
         "hovertemplate": "State=uttar pradesh<br>Amount Spent (INR)=%{x}<br>Voter Turnout (%)=%{marker.size}<extra></extra>",
         "legendgroup": "uttar pradesh",
         "marker": {
          "color": "#FF97FF",
          "size": [
           58.73,
           62.46,
           62.18,
           59.13,
           60.75,
           63.11,
           55.85,
           66.14,
           56.93,
           64.58,
           56.16,
           56.42,
           53.63,
           49.88,
           49.41,
           58.94,
           54.08,
           57.44,
           54.35,
           58.03,
           59.31,
           57.19,
           58.53,
           55.71,
           58.73,
           62.91,
           57.78,
           57.42,
           64.54,
           56.36,
           59.08,
           57.52,
           61.08,
           53.05,
           64.68,
           55.89,
           53.36,
           62.54,
           55.46,
           54.34,
           59.7,
           67.2,
           59.14,
           57.09,
           51.62,
           60.6,
           56.18,
           63.86,
           55.68,
           52.8,
           52.28,
           62.88,
           58.12,
           51.82,
           61.58,
           56.16,
           56.67,
           53.07,
           51.97,
           55.59,
           54.38,
           54.49,
           48.91,
           51.45,
           52.57,
           52.83,
           55.63,
           52.05,
           51.79,
           60.58,
           55.51,
           55.45,
           55.05,
           54.93,
           57.57,
           60.31,
           57.92,
           56.78,
           51.38,
           56.49
          ],
          "sizemode": "area",
          "sizeref": 0.2302,
          "symbol": "circle"
         },
         "mode": "markers",
         "name": "uttar pradesh",
         "orientation": "v",
         "showlegend": true,
         "type": "scatter",
         "x": [
          89668131,
          89668131,
          89668131,
          89668131,
          89668131,
          89668131,
          89668131,
          89668131,
          89668131,
          89668131,
          89668131,
          89668131,
          89668131,
          89668131,
          89668131,
          89668131,
          89668131,
          89668131,
          89668131,
          89668131,
          89668131,
          89668131,
          89668131,
          89668131,
          89668131,
          89668131,
          89668131,
          89668131,
          89668131,
          89668131,
          89668131,
          89668131,
          89668131,
          89668131,
          89668131,
          89668131,
          89668131,
          89668131,
          89668131,
          89668131,
          89668131,
          89668131,
          89668131,
          89668131,
          89668131,
          89668131,
          89668131,
          89668131,
          89668131,
          89668131,
          89668131,
          89668131,
          89668131,
          89668131,
          89668131,
          89668131,
          89668131,
          89668131,
          89668131,
          89668131,
          89668131,
          89668131,
          89668131,
          89668131,
          89668131,
          89668131,
          89668131,
          89668131,
          89668131,
          89668131,
          89668131,
          89668131,
          89668131,
          89668131,
          89668131,
          89668131,
          89668131,
          89668131,
          89668131,
          89668131
         ],
         "xaxis": "x",
         "y": [
          58.73,
          62.46,
          62.18,
          59.13,
          60.75,
          63.11,
          55.85,
          66.14,
          56.93,
          64.58,
          56.16,
          56.42,
          53.63,
          49.88,
          49.41,
          58.94,
          54.08,
          57.44,
          54.35,
          58.03,
          59.31,
          57.19,
          58.53,
          55.71,
          58.73,
          62.91,
          57.78,
          57.42,
          64.54,
          56.36,
          59.08,
          57.52,
          61.08,
          53.05,
          64.68,
          55.89,
          53.36,
          62.54,
          55.46,
          54.34,
          59.7,
          67.2,
          59.14,
          57.09,
          51.62,
          60.6,
          56.18,
          63.86,
          55.68,
          52.8,
          52.28,
          62.88,
          58.12,
          51.82,
          61.58,
          56.16,
          56.67,
          53.07,
          51.97,
          55.59,
          54.38,
          54.49,
          48.91,
          51.45,
          52.57,
          52.83,
          55.63,
          52.05,
          51.79,
          60.58,
          55.51,
          55.45,
          55.05,
          54.93,
          57.57,
          60.31,
          57.92,
          56.78,
          51.38,
          56.49
         ],
         "yaxis": "y"
        },
        {
         "hovertemplate": "State=uttarakhand<br>Amount Spent (INR)=%{x}<br>Voter Turnout (%)=%{marker.size}<extra></extra>",
         "legendgroup": "uttarakhand",
         "marker": {
          "color": "#FECB52",
          "size": [
           48.74,
           52.42,
           63.53,
           62.47,
           53.76
          ],
          "sizemode": "area",
          "sizeref": 0.2302,
          "symbol": "circle"
         },
         "mode": "markers",
         "name": "uttarakhand",
         "orientation": "v",
         "showlegend": true,
         "type": "scatter",
         "x": [
          7140897,
          7140897,
          7140897,
          7140897,
          7140897
         ],
         "xaxis": "x",
         "y": [
          48.74,
          52.42,
          63.53,
          62.47,
          53.76
         ],
         "yaxis": "y"
        },
        {
         "hovertemplate": "State=west bengal<br>Amount Spent (INR)=%{x}<br>Voter Turnout (%)=%{marker.size}<extra></extra>",
         "legendgroup": "west bengal",
         "marker": {
          "color": "#636efa",
          "size": [
           79.76,
           82.16,
           83.66,
           79.09,
           74.76,
           76.18,
           75.72,
           76.69,
           76.03,
           81.52,
           73.27,
           77.54,
           82.85,
           80.72,
           81.91,
           82.66,
           80.65,
           81.87,
           82.62,
           81.04,
           75.41,
           81.38,
           71.73,
           76.44,
           79.78,
           80.75,
           85.91,
           82.17,
           83.47,
           84.77,
           81.56,
           78.39,
           84.79,
           80.17,
           84.31,
           81.04,
           73.81,
           76.68,
           80.08,
           66.95,
           63.59,
           82.02
          ],
          "sizemode": "area",
          "sizeref": 0.2302,
          "symbol": "circle"
         },
         "mode": "markers",
         "name": "west bengal",
         "orientation": "v",
         "showlegend": true,
         "type": "scatter",
         "x": [
          77244996,
          77244996,
          77244996,
          77244996,
          77244996,
          77244996,
          77244996,
          77244996,
          77244996,
          77244996,
          77244996,
          77244996,
          77244996,
          77244996,
          77244996,
          77244996,
          77244996,
          77244996,
          77244996,
          77244996,
          77244996,
          77244996,
          77244996,
          77244996,
          77244996,
          77244996,
          77244996,
          77244996,
          77244996,
          77244996,
          77244996,
          77244996,
          77244996,
          77244996,
          77244996,
          77244996,
          77244996,
          77244996,
          77244996,
          77244996,
          77244996,
          77244996
         ],
         "xaxis": "x",
         "y": [
          79.76,
          82.16,
          83.66,
          79.09,
          74.76,
          76.18,
          75.72,
          76.69,
          76.03,
          81.52,
          73.27,
          77.54,
          82.85,
          80.72,
          81.91,
          82.66,
          80.65,
          81.87,
          82.62,
          81.04,
          75.41,
          81.38,
          71.73,
          76.44,
          79.78,
          80.75,
          85.91,
          82.17,
          83.47,
          84.77,
          81.56,
          78.39,
          84.79,
          80.17,
          84.31,
          81.04,
          73.81,
          76.68,
          80.08,
          66.95,
          63.59,
          82.02
         ],
         "yaxis": "y"
        },
        {
         "hovertemplate": "State=karnataka<br>Amount Spent (INR)=%{x}<br>Voter Turnout (%)=%{marker.size}<extra></extra>",
         "legendgroup": "karnataka",
         "marker": {
          "color": "#00cc96",
          "size": [
           54.06,
           54.45,
           68.3,
           53.17,
           76.82,
           77,
           73.3,
           77.56,
           77.68,
           78.27,
           81.67,
           70.62,
           78.05,
           77.15,
           72.66,
           71.49,
           73.59,
           65.47,
           66.32,
           78.66,
           76.99,
           74.37,
           62.25,
           77.6,
           70.99,
           64.66,
           78.33,
           76.53
          ],
          "sizemode": "area",
          "sizeref": 0.2302,
          "symbol": "circle"
         },
         "mode": "markers",
         "name": "karnataka",
         "orientation": "v",
         "showlegend": true,
         "type": "scatter",
         "x": [
          41659397,
          41659397,
          41659397,
          41659397,
          41659397,
          41659397,
          41659397,
          41659397,
          41659397,
          41659397,
          41659397,
          41659397,
          41659397,
          41659397,
          41659397,
          41659397,
          41659397,
          41659397,
          41659397,
          41659397,
          41659397,
          41659397,
          41659397,
          41659397,
          41659397,
          41659397,
          41659397,
          41659397
         ],
         "xaxis": "x",
         "y": [
          54.06,
          54.45,
          68.3,
          53.17,
          76.82,
          77,
          73.3,
          77.56,
          77.68,
          78.27,
          81.67,
          70.62,
          78.05,
          77.15,
          72.66,
          71.49,
          73.59,
          65.47,
          66.32,
          78.66,
          76.99,
          74.37,
          62.25,
          77.6,
          70.99,
          64.66,
          78.33,
          76.53
         ],
         "yaxis": "y"
        },
        {
         "hovertemplate": "State=kerala<br>Amount Spent (INR)=%{x}<br>Voter Turnout (%)=%{marker.size}<extra></extra>",
         "legendgroup": "kerala",
         "marker": {
          "color": "#ab63fa",
          "size": [
           75.05,
           73.42,
           69.48,
           71.94,
           68.29,
           66.55,
           77.21,
           76.04,
           68.15,
           65.61,
           75.52,
           72.95,
           65.95,
           73.57,
           63.37,
           69.34,
           66.47,
           72.9,
           78.41,
           73.57
          ],
          "sizemode": "area",
          "sizeref": 0.2302,
          "symbol": "circle"
         },
         "mode": "markers",
         "name": "kerala",
         "orientation": "v",
         "showlegend": true,
         "type": "scatter",
         "x": [
          22681201,
          22681201,
          22681201,
          22681201,
          22681201,
          22681201,
          22681201,
          22681201,
          22681201,
          22681201,
          22681201,
          22681201,
          22681201,
          22681201,
          22681201,
          22681201,
          22681201,
          22681201,
          22681201,
          22681201
         ],
         "xaxis": "x",
         "y": [
          75.05,
          73.42,
          69.48,
          71.94,
          68.29,
          66.55,
          77.21,
          76.04,
          68.15,
          65.61,
          75.52,
          72.95,
          65.95,
          73.57,
          63.37,
          69.34,
          66.47,
          72.9,
          78.41,
          73.57
         ],
         "yaxis": "y"
        },
        {
         "hovertemplate": "State=dadra & nagar haveli and\ndaman & diu<br>Amount Spent (INR)=%{x}<br>Voter Turnout (%)=%{marker.size}<extra></extra>",
         "legendgroup": "dadra & nagar haveli and\ndaman & diu",
         "marker": {
          "color": "#FFA15A",
          "size": [
           72.52,
           68.77
          ],
          "sizemode": "area",
          "sizeref": 0.2302,
          "symbol": "circle"
         },
         "mode": "markers",
         "name": "dadra & nagar haveli and\ndaman & diu",
         "orientation": "v",
         "showlegend": true,
         "type": "scatter",
         "x": [
          null,
          null
         ],
         "xaxis": "x",
         "y": [
          72.52,
          68.77
         ],
         "yaxis": "y"
        },
        {
         "hovertemplate": "State=goa<br>Amount Spent (INR)=%{x}<br>Voter Turnout (%)=%{marker.size}<extra></extra>",
         "legendgroup": "goa",
         "marker": {
          "color": "#19d3f3",
          "size": [
           77.69,
           74.47
          ],
          "sizemode": "area",
          "sizeref": 0.2302,
          "symbol": "circle"
         },
         "mode": "markers",
         "name": "goa",
         "orientation": "v",
         "showlegend": true,
         "type": "scatter",
         "x": [
          2164209,
          2164209
         ],
         "xaxis": "x",
         "y": [
          77.69,
          74.47
         ],
         "yaxis": "y"
        },
        {
         "hovertemplate": "State=gujarat<br>Amount Spent (INR)=%{x}<br>Voter Turnout (%)=%{marker.size}<extra></extra>",
         "legendgroup": "gujarat",
         "marker": {
          "color": "#FF6692",
          "size": [
           54.72,
           55.45,
           50.29,
           65.04,
           69.62,
           64.81,
           69.16,
           53.92,
           69.15,
           59.31,
           59.8,
           57.67,
           58.91,
           56.14,
           58.12,
           59.86,
           59.66,
           58.85,
           58.56,
           51.83,
           59.69,
           63.56,
           55.09,
           61.59,
           72.71
          ],
          "sizemode": "area",
          "sizeref": 0.2302,
          "symbol": "circle"
         },
         "mode": "markers",
         "name": "gujarat",
         "orientation": "v",
         "showlegend": true,
         "type": "scatter",
         "x": [
          40425399,
          40425399,
          40425399,
          40425399,
          40425399,
          40425399,
          40425399,
          40425399,
          40425399,
          40425399,
          40425399,
          40425399,
          40425399,
          40425399,
          40425399,
          40425399,
          40425399,
          40425399,
          40425399,
          40425399,
          40425399,
          40425399,
          40425399,
          40425399,
          40425399
         ],
         "xaxis": "x",
         "y": [
          54.72,
          55.45,
          50.29,
          65.04,
          69.62,
          64.81,
          69.16,
          53.92,
          69.15,
          59.31,
          59.8,
          57.67,
          58.91,
          56.14,
          58.12,
          59.86,
          59.66,
          58.85,
          58.56,
          51.83,
          59.69,
          63.56,
          55.09,
          61.59,
          72.71
         ],
         "yaxis": "y"
        },
        {
         "hovertemplate": "State=andhra pradesh<br>Amount Spent (INR)=%{x}<br>Voter Turnout (%)=%{marker.size}<extra></extra>",
         "legendgroup": "andhra pradesh",
         "marker": {
          "color": "#B6E880",
          "size": [
           83.85,
           82.03,
           80.51,
           73.68,
           85.48,
           85.77,
           83.68,
           78.81,
           84.7,
           79.57,
           80.3,
           76.8,
           84.05,
           80.61,
           82.59,
           85.65,
           79.05,
           87.06,
           80.93,
           79.09,
           74.43,
           79.1,
           79.37,
           71.11,
           81.05
          ],
          "sizemode": "area",
          "sizeref": 0.2302,
          "symbol": "circle"
         },
         "mode": "markers",
         "name": "andhra pradesh",
         "orientation": "v",
         "showlegend": true,
         "type": "scatter",
         "x": [
          100819732,
          100819732,
          100819732,
          100819732,
          100819732,
          100819732,
          100819732,
          100819732,
          100819732,
          100819732,
          100819732,
          100819732,
          100819732,
          100819732,
          100819732,
          100819732,
          100819732,
          100819732,
          100819732,
          100819732,
          100819732,
          100819732,
          100819732,
          100819732,
          100819732
         ],
         "xaxis": "x",
         "y": [
          83.85,
          82.03,
          80.51,
          73.68,
          85.48,
          85.77,
          83.68,
          78.81,
          84.7,
          79.57,
          80.3,
          76.8,
          84.05,
          80.61,
          82.59,
          85.65,
          79.05,
          87.06,
          80.93,
          79.09,
          74.43,
          79.1,
          79.37,
          71.11,
          81.05
         ],
         "yaxis": "y"
        },
        {
         "hovertemplate": "State=jharkhand<br>Amount Spent (INR)=%{x}<br>Voter Turnout (%)=%{marker.size}<extra></extra>",
         "legendgroup": "jharkhand",
         "marker": {
          "color": "#FF97FF",
          "size": [
           69.93,
           66.45,
           61.27,
           69.32,
           63.69,
           64.39,
           61.81,
           62.06,
           67.23,
           67.68,
           65.36,
           73.87,
           68.63,
           70.78
          ],
          "sizemode": "area",
          "sizeref": 0.2302,
          "symbol": "circle"
         },
         "mode": "markers",
         "name": "jharkhand",
         "orientation": "v",
         "showlegend": true,
         "type": "scatter",
         "x": [
          16380139,
          16380139,
          16380139,
          16380139,
          16380139,
          16380139,
          16380139,
          16380139,
          16380139,
          16380139,
          16380139,
          16380139,
          16380139,
          16380139
         ],
         "xaxis": "x",
         "y": [
          69.93,
          66.45,
          61.27,
          69.32,
          63.69,
          64.39,
          61.81,
          62.06,
          67.23,
          67.68,
          65.36,
          73.87,
          68.63,
          70.78
         ],
         "yaxis": "y"
        },
        {
         "hovertemplate": "State=odisha<br>Amount Spent (INR)=%{x}<br>Voter Turnout (%)=%{marker.size}<extra></extra>",
         "legendgroup": "odisha",
         "marker": {
          "color": "#FECB52",
          "size": [
           65.41,
           77.9,
           77.53,
           82.16,
           62.67,
           79.78,
           77.52,
           74.16,
           73.02,
           64.49,
           71.2,
           78.01,
           78.97,
           75.43,
           79.5,
           76.77,
           73.23,
           75.48,
           74.47,
           71.22,
           75.79
          ],
          "sizemode": "area",
          "sizeref": 0.2302,
          "symbol": "circle"
         },
         "mode": "markers",
         "name": "odisha",
         "orientation": "v",
         "showlegend": true,
         "type": "scatter",
         "x": [
          180252277,
          180252277,
          180252277,
          180252277,
          180252277,
          180252277,
          180252277,
          180252277,
          180252277,
          180252277,
          180252277,
          180252277,
          180252277,
          180252277,
          180252277,
          180252277,
          180252277,
          180252277,
          180252277,
          180252277,
          180252277
         ],
         "xaxis": "x",
         "y": [
          65.41,
          77.9,
          77.53,
          82.16,
          62.67,
          79.78,
          77.52,
          74.16,
          73.02,
          64.49,
          71.2,
          78.01,
          78.97,
          75.43,
          79.5,
          76.77,
          73.23,
          75.48,
          74.47,
          71.22,
          75.79
         ],
         "yaxis": "y"
        },
        {
         "hovertemplate": "State=telangana<br>Amount Spent (INR)=%{x}<br>Voter Turnout (%)=%{marker.size}<extra></extra>",
         "legendgroup": "telangana",
         "marker": {
          "color": "#636efa",
          "size": [
           74.03,
           76.78,
           56.4,
           48.48,
           72.54,
           76.09,
           71.85,
           72.43,
           50.78,
           75.09,
           69.46,
           74.02,
           71.92,
           67.87,
           49.04,
           68.86,
           74.63
          ],
          "sizemode": "area",
          "sizeref": 0.2302,
          "symbol": "circle"
         },
         "mode": "markers",
         "name": "telangana",
         "orientation": "v",
         "showlegend": true,
         "type": "scatter",
         "x": [
          54496166,
          54496166,
          54496166,
          54496166,
          54496166,
          54496166,
          54496166,
          54496166,
          54496166,
          54496166,
          54496166,
          54496166,
          54496166,
          54496166,
          54496166,
          54496166,
          54496166
         ],
         "xaxis": "x",
         "y": [
          74.03,
          76.78,
          56.4,
          48.48,
          72.54,
          76.09,
          71.85,
          72.43,
          50.78,
          75.09,
          69.46,
          74.02,
          71.92,
          67.87,
          49.04,
          68.86,
          74.63
         ],
         "yaxis": "y"
        },
        {
         "hovertemplate": "State=ladakh<br>Amount Spent (INR)=%{x}<br>Voter Turnout (%)=%{marker.size}<extra></extra>",
         "legendgroup": "ladakh",
         "marker": {
          "color": "#EF553B",
          "size": [
           71.82
          ],
          "sizemode": "area",
          "sizeref": 0.2302,
          "symbol": "circle"
         },
         "mode": "markers",
         "name": "ladakh",
         "orientation": "v",
         "showlegend": true,
         "type": "scatter",
         "x": [
          null
         ],
         "xaxis": "x",
         "y": [
          71.82
         ],
         "yaxis": "y"
        },
        {
         "hovertemplate": "State=haryana<br>Amount Spent (INR)=%{x}<br>Voter Turnout (%)=%{marker.size}<extra></extra>",
         "legendgroup": "haryana",
         "marker": {
          "color": "#00cc96",
          "size": [
           67.34,
           65.39,
           60.52,
           62.03,
           65.27,
           63.74,
           67.01,
           65.68,
           69.77,
           63.44
          ],
          "sizemode": "area",
          "sizeref": 0.2302,
          "symbol": "circle"
         },
         "mode": "markers",
         "name": "haryana",
         "orientation": "v",
         "showlegend": true,
         "type": "scatter",
         "x": [
          41683411,
          41683411,
          41683411,
          41683411,
          41683411,
          41683411,
          41683411,
          41683411,
          41683411,
          41683411
         ],
         "xaxis": "x",
         "y": [
          67.34,
          65.39,
          60.52,
          62.03,
          65.27,
          63.74,
          67.01,
          65.68,
          69.77,
          63.44
         ],
         "yaxis": "y"
        },
        {
         "hovertemplate": "State=nct of delhi<br>Amount Spent (INR)=%{x}<br>Voter Turnout (%)=%{marker.size}<extra></extra>",
         "legendgroup": "nct of delhi",
         "marker": {
          "color": "#ab63fa",
          "size": [
           58.6,
           59.51,
           55.43,
           62.89,
           57.85,
           56.45,
           58.79
          ],
          "sizemode": "area",
          "sizeref": 0.2302,
          "symbol": "circle"
         },
         "mode": "markers",
         "name": "nct of delhi",
         "orientation": "v",
         "showlegend": true,
         "type": "scatter",
         "x": [
          null,
          null,
          null,
          null,
          null,
          null,
          null
         ],
         "xaxis": "x",
         "y": [
          58.6,
          59.51,
          55.43,
          62.89,
          57.85,
          56.45,
          58.79
         ],
         "yaxis": "y"
        },
        {
         "hovertemplate": "State=chandigarh<br>Amount Spent (INR)=%{x}<br>Voter Turnout (%)=%{marker.size}<extra></extra>",
         "legendgroup": "chandigarh",
         "marker": {
          "color": "#FFA15A",
          "size": [
           67.98
          ],
          "sizemode": "area",
          "sizeref": 0.2302,
          "symbol": "circle"
         },
         "mode": "markers",
         "name": "chandigarh",
         "orientation": "v",
         "showlegend": true,
         "type": "scatter",
         "x": [
          6507258
         ],
         "xaxis": "x",
         "y": [
          67.98
         ],
         "yaxis": "y"
        },
        {
         "hovertemplate": "State=himachal pradesh<br>Amount Spent (INR)=%{x}<br>Voter Turnout (%)=%{marker.size}<extra></extra>",
         "legendgroup": "himachal pradesh",
         "marker": {
          "color": "#19d3f3",
          "size": [
           71.56,
           67.89,
           73.15,
           71.26
          ],
          "sizemode": "area",
          "sizeref": 0.2302,
          "symbol": "circle"
         },
         "mode": "markers",
         "name": "himachal pradesh",
         "orientation": "v",
         "showlegend": true,
         "type": "scatter",
         "x": [
          12011616,
          12011616,
          12011616,
          12011616
         ],
         "xaxis": "x",
         "y": [
          71.56,
          67.89,
          73.15,
          71.26
         ],
         "yaxis": "y"
        },
        {
         "hovertemplate": "State=punjab<br>Amount Spent (INR)=%{x}<br>Voter Turnout (%)=%{marker.size}<extra></extra>",
         "legendgroup": "punjab",
         "marker": {
          "color": "#FF6692",
          "size": [
           56.06,
           61.98,
           69.36,
           63.34,
           62.53,
           67.02,
           66.67,
           58.86,
           59.7,
           62.55,
           60.12,
           63.63,
           64.63
          ],
          "sizemode": "area",
          "sizeref": 0.2302,
          "symbol": "circle"
         },
         "mode": "markers",
         "name": "punjab",
         "orientation": "v",
         "showlegend": true,
         "type": "scatter",
         "x": [
          null,
          null,
          null,
          null,
          null,
          null,
          null,
          null,
          null,
          null,
          null,
          null,
          null
         ],
         "xaxis": "x",
         "y": [
          56.06,
          61.98,
          69.36,
          63.34,
          62.53,
          67.02,
          66.67,
          58.86,
          59.7,
          62.55,
          60.12,
          63.63,
          64.63
         ],
         "yaxis": "y"
        }
       ],
       "layout": {
        "height": 600,
        "legend": {
         "itemsizing": "constant",
         "title": {
          "text": "State"
         },
         "tracegroupgap": 0
        },
        "template": {
         "data": {
          "bar": [
           {
            "error_x": {
             "color": "#2a3f5f"
            },
            "error_y": {
             "color": "#2a3f5f"
            },
            "marker": {
             "line": {
              "color": "#E5ECF6",
              "width": 0.5
             },
             "pattern": {
              "fillmode": "overlay",
              "size": 10,
              "solidity": 0.2
             }
            },
            "type": "bar"
           }
          ],
          "barpolar": [
           {
            "marker": {
             "line": {
              "color": "#E5ECF6",
              "width": 0.5
             },
             "pattern": {
              "fillmode": "overlay",
              "size": 10,
              "solidity": 0.2
             }
            },
            "type": "barpolar"
           }
          ],
          "carpet": [
           {
            "aaxis": {
             "endlinecolor": "#2a3f5f",
             "gridcolor": "white",
             "linecolor": "white",
             "minorgridcolor": "white",
             "startlinecolor": "#2a3f5f"
            },
            "baxis": {
             "endlinecolor": "#2a3f5f",
             "gridcolor": "white",
             "linecolor": "white",
             "minorgridcolor": "white",
             "startlinecolor": "#2a3f5f"
            },
            "type": "carpet"
           }
          ],
          "choropleth": [
           {
            "colorbar": {
             "outlinewidth": 0,
             "ticks": ""
            },
            "type": "choropleth"
           }
          ],
          "contour": [
           {
            "colorbar": {
             "outlinewidth": 0,
             "ticks": ""
            },
            "colorscale": [
             [
              0,
              "#0d0887"
             ],
             [
              0.1111111111111111,
              "#46039f"
             ],
             [
              0.2222222222222222,
              "#7201a8"
             ],
             [
              0.3333333333333333,
              "#9c179e"
             ],
             [
              0.4444444444444444,
              "#bd3786"
             ],
             [
              0.5555555555555556,
              "#d8576b"
             ],
             [
              0.6666666666666666,
              "#ed7953"
             ],
             [
              0.7777777777777778,
              "#fb9f3a"
             ],
             [
              0.8888888888888888,
              "#fdca26"
             ],
             [
              1,
              "#f0f921"
             ]
            ],
            "type": "contour"
           }
          ],
          "contourcarpet": [
           {
            "colorbar": {
             "outlinewidth": 0,
             "ticks": ""
            },
            "type": "contourcarpet"
           }
          ],
          "heatmap": [
           {
            "colorbar": {
             "outlinewidth": 0,
             "ticks": ""
            },
            "colorscale": [
             [
              0,
              "#0d0887"
             ],
             [
              0.1111111111111111,
              "#46039f"
             ],
             [
              0.2222222222222222,
              "#7201a8"
             ],
             [
              0.3333333333333333,
              "#9c179e"
             ],
             [
              0.4444444444444444,
              "#bd3786"
             ],
             [
              0.5555555555555556,
              "#d8576b"
             ],
             [
              0.6666666666666666,
              "#ed7953"
             ],
             [
              0.7777777777777778,
              "#fb9f3a"
             ],
             [
              0.8888888888888888,
              "#fdca26"
             ],
             [
              1,
              "#f0f921"
             ]
            ],
            "type": "heatmap"
           }
          ],
          "heatmapgl": [
           {
            "colorbar": {
             "outlinewidth": 0,
             "ticks": ""
            },
            "colorscale": [
             [
              0,
              "#0d0887"
             ],
             [
              0.1111111111111111,
              "#46039f"
             ],
             [
              0.2222222222222222,
              "#7201a8"
             ],
             [
              0.3333333333333333,
              "#9c179e"
             ],
             [
              0.4444444444444444,
              "#bd3786"
             ],
             [
              0.5555555555555556,
              "#d8576b"
             ],
             [
              0.6666666666666666,
              "#ed7953"
             ],
             [
              0.7777777777777778,
              "#fb9f3a"
             ],
             [
              0.8888888888888888,
              "#fdca26"
             ],
             [
              1,
              "#f0f921"
             ]
            ],
            "type": "heatmapgl"
           }
          ],
          "histogram": [
           {
            "marker": {
             "pattern": {
              "fillmode": "overlay",
              "size": 10,
              "solidity": 0.2
             }
            },
            "type": "histogram"
           }
          ],
          "histogram2d": [
           {
            "colorbar": {
             "outlinewidth": 0,
             "ticks": ""
            },
            "colorscale": [
             [
              0,
              "#0d0887"
             ],
             [
              0.1111111111111111,
              "#46039f"
             ],
             [
              0.2222222222222222,
              "#7201a8"
             ],
             [
              0.3333333333333333,
              "#9c179e"
             ],
             [
              0.4444444444444444,
              "#bd3786"
             ],
             [
              0.5555555555555556,
              "#d8576b"
             ],
             [
              0.6666666666666666,
              "#ed7953"
             ],
             [
              0.7777777777777778,
              "#fb9f3a"
             ],
             [
              0.8888888888888888,
              "#fdca26"
             ],
             [
              1,
              "#f0f921"
             ]
            ],
            "type": "histogram2d"
           }
          ],
          "histogram2dcontour": [
           {
            "colorbar": {
             "outlinewidth": 0,
             "ticks": ""
            },
            "colorscale": [
             [
              0,
              "#0d0887"
             ],
             [
              0.1111111111111111,
              "#46039f"
             ],
             [
              0.2222222222222222,
              "#7201a8"
             ],
             [
              0.3333333333333333,
              "#9c179e"
             ],
             [
              0.4444444444444444,
              "#bd3786"
             ],
             [
              0.5555555555555556,
              "#d8576b"
             ],
             [
              0.6666666666666666,
              "#ed7953"
             ],
             [
              0.7777777777777778,
              "#fb9f3a"
             ],
             [
              0.8888888888888888,
              "#fdca26"
             ],
             [
              1,
              "#f0f921"
             ]
            ],
            "type": "histogram2dcontour"
           }
          ],
          "mesh3d": [
           {
            "colorbar": {
             "outlinewidth": 0,
             "ticks": ""
            },
            "type": "mesh3d"
           }
          ],
          "parcoords": [
           {
            "line": {
             "colorbar": {
              "outlinewidth": 0,
              "ticks": ""
             }
            },
            "type": "parcoords"
           }
          ],
          "pie": [
           {
            "automargin": true,
            "type": "pie"
           }
          ],
          "scatter": [
           {
            "fillpattern": {
             "fillmode": "overlay",
             "size": 10,
             "solidity": 0.2
            },
            "type": "scatter"
           }
          ],
          "scatter3d": [
           {
            "line": {
             "colorbar": {
              "outlinewidth": 0,
              "ticks": ""
             }
            },
            "marker": {
             "colorbar": {
              "outlinewidth": 0,
              "ticks": ""
             }
            },
            "type": "scatter3d"
           }
          ],
          "scattercarpet": [
           {
            "marker": {
             "colorbar": {
              "outlinewidth": 0,
              "ticks": ""
             }
            },
            "type": "scattercarpet"
           }
          ],
          "scattergeo": [
           {
            "marker": {
             "colorbar": {
              "outlinewidth": 0,
              "ticks": ""
             }
            },
            "type": "scattergeo"
           }
          ],
          "scattergl": [
           {
            "marker": {
             "colorbar": {
              "outlinewidth": 0,
              "ticks": ""
             }
            },
            "type": "scattergl"
           }
          ],
          "scattermapbox": [
           {
            "marker": {
             "colorbar": {
              "outlinewidth": 0,
              "ticks": ""
             }
            },
            "type": "scattermapbox"
           }
          ],
          "scatterpolar": [
           {
            "marker": {
             "colorbar": {
              "outlinewidth": 0,
              "ticks": ""
             }
            },
            "type": "scatterpolar"
           }
          ],
          "scatterpolargl": [
           {
            "marker": {
             "colorbar": {
              "outlinewidth": 0,
              "ticks": ""
             }
            },
            "type": "scatterpolargl"
           }
          ],
          "scatterternary": [
           {
            "marker": {
             "colorbar": {
              "outlinewidth": 0,
              "ticks": ""
             }
            },
            "type": "scatterternary"
           }
          ],
          "surface": [
           {
            "colorbar": {
             "outlinewidth": 0,
             "ticks": ""
            },
            "colorscale": [
             [
              0,
              "#0d0887"
             ],
             [
              0.1111111111111111,
              "#46039f"
             ],
             [
              0.2222222222222222,
              "#7201a8"
             ],
             [
              0.3333333333333333,
              "#9c179e"
             ],
             [
              0.4444444444444444,
              "#bd3786"
             ],
             [
              0.5555555555555556,
              "#d8576b"
             ],
             [
              0.6666666666666666,
              "#ed7953"
             ],
             [
              0.7777777777777778,
              "#fb9f3a"
             ],
             [
              0.8888888888888888,
              "#fdca26"
             ],
             [
              1,
              "#f0f921"
             ]
            ],
            "type": "surface"
           }
          ],
          "table": [
           {
            "cells": {
             "fill": {
              "color": "#EBF0F8"
             },
             "line": {
              "color": "white"
             }
            },
            "header": {
             "fill": {
              "color": "#C8D4E3"
             },
             "line": {
              "color": "white"
             }
            },
            "type": "table"
           }
          ]
         },
         "layout": {
          "annotationdefaults": {
           "arrowcolor": "#2a3f5f",
           "arrowhead": 0,
           "arrowwidth": 1
          },
          "autotypenumbers": "strict",
          "coloraxis": {
           "colorbar": {
            "outlinewidth": 0,
            "ticks": ""
           }
          },
          "colorscale": {
           "diverging": [
            [
             0,
             "#8e0152"
            ],
            [
             0.1,
             "#c51b7d"
            ],
            [
             0.2,
             "#de77ae"
            ],
            [
             0.3,
             "#f1b6da"
            ],
            [
             0.4,
             "#fde0ef"
            ],
            [
             0.5,
             "#f7f7f7"
            ],
            [
             0.6,
             "#e6f5d0"
            ],
            [
             0.7,
             "#b8e186"
            ],
            [
             0.8,
             "#7fbc41"
            ],
            [
             0.9,
             "#4d9221"
            ],
            [
             1,
             "#276419"
            ]
           ],
           "sequential": [
            [
             0,
             "#0d0887"
            ],
            [
             0.1111111111111111,
             "#46039f"
            ],
            [
             0.2222222222222222,
             "#7201a8"
            ],
            [
             0.3333333333333333,
             "#9c179e"
            ],
            [
             0.4444444444444444,
             "#bd3786"
            ],
            [
             0.5555555555555556,
             "#d8576b"
            ],
            [
             0.6666666666666666,
             "#ed7953"
            ],
            [
             0.7777777777777778,
             "#fb9f3a"
            ],
            [
             0.8888888888888888,
             "#fdca26"
            ],
            [
             1,
             "#f0f921"
            ]
           ],
           "sequentialminus": [
            [
             0,
             "#0d0887"
            ],
            [
             0.1111111111111111,
             "#46039f"
            ],
            [
             0.2222222222222222,
             "#7201a8"
            ],
            [
             0.3333333333333333,
             "#9c179e"
            ],
            [
             0.4444444444444444,
             "#bd3786"
            ],
            [
             0.5555555555555556,
             "#d8576b"
            ],
            [
             0.6666666666666666,
             "#ed7953"
            ],
            [
             0.7777777777777778,
             "#fb9f3a"
            ],
            [
             0.8888888888888888,
             "#fdca26"
            ],
            [
             1,
             "#f0f921"
            ]
           ]
          },
          "colorway": [
           "#636efa",
           "#EF553B",
           "#00cc96",
           "#ab63fa",
           "#FFA15A",
           "#19d3f3",
           "#FF6692",
           "#B6E880",
           "#FF97FF",
           "#FECB52"
          ],
          "font": {
           "color": "#2a3f5f"
          },
          "geo": {
           "bgcolor": "white",
           "lakecolor": "white",
           "landcolor": "#E5ECF6",
           "showlakes": true,
           "showland": true,
           "subunitcolor": "white"
          },
          "hoverlabel": {
           "align": "left"
          },
          "hovermode": "closest",
          "mapbox": {
           "style": "light"
          },
          "paper_bgcolor": "white",
          "plot_bgcolor": "#E5ECF6",
          "polar": {
           "angularaxis": {
            "gridcolor": "white",
            "linecolor": "white",
            "ticks": ""
           },
           "bgcolor": "#E5ECF6",
           "radialaxis": {
            "gridcolor": "white",
            "linecolor": "white",
            "ticks": ""
           }
          },
          "scene": {
           "xaxis": {
            "backgroundcolor": "#E5ECF6",
            "gridcolor": "white",
            "gridwidth": 2,
            "linecolor": "white",
            "showbackground": true,
            "ticks": "",
            "zerolinecolor": "white"
           },
           "yaxis": {
            "backgroundcolor": "#E5ECF6",
            "gridcolor": "white",
            "gridwidth": 2,
            "linecolor": "white",
            "showbackground": true,
            "ticks": "",
            "zerolinecolor": "white"
           },
           "zaxis": {
            "backgroundcolor": "#E5ECF6",
            "gridcolor": "white",
            "gridwidth": 2,
            "linecolor": "white",
            "showbackground": true,
            "ticks": "",
            "zerolinecolor": "white"
           }
          },
          "shapedefaults": {
           "line": {
            "color": "#2a3f5f"
           }
          },
          "ternary": {
           "aaxis": {
            "gridcolor": "white",
            "linecolor": "white",
            "ticks": ""
           },
           "baxis": {
            "gridcolor": "white",
            "linecolor": "white",
            "ticks": ""
           },
           "bgcolor": "#E5ECF6",
           "caxis": {
            "gridcolor": "white",
            "linecolor": "white",
            "ticks": ""
           }
          },
          "title": {
           "x": 0.05
          },
          "xaxis": {
           "automargin": true,
           "gridcolor": "white",
           "linecolor": "white",
           "ticks": "",
           "title": {
            "standoff": 15
           },
           "zerolinecolor": "white",
           "zerolinewidth": 2
          },
          "yaxis": {
           "automargin": true,
           "gridcolor": "white",
           "linecolor": "white",
           "ticks": "",
           "title": {
            "standoff": 15
           },
           "zerolinecolor": "white",
           "zerolinewidth": 2
          }
         }
        },
        "title": {
         "text": "Comparison of Amount Spent vs. Voter Turnout"
        },
        "width": 800,
        "xaxis": {
         "anchor": "y",
         "domain": [
          0,
          1
         ],
         "title": {
          "text": "Amount Spent (INR)"
         }
        },
        "yaxis": {
         "anchor": "x",
         "domain": [
          0,
          1
         ],
         "title": {
          "text": "Voter Turnout (%)"
         }
        }
       }
      }
     },
     "metadata": {},
     "output_type": "display_data"
    }
   ],
   "source": [
    "# Seeing if there's a relationship b/w money spent on ads and voter turnout\n",
    "\n",
    "# Create the scatter plot\n",
    "comparision = px.scatter(loc_results, \n",
    "                         x='Amount spent (INR)',  # Corrected column name\n",
    "                         y='Polled (%)',\n",
    "                         title='Comparison of Amount Spent vs. Voter Turnout',\n",
    "                         labels={'Amount spent (INR)': 'Amount Spent (INR)', \n",
    "                                 'Polled (%)': 'Voter Turnout (%)'},\n",
    "                         color='State',  # Optional: color by state\n",
    "                         size='Polled (%)')  # Optional: size by voter turnout\n",
    "\n",
    "# Update layout\n",
    "comparision.update_layout(width=800, height=600)\n",
    "\n",
    "# Show plot\n",
    "comparision.show()\n",
    "\n"
   ]
  },
  {
   "cell_type": "code",
   "execution_count": 36,
   "metadata": {},
   "outputs": [
    {
     "name": "stdout",
     "output_type": "stream",
     "text": [
      "                    Amount spent (INR)  Polled (%)\n",
      "Amount spent (INR)            1.000000   -0.010688\n",
      "Polled (%)                   -0.010688    1.000000\n"
     ]
    }
   ],
   "source": [
    "correlation_bw_AmountSpent_and_Polling=loc_results[['Amount spent (INR)', 'Polled (%)']].corr()\n",
    "print(correlation_bw_AmountSpent_and_Polling)\n",
    "\n",
    "#Shows a weak correlation bw spending amount and polling percentage"
   ]
  },
  {
   "cell_type": "code",
   "execution_count": 37,
   "metadata": {},
   "outputs": [
    {
     "data": {
      "text/html": [
       "<div>\n",
       "<style scoped>\n",
       "    .dataframe tbody tr th:only-of-type {\n",
       "        vertical-align: middle;\n",
       "    }\n",
       "\n",
       "    .dataframe tbody tr th {\n",
       "        vertical-align: top;\n",
       "    }\n",
       "\n",
       "    .dataframe thead th {\n",
       "        text-align: right;\n",
       "    }\n",
       "</style>\n",
       "<table border=\"1\" class=\"dataframe\">\n",
       "  <thead>\n",
       "    <tr style=\"text-align: right;\">\n",
       "      <th></th>\n",
       "      <th>Page ID</th>\n",
       "      <th>Page name</th>\n",
       "      <th>Disclaimer</th>\n",
       "      <th>Amount spent (INR)</th>\n",
       "      <th>Number of ads in Library</th>\n",
       "    </tr>\n",
       "  </thead>\n",
       "  <tbody>\n",
       "    <tr>\n",
       "      <th>0</th>\n",
       "      <td>1.214400e+14</td>\n",
       "      <td>Bharatiya Janata Party (BJP)</td>\n",
       "      <td>Bharatiya Janata Party (BJP)</td>\n",
       "      <td>193854342</td>\n",
       "      <td>43455</td>\n",
       "    </tr>\n",
       "    <tr>\n",
       "      <th>1</th>\n",
       "      <td>3.516160e+14</td>\n",
       "      <td>Indian National Congress</td>\n",
       "      <td>Indian National Congress</td>\n",
       "      <td>108787100</td>\n",
       "      <td>846</td>\n",
       "    </tr>\n",
       "    <tr>\n",
       "      <th>2</th>\n",
       "      <td>1.327150e+14</td>\n",
       "      <td>Ama Chinha Sankha Chinha</td>\n",
       "      <td>Ama Chinha Sankha Chinha</td>\n",
       "      <td>73361399</td>\n",
       "      <td>1799</td>\n",
       "    </tr>\n",
       "    <tr>\n",
       "      <th>3</th>\n",
       "      <td>1.928560e+14</td>\n",
       "      <td>Ama Chinha Sankha Chinha</td>\n",
       "      <td>Ama Chinha Sankha Chinha</td>\n",
       "      <td>32294327</td>\n",
       "      <td>680</td>\n",
       "    </tr>\n",
       "    <tr>\n",
       "      <th>4</th>\n",
       "      <td>1.094700e+14</td>\n",
       "      <td>Ellorum Nammudan</td>\n",
       "      <td>Populus Empowerment Network Private Limited</td>\n",
       "      <td>22399499</td>\n",
       "      <td>879</td>\n",
       "    </tr>\n",
       "  </tbody>\n",
       "</table>\n",
       "</div>"
      ],
      "text/plain": [
       "        Page ID                     Page name  \\\n",
       "0  1.214400e+14  Bharatiya Janata Party (BJP)   \n",
       "1  3.516160e+14      Indian National Congress   \n",
       "2  1.327150e+14      Ama Chinha Sankha Chinha   \n",
       "3  1.928560e+14      Ama Chinha Sankha Chinha   \n",
       "4  1.094700e+14              Ellorum Nammudan   \n",
       "\n",
       "                                    Disclaimer Amount spent (INR)  \\\n",
       "0                 Bharatiya Janata Party (BJP)          193854342   \n",
       "1                     Indian National Congress          108787100   \n",
       "2                     Ama Chinha Sankha Chinha           73361399   \n",
       "3                     Ama Chinha Sankha Chinha           32294327   \n",
       "4  Populus Empowerment Network Private Limited           22399499   \n",
       "\n",
       "   Number of ads in Library  \n",
       "0                     43455  \n",
       "1                       846  \n",
       "2                      1799  \n",
       "3                       680  \n",
       "4                       879  "
      ]
     },
     "execution_count": 37,
     "metadata": {},
     "output_type": "execute_result"
    }
   ],
   "source": [
    "advertisers.head()"
   ]
  },
  {
   "cell_type": "code",
   "execution_count": 38,
   "metadata": {},
   "outputs": [
    {
     "data": {
      "application/vnd.plotly.v1+json": {
       "config": {
        "plotlyServerURL": "https://plot.ly"
       },
       "data": [
        {
         "domain": {
          "x": [
           0,
           1
          ],
          "y": [
           0,
           1
          ]
         },
         "hovertemplate": "Political Party=%{label}<br>Ad Spend (INR)=%{value}<extra></extra>",
         "labels": [
          "Bharatiya Janata Party (BJP)",
          "Ama Chinha Sankha Chinha",
          "Indian National Congress",
          "Ellorum Nammudan",
          "BJP Odisha"
         ],
         "legendgroup": "",
         "name": "",
         "showlegend": true,
         "type": "pie",
         "values": [
          193854342,
          112412941,
          108787100,
          23806041,
          19573782
         ]
        }
       ],
       "layout": {
        "legend": {
         "tracegroupgap": 0
        },
        "piecolorway": [
         "#ff9999",
         "#66b3ff",
         "#99ff99",
         "#ffcc99",
         "#c2c2f0"
        ],
        "template": {
         "data": {
          "bar": [
           {
            "error_x": {
             "color": "#2a3f5f"
            },
            "error_y": {
             "color": "#2a3f5f"
            },
            "marker": {
             "line": {
              "color": "#E5ECF6",
              "width": 0.5
             },
             "pattern": {
              "fillmode": "overlay",
              "size": 10,
              "solidity": 0.2
             }
            },
            "type": "bar"
           }
          ],
          "barpolar": [
           {
            "marker": {
             "line": {
              "color": "#E5ECF6",
              "width": 0.5
             },
             "pattern": {
              "fillmode": "overlay",
              "size": 10,
              "solidity": 0.2
             }
            },
            "type": "barpolar"
           }
          ],
          "carpet": [
           {
            "aaxis": {
             "endlinecolor": "#2a3f5f",
             "gridcolor": "white",
             "linecolor": "white",
             "minorgridcolor": "white",
             "startlinecolor": "#2a3f5f"
            },
            "baxis": {
             "endlinecolor": "#2a3f5f",
             "gridcolor": "white",
             "linecolor": "white",
             "minorgridcolor": "white",
             "startlinecolor": "#2a3f5f"
            },
            "type": "carpet"
           }
          ],
          "choropleth": [
           {
            "colorbar": {
             "outlinewidth": 0,
             "ticks": ""
            },
            "type": "choropleth"
           }
          ],
          "contour": [
           {
            "colorbar": {
             "outlinewidth": 0,
             "ticks": ""
            },
            "colorscale": [
             [
              0,
              "#0d0887"
             ],
             [
              0.1111111111111111,
              "#46039f"
             ],
             [
              0.2222222222222222,
              "#7201a8"
             ],
             [
              0.3333333333333333,
              "#9c179e"
             ],
             [
              0.4444444444444444,
              "#bd3786"
             ],
             [
              0.5555555555555556,
              "#d8576b"
             ],
             [
              0.6666666666666666,
              "#ed7953"
             ],
             [
              0.7777777777777778,
              "#fb9f3a"
             ],
             [
              0.8888888888888888,
              "#fdca26"
             ],
             [
              1,
              "#f0f921"
             ]
            ],
            "type": "contour"
           }
          ],
          "contourcarpet": [
           {
            "colorbar": {
             "outlinewidth": 0,
             "ticks": ""
            },
            "type": "contourcarpet"
           }
          ],
          "heatmap": [
           {
            "colorbar": {
             "outlinewidth": 0,
             "ticks": ""
            },
            "colorscale": [
             [
              0,
              "#0d0887"
             ],
             [
              0.1111111111111111,
              "#46039f"
             ],
             [
              0.2222222222222222,
              "#7201a8"
             ],
             [
              0.3333333333333333,
              "#9c179e"
             ],
             [
              0.4444444444444444,
              "#bd3786"
             ],
             [
              0.5555555555555556,
              "#d8576b"
             ],
             [
              0.6666666666666666,
              "#ed7953"
             ],
             [
              0.7777777777777778,
              "#fb9f3a"
             ],
             [
              0.8888888888888888,
              "#fdca26"
             ],
             [
              1,
              "#f0f921"
             ]
            ],
            "type": "heatmap"
           }
          ],
          "heatmapgl": [
           {
            "colorbar": {
             "outlinewidth": 0,
             "ticks": ""
            },
            "colorscale": [
             [
              0,
              "#0d0887"
             ],
             [
              0.1111111111111111,
              "#46039f"
             ],
             [
              0.2222222222222222,
              "#7201a8"
             ],
             [
              0.3333333333333333,
              "#9c179e"
             ],
             [
              0.4444444444444444,
              "#bd3786"
             ],
             [
              0.5555555555555556,
              "#d8576b"
             ],
             [
              0.6666666666666666,
              "#ed7953"
             ],
             [
              0.7777777777777778,
              "#fb9f3a"
             ],
             [
              0.8888888888888888,
              "#fdca26"
             ],
             [
              1,
              "#f0f921"
             ]
            ],
            "type": "heatmapgl"
           }
          ],
          "histogram": [
           {
            "marker": {
             "pattern": {
              "fillmode": "overlay",
              "size": 10,
              "solidity": 0.2
             }
            },
            "type": "histogram"
           }
          ],
          "histogram2d": [
           {
            "colorbar": {
             "outlinewidth": 0,
             "ticks": ""
            },
            "colorscale": [
             [
              0,
              "#0d0887"
             ],
             [
              0.1111111111111111,
              "#46039f"
             ],
             [
              0.2222222222222222,
              "#7201a8"
             ],
             [
              0.3333333333333333,
              "#9c179e"
             ],
             [
              0.4444444444444444,
              "#bd3786"
             ],
             [
              0.5555555555555556,
              "#d8576b"
             ],
             [
              0.6666666666666666,
              "#ed7953"
             ],
             [
              0.7777777777777778,
              "#fb9f3a"
             ],
             [
              0.8888888888888888,
              "#fdca26"
             ],
             [
              1,
              "#f0f921"
             ]
            ],
            "type": "histogram2d"
           }
          ],
          "histogram2dcontour": [
           {
            "colorbar": {
             "outlinewidth": 0,
             "ticks": ""
            },
            "colorscale": [
             [
              0,
              "#0d0887"
             ],
             [
              0.1111111111111111,
              "#46039f"
             ],
             [
              0.2222222222222222,
              "#7201a8"
             ],
             [
              0.3333333333333333,
              "#9c179e"
             ],
             [
              0.4444444444444444,
              "#bd3786"
             ],
             [
              0.5555555555555556,
              "#d8576b"
             ],
             [
              0.6666666666666666,
              "#ed7953"
             ],
             [
              0.7777777777777778,
              "#fb9f3a"
             ],
             [
              0.8888888888888888,
              "#fdca26"
             ],
             [
              1,
              "#f0f921"
             ]
            ],
            "type": "histogram2dcontour"
           }
          ],
          "mesh3d": [
           {
            "colorbar": {
             "outlinewidth": 0,
             "ticks": ""
            },
            "type": "mesh3d"
           }
          ],
          "parcoords": [
           {
            "line": {
             "colorbar": {
              "outlinewidth": 0,
              "ticks": ""
             }
            },
            "type": "parcoords"
           }
          ],
          "pie": [
           {
            "automargin": true,
            "type": "pie"
           }
          ],
          "scatter": [
           {
            "fillpattern": {
             "fillmode": "overlay",
             "size": 10,
             "solidity": 0.2
            },
            "type": "scatter"
           }
          ],
          "scatter3d": [
           {
            "line": {
             "colorbar": {
              "outlinewidth": 0,
              "ticks": ""
             }
            },
            "marker": {
             "colorbar": {
              "outlinewidth": 0,
              "ticks": ""
             }
            },
            "type": "scatter3d"
           }
          ],
          "scattercarpet": [
           {
            "marker": {
             "colorbar": {
              "outlinewidth": 0,
              "ticks": ""
             }
            },
            "type": "scattercarpet"
           }
          ],
          "scattergeo": [
           {
            "marker": {
             "colorbar": {
              "outlinewidth": 0,
              "ticks": ""
             }
            },
            "type": "scattergeo"
           }
          ],
          "scattergl": [
           {
            "marker": {
             "colorbar": {
              "outlinewidth": 0,
              "ticks": ""
             }
            },
            "type": "scattergl"
           }
          ],
          "scattermapbox": [
           {
            "marker": {
             "colorbar": {
              "outlinewidth": 0,
              "ticks": ""
             }
            },
            "type": "scattermapbox"
           }
          ],
          "scatterpolar": [
           {
            "marker": {
             "colorbar": {
              "outlinewidth": 0,
              "ticks": ""
             }
            },
            "type": "scatterpolar"
           }
          ],
          "scatterpolargl": [
           {
            "marker": {
             "colorbar": {
              "outlinewidth": 0,
              "ticks": ""
             }
            },
            "type": "scatterpolargl"
           }
          ],
          "scatterternary": [
           {
            "marker": {
             "colorbar": {
              "outlinewidth": 0,
              "ticks": ""
             }
            },
            "type": "scatterternary"
           }
          ],
          "surface": [
           {
            "colorbar": {
             "outlinewidth": 0,
             "ticks": ""
            },
            "colorscale": [
             [
              0,
              "#0d0887"
             ],
             [
              0.1111111111111111,
              "#46039f"
             ],
             [
              0.2222222222222222,
              "#7201a8"
             ],
             [
              0.3333333333333333,
              "#9c179e"
             ],
             [
              0.4444444444444444,
              "#bd3786"
             ],
             [
              0.5555555555555556,
              "#d8576b"
             ],
             [
              0.6666666666666666,
              "#ed7953"
             ],
             [
              0.7777777777777778,
              "#fb9f3a"
             ],
             [
              0.8888888888888888,
              "#fdca26"
             ],
             [
              1,
              "#f0f921"
             ]
            ],
            "type": "surface"
           }
          ],
          "table": [
           {
            "cells": {
             "fill": {
              "color": "#EBF0F8"
             },
             "line": {
              "color": "white"
             }
            },
            "header": {
             "fill": {
              "color": "#C8D4E3"
             },
             "line": {
              "color": "white"
             }
            },
            "type": "table"
           }
          ]
         },
         "layout": {
          "annotationdefaults": {
           "arrowcolor": "#2a3f5f",
           "arrowhead": 0,
           "arrowwidth": 1
          },
          "autotypenumbers": "strict",
          "coloraxis": {
           "colorbar": {
            "outlinewidth": 0,
            "ticks": ""
           }
          },
          "colorscale": {
           "diverging": [
            [
             0,
             "#8e0152"
            ],
            [
             0.1,
             "#c51b7d"
            ],
            [
             0.2,
             "#de77ae"
            ],
            [
             0.3,
             "#f1b6da"
            ],
            [
             0.4,
             "#fde0ef"
            ],
            [
             0.5,
             "#f7f7f7"
            ],
            [
             0.6,
             "#e6f5d0"
            ],
            [
             0.7,
             "#b8e186"
            ],
            [
             0.8,
             "#7fbc41"
            ],
            [
             0.9,
             "#4d9221"
            ],
            [
             1,
             "#276419"
            ]
           ],
           "sequential": [
            [
             0,
             "#0d0887"
            ],
            [
             0.1111111111111111,
             "#46039f"
            ],
            [
             0.2222222222222222,
             "#7201a8"
            ],
            [
             0.3333333333333333,
             "#9c179e"
            ],
            [
             0.4444444444444444,
             "#bd3786"
            ],
            [
             0.5555555555555556,
             "#d8576b"
            ],
            [
             0.6666666666666666,
             "#ed7953"
            ],
            [
             0.7777777777777778,
             "#fb9f3a"
            ],
            [
             0.8888888888888888,
             "#fdca26"
            ],
            [
             1,
             "#f0f921"
            ]
           ],
           "sequentialminus": [
            [
             0,
             "#0d0887"
            ],
            [
             0.1111111111111111,
             "#46039f"
            ],
            [
             0.2222222222222222,
             "#7201a8"
            ],
            [
             0.3333333333333333,
             "#9c179e"
            ],
            [
             0.4444444444444444,
             "#bd3786"
            ],
            [
             0.5555555555555556,
             "#d8576b"
            ],
            [
             0.6666666666666666,
             "#ed7953"
            ],
            [
             0.7777777777777778,
             "#fb9f3a"
            ],
            [
             0.8888888888888888,
             "#fdca26"
            ],
            [
             1,
             "#f0f921"
            ]
           ]
          },
          "colorway": [
           "#636efa",
           "#EF553B",
           "#00cc96",
           "#ab63fa",
           "#FFA15A",
           "#19d3f3",
           "#FF6692",
           "#B6E880",
           "#FF97FF",
           "#FECB52"
          ],
          "font": {
           "color": "#2a3f5f"
          },
          "geo": {
           "bgcolor": "white",
           "lakecolor": "white",
           "landcolor": "#E5ECF6",
           "showlakes": true,
           "showland": true,
           "subunitcolor": "white"
          },
          "hoverlabel": {
           "align": "left"
          },
          "hovermode": "closest",
          "mapbox": {
           "style": "light"
          },
          "paper_bgcolor": "white",
          "plot_bgcolor": "#E5ECF6",
          "polar": {
           "angularaxis": {
            "gridcolor": "white",
            "linecolor": "white",
            "ticks": ""
           },
           "bgcolor": "#E5ECF6",
           "radialaxis": {
            "gridcolor": "white",
            "linecolor": "white",
            "ticks": ""
           }
          },
          "scene": {
           "xaxis": {
            "backgroundcolor": "#E5ECF6",
            "gridcolor": "white",
            "gridwidth": 2,
            "linecolor": "white",
            "showbackground": true,
            "ticks": "",
            "zerolinecolor": "white"
           },
           "yaxis": {
            "backgroundcolor": "#E5ECF6",
            "gridcolor": "white",
            "gridwidth": 2,
            "linecolor": "white",
            "showbackground": true,
            "ticks": "",
            "zerolinecolor": "white"
           },
           "zaxis": {
            "backgroundcolor": "#E5ECF6",
            "gridcolor": "white",
            "gridwidth": 2,
            "linecolor": "white",
            "showbackground": true,
            "ticks": "",
            "zerolinecolor": "white"
           }
          },
          "shapedefaults": {
           "line": {
            "color": "#2a3f5f"
           }
          },
          "ternary": {
           "aaxis": {
            "gridcolor": "white",
            "linecolor": "white",
            "ticks": ""
           },
           "baxis": {
            "gridcolor": "white",
            "linecolor": "white",
            "ticks": ""
           },
           "bgcolor": "#E5ECF6",
           "caxis": {
            "gridcolor": "white",
            "linecolor": "white",
            "ticks": ""
           }
          },
          "title": {
           "x": 0.05
          },
          "xaxis": {
           "automargin": true,
           "gridcolor": "white",
           "linecolor": "white",
           "ticks": "",
           "title": {
            "standoff": 15
           },
           "zerolinecolor": "white",
           "zerolinewidth": 2
          },
          "yaxis": {
           "automargin": true,
           "gridcolor": "white",
           "linecolor": "white",
           "ticks": "",
           "title": {
            "standoff": 15
           },
           "zerolinecolor": "white",
           "zerolinewidth": 2
          }
         }
        },
        "title": {
         "text": "Top 5 Parties by Ad Spend"
        }
       }
      }
     },
     "metadata": {},
     "output_type": "display_data"
    }
   ],
   "source": [
    "advertisers['Amount spent (INR)'] = pd.to_numeric(advertisers['Amount spent (INR)'], errors='coerce')\n",
    "\n",
    "advertisers.dropna(subset=['Amount spent (INR)'], inplace=True)\n",
    "\n",
    "party_ad_spend = advertisers.groupby('Page name')['Amount spent (INR)'].sum().sort_values(ascending=False)\n",
    "\n",
    "top_5_parties = party_ad_spend.head(5).reset_index()\n",
    "\n",
    "colors = ['#ff9999', '#66b3ff', '#99ff99', '#ffcc99', '#c2c2f0']\n",
    "\n",
    "fig = px.pie(top_5_parties, values='Amount spent (INR)', names='Page name',\n",
    "             title='Top 5 Parties by Ad Spend', color_discrete_sequence=colors,\n",
    "             labels={'Page name': 'Political Party', 'Amount spent (INR)': 'Ad Spend (INR)'})\n",
    "\n",
    "fig.show()\n"
   ]
  },
  {
   "cell_type": "code",
   "execution_count": 39,
   "metadata": {},
   "outputs": [
    {
     "data": {
      "application/vnd.plotly.v1+json": {
       "config": {
        "plotlyServerURL": "https://plot.ly"
       },
       "data": [
        {
         "alignmentgroup": "True",
         "hovertemplate": "Election Phase=%{x}<br>Ad Spend (INR)=%{y}<extra></extra>",
         "legendgroup": "",
         "marker": {
          "color": "indianred",
          "pattern": {
           "shape": ""
          }
         },
         "name": "",
         "offsetgroup": "",
         "orientation": "v",
         "showlegend": false,
         "textposition": "auto",
         "type": "bar",
         "x": [
          1,
          2,
          3,
          4,
          5,
          6
         ],
         "xaxis": "x",
         "y": [
          5556265415,
          3986936358,
          4726512390,
          7732806345,
          4346064062,
          3872711127
         ],
         "yaxis": "y"
        },
        {
         "marker": {
          "color": "lightsalmon"
         },
         "mode": "lines+markers",
         "name": "Voter Turnout (%)",
         "type": "scatter",
         "x": [
          1,
          2,
          3,
          4,
          5,
          6
         ],
         "y": [
          67.2021359223301,
          67.75539325842696,
          65.99265957446809,
          70.17494845360825,
          62.6304,
          63.828813559322036
         ],
         "yaxis": "y2"
        }
       ],
       "layout": {
        "barmode": "relative",
        "legend": {
         "tracegroupgap": 0
        },
        "template": {
         "data": {
          "bar": [
           {
            "error_x": {
             "color": "#2a3f5f"
            },
            "error_y": {
             "color": "#2a3f5f"
            },
            "marker": {
             "line": {
              "color": "#E5ECF6",
              "width": 0.5
             },
             "pattern": {
              "fillmode": "overlay",
              "size": 10,
              "solidity": 0.2
             }
            },
            "type": "bar"
           }
          ],
          "barpolar": [
           {
            "marker": {
             "line": {
              "color": "#E5ECF6",
              "width": 0.5
             },
             "pattern": {
              "fillmode": "overlay",
              "size": 10,
              "solidity": 0.2
             }
            },
            "type": "barpolar"
           }
          ],
          "carpet": [
           {
            "aaxis": {
             "endlinecolor": "#2a3f5f",
             "gridcolor": "white",
             "linecolor": "white",
             "minorgridcolor": "white",
             "startlinecolor": "#2a3f5f"
            },
            "baxis": {
             "endlinecolor": "#2a3f5f",
             "gridcolor": "white",
             "linecolor": "white",
             "minorgridcolor": "white",
             "startlinecolor": "#2a3f5f"
            },
            "type": "carpet"
           }
          ],
          "choropleth": [
           {
            "colorbar": {
             "outlinewidth": 0,
             "ticks": ""
            },
            "type": "choropleth"
           }
          ],
          "contour": [
           {
            "colorbar": {
             "outlinewidth": 0,
             "ticks": ""
            },
            "colorscale": [
             [
              0,
              "#0d0887"
             ],
             [
              0.1111111111111111,
              "#46039f"
             ],
             [
              0.2222222222222222,
              "#7201a8"
             ],
             [
              0.3333333333333333,
              "#9c179e"
             ],
             [
              0.4444444444444444,
              "#bd3786"
             ],
             [
              0.5555555555555556,
              "#d8576b"
             ],
             [
              0.6666666666666666,
              "#ed7953"
             ],
             [
              0.7777777777777778,
              "#fb9f3a"
             ],
             [
              0.8888888888888888,
              "#fdca26"
             ],
             [
              1,
              "#f0f921"
             ]
            ],
            "type": "contour"
           }
          ],
          "contourcarpet": [
           {
            "colorbar": {
             "outlinewidth": 0,
             "ticks": ""
            },
            "type": "contourcarpet"
           }
          ],
          "heatmap": [
           {
            "colorbar": {
             "outlinewidth": 0,
             "ticks": ""
            },
            "colorscale": [
             [
              0,
              "#0d0887"
             ],
             [
              0.1111111111111111,
              "#46039f"
             ],
             [
              0.2222222222222222,
              "#7201a8"
             ],
             [
              0.3333333333333333,
              "#9c179e"
             ],
             [
              0.4444444444444444,
              "#bd3786"
             ],
             [
              0.5555555555555556,
              "#d8576b"
             ],
             [
              0.6666666666666666,
              "#ed7953"
             ],
             [
              0.7777777777777778,
              "#fb9f3a"
             ],
             [
              0.8888888888888888,
              "#fdca26"
             ],
             [
              1,
              "#f0f921"
             ]
            ],
            "type": "heatmap"
           }
          ],
          "heatmapgl": [
           {
            "colorbar": {
             "outlinewidth": 0,
             "ticks": ""
            },
            "colorscale": [
             [
              0,
              "#0d0887"
             ],
             [
              0.1111111111111111,
              "#46039f"
             ],
             [
              0.2222222222222222,
              "#7201a8"
             ],
             [
              0.3333333333333333,
              "#9c179e"
             ],
             [
              0.4444444444444444,
              "#bd3786"
             ],
             [
              0.5555555555555556,
              "#d8576b"
             ],
             [
              0.6666666666666666,
              "#ed7953"
             ],
             [
              0.7777777777777778,
              "#fb9f3a"
             ],
             [
              0.8888888888888888,
              "#fdca26"
             ],
             [
              1,
              "#f0f921"
             ]
            ],
            "type": "heatmapgl"
           }
          ],
          "histogram": [
           {
            "marker": {
             "pattern": {
              "fillmode": "overlay",
              "size": 10,
              "solidity": 0.2
             }
            },
            "type": "histogram"
           }
          ],
          "histogram2d": [
           {
            "colorbar": {
             "outlinewidth": 0,
             "ticks": ""
            },
            "colorscale": [
             [
              0,
              "#0d0887"
             ],
             [
              0.1111111111111111,
              "#46039f"
             ],
             [
              0.2222222222222222,
              "#7201a8"
             ],
             [
              0.3333333333333333,
              "#9c179e"
             ],
             [
              0.4444444444444444,
              "#bd3786"
             ],
             [
              0.5555555555555556,
              "#d8576b"
             ],
             [
              0.6666666666666666,
              "#ed7953"
             ],
             [
              0.7777777777777778,
              "#fb9f3a"
             ],
             [
              0.8888888888888888,
              "#fdca26"
             ],
             [
              1,
              "#f0f921"
             ]
            ],
            "type": "histogram2d"
           }
          ],
          "histogram2dcontour": [
           {
            "colorbar": {
             "outlinewidth": 0,
             "ticks": ""
            },
            "colorscale": [
             [
              0,
              "#0d0887"
             ],
             [
              0.1111111111111111,
              "#46039f"
             ],
             [
              0.2222222222222222,
              "#7201a8"
             ],
             [
              0.3333333333333333,
              "#9c179e"
             ],
             [
              0.4444444444444444,
              "#bd3786"
             ],
             [
              0.5555555555555556,
              "#d8576b"
             ],
             [
              0.6666666666666666,
              "#ed7953"
             ],
             [
              0.7777777777777778,
              "#fb9f3a"
             ],
             [
              0.8888888888888888,
              "#fdca26"
             ],
             [
              1,
              "#f0f921"
             ]
            ],
            "type": "histogram2dcontour"
           }
          ],
          "mesh3d": [
           {
            "colorbar": {
             "outlinewidth": 0,
             "ticks": ""
            },
            "type": "mesh3d"
           }
          ],
          "parcoords": [
           {
            "line": {
             "colorbar": {
              "outlinewidth": 0,
              "ticks": ""
             }
            },
            "type": "parcoords"
           }
          ],
          "pie": [
           {
            "automargin": true,
            "type": "pie"
           }
          ],
          "scatter": [
           {
            "fillpattern": {
             "fillmode": "overlay",
             "size": 10,
             "solidity": 0.2
            },
            "type": "scatter"
           }
          ],
          "scatter3d": [
           {
            "line": {
             "colorbar": {
              "outlinewidth": 0,
              "ticks": ""
             }
            },
            "marker": {
             "colorbar": {
              "outlinewidth": 0,
              "ticks": ""
             }
            },
            "type": "scatter3d"
           }
          ],
          "scattercarpet": [
           {
            "marker": {
             "colorbar": {
              "outlinewidth": 0,
              "ticks": ""
             }
            },
            "type": "scattercarpet"
           }
          ],
          "scattergeo": [
           {
            "marker": {
             "colorbar": {
              "outlinewidth": 0,
              "ticks": ""
             }
            },
            "type": "scattergeo"
           }
          ],
          "scattergl": [
           {
            "marker": {
             "colorbar": {
              "outlinewidth": 0,
              "ticks": ""
             }
            },
            "type": "scattergl"
           }
          ],
          "scattermapbox": [
           {
            "marker": {
             "colorbar": {
              "outlinewidth": 0,
              "ticks": ""
             }
            },
            "type": "scattermapbox"
           }
          ],
          "scatterpolar": [
           {
            "marker": {
             "colorbar": {
              "outlinewidth": 0,
              "ticks": ""
             }
            },
            "type": "scatterpolar"
           }
          ],
          "scatterpolargl": [
           {
            "marker": {
             "colorbar": {
              "outlinewidth": 0,
              "ticks": ""
             }
            },
            "type": "scatterpolargl"
           }
          ],
          "scatterternary": [
           {
            "marker": {
             "colorbar": {
              "outlinewidth": 0,
              "ticks": ""
             }
            },
            "type": "scatterternary"
           }
          ],
          "surface": [
           {
            "colorbar": {
             "outlinewidth": 0,
             "ticks": ""
            },
            "colorscale": [
             [
              0,
              "#0d0887"
             ],
             [
              0.1111111111111111,
              "#46039f"
             ],
             [
              0.2222222222222222,
              "#7201a8"
             ],
             [
              0.3333333333333333,
              "#9c179e"
             ],
             [
              0.4444444444444444,
              "#bd3786"
             ],
             [
              0.5555555555555556,
              "#d8576b"
             ],
             [
              0.6666666666666666,
              "#ed7953"
             ],
             [
              0.7777777777777778,
              "#fb9f3a"
             ],
             [
              0.8888888888888888,
              "#fdca26"
             ],
             [
              1,
              "#f0f921"
             ]
            ],
            "type": "surface"
           }
          ],
          "table": [
           {
            "cells": {
             "fill": {
              "color": "#EBF0F8"
             },
             "line": {
              "color": "white"
             }
            },
            "header": {
             "fill": {
              "color": "#C8D4E3"
             },
             "line": {
              "color": "white"
             }
            },
            "type": "table"
           }
          ]
         },
         "layout": {
          "annotationdefaults": {
           "arrowcolor": "#2a3f5f",
           "arrowhead": 0,
           "arrowwidth": 1
          },
          "autotypenumbers": "strict",
          "coloraxis": {
           "colorbar": {
            "outlinewidth": 0,
            "ticks": ""
           }
          },
          "colorscale": {
           "diverging": [
            [
             0,
             "#8e0152"
            ],
            [
             0.1,
             "#c51b7d"
            ],
            [
             0.2,
             "#de77ae"
            ],
            [
             0.3,
             "#f1b6da"
            ],
            [
             0.4,
             "#fde0ef"
            ],
            [
             0.5,
             "#f7f7f7"
            ],
            [
             0.6,
             "#e6f5d0"
            ],
            [
             0.7,
             "#b8e186"
            ],
            [
             0.8,
             "#7fbc41"
            ],
            [
             0.9,
             "#4d9221"
            ],
            [
             1,
             "#276419"
            ]
           ],
           "sequential": [
            [
             0,
             "#0d0887"
            ],
            [
             0.1111111111111111,
             "#46039f"
            ],
            [
             0.2222222222222222,
             "#7201a8"
            ],
            [
             0.3333333333333333,
             "#9c179e"
            ],
            [
             0.4444444444444444,
             "#bd3786"
            ],
            [
             0.5555555555555556,
             "#d8576b"
            ],
            [
             0.6666666666666666,
             "#ed7953"
            ],
            [
             0.7777777777777778,
             "#fb9f3a"
            ],
            [
             0.8888888888888888,
             "#fdca26"
            ],
            [
             1,
             "#f0f921"
            ]
           ],
           "sequentialminus": [
            [
             0,
             "#0d0887"
            ],
            [
             0.1111111111111111,
             "#46039f"
            ],
            [
             0.2222222222222222,
             "#7201a8"
            ],
            [
             0.3333333333333333,
             "#9c179e"
            ],
            [
             0.4444444444444444,
             "#bd3786"
            ],
            [
             0.5555555555555556,
             "#d8576b"
            ],
            [
             0.6666666666666666,
             "#ed7953"
            ],
            [
             0.7777777777777778,
             "#fb9f3a"
            ],
            [
             0.8888888888888888,
             "#fdca26"
            ],
            [
             1,
             "#f0f921"
            ]
           ]
          },
          "colorway": [
           "#636efa",
           "#EF553B",
           "#00cc96",
           "#ab63fa",
           "#FFA15A",
           "#19d3f3",
           "#FF6692",
           "#B6E880",
           "#FF97FF",
           "#FECB52"
          ],
          "font": {
           "color": "#2a3f5f"
          },
          "geo": {
           "bgcolor": "white",
           "lakecolor": "white",
           "landcolor": "#E5ECF6",
           "showlakes": true,
           "showland": true,
           "subunitcolor": "white"
          },
          "hoverlabel": {
           "align": "left"
          },
          "hovermode": "closest",
          "mapbox": {
           "style": "light"
          },
          "paper_bgcolor": "white",
          "plot_bgcolor": "#E5ECF6",
          "polar": {
           "angularaxis": {
            "gridcolor": "white",
            "linecolor": "white",
            "ticks": ""
           },
           "bgcolor": "#E5ECF6",
           "radialaxis": {
            "gridcolor": "white",
            "linecolor": "white",
            "ticks": ""
           }
          },
          "scene": {
           "xaxis": {
            "backgroundcolor": "#E5ECF6",
            "gridcolor": "white",
            "gridwidth": 2,
            "linecolor": "white",
            "showbackground": true,
            "ticks": "",
            "zerolinecolor": "white"
           },
           "yaxis": {
            "backgroundcolor": "#E5ECF6",
            "gridcolor": "white",
            "gridwidth": 2,
            "linecolor": "white",
            "showbackground": true,
            "ticks": "",
            "zerolinecolor": "white"
           },
           "zaxis": {
            "backgroundcolor": "#E5ECF6",
            "gridcolor": "white",
            "gridwidth": 2,
            "linecolor": "white",
            "showbackground": true,
            "ticks": "",
            "zerolinecolor": "white"
           }
          },
          "shapedefaults": {
           "line": {
            "color": "#2a3f5f"
           }
          },
          "ternary": {
           "aaxis": {
            "gridcolor": "white",
            "linecolor": "white",
            "ticks": ""
           },
           "baxis": {
            "gridcolor": "white",
            "linecolor": "white",
            "ticks": ""
           },
           "bgcolor": "#E5ECF6",
           "caxis": {
            "gridcolor": "white",
            "linecolor": "white",
            "ticks": ""
           }
          },
          "title": {
           "x": 0.05
          },
          "xaxis": {
           "automargin": true,
           "gridcolor": "white",
           "linecolor": "white",
           "ticks": "",
           "title": {
            "standoff": 15
           },
           "zerolinecolor": "white",
           "zerolinewidth": 2
          },
          "yaxis": {
           "automargin": true,
           "gridcolor": "white",
           "linecolor": "white",
           "ticks": "",
           "title": {
            "standoff": 15
           },
           "zerolinecolor": "white",
           "zerolinewidth": 2
          }
         }
        },
        "title": {
         "text": "Ad Spend and Voter Turnout by Election Phase"
        },
        "xaxis": {
         "anchor": "y",
         "domain": [
          0,
          1
         ],
         "title": {
          "text": "Election Phase"
         }
        },
        "yaxis": {
         "anchor": "x",
         "domain": [
          0,
          1
         ],
         "title": {
          "text": "Ad Spend (INR)"
         }
        }
       }
      }
     },
     "metadata": {},
     "output_type": "display_data"
    }
   ],
   "source": [
    "\n",
    "#Relation between ad spending - voter turnout by election phase\n",
    "\n",
    "# Grouping and aggregating data\n",
    "phase_analysis = loc_results.groupby('Phase').agg({\n",
    "    'Amount spent (INR)': 'sum',\n",
    "    'Polled (%)': 'mean'\n",
    "}).reset_index()\n",
    "\n",
    "# Creating the figure using Plotly Express for the bar chart\n",
    "fig = px.bar(phase_analysis, \n",
    "             x='Phase', \n",
    "             y='Amount spent (INR)', \n",
    "             title='Ad Spend and Voter Turnout by Election Phase',\n",
    "             labels={'Amount spent (INR)': 'Ad Spend (INR)', 'Phase': 'Election Phase'},\n",
    "             color_discrete_sequence=['indianred'])\n",
    "\n",
    "# Adding a scatter plot trace to overlay Voter Turnout on the same figure\n",
    "fig.add_scatter(x=phase_analysis['Phase'], \n",
    "                y=phase_analysis['Polled (%)'], \n",
    "                mode='lines+markers', \n",
    "                name='Voter Turnout (%)', \n",
    "                marker_color='lightsalmon',\n",
    "                yaxis='y2')\n",
    "\n",
    "\n",
    "\n",
    "fig.show()\n"
   ]
  },
  {
   "cell_type": "code",
   "execution_count": 40,
   "metadata": {},
   "outputs": [
    {
     "name": "stdout",
     "output_type": "stream",
     "text": [
      "     _id  Sl No                      State                    PC_Name  \\\n",
      "0      1    1.0  andaman & nicobar islands  Andaman & Nicobar Islands   \n",
      "1      2    2.0          arunachal pradesh             Arunachal East   \n",
      "2      3    3.0          arunachal pradesh             Arunachal West   \n",
      "3      4    4.0                      assam                  Dibrugarh   \n",
      "4      5    5.0                      assam                     Jorhat   \n",
      "..   ...    ...                        ...                        ...   \n",
      "545  546   54.0                west bengal                   Joynagar   \n",
      "546  547   55.0                west bengal            Kolkata Dakshin   \n",
      "547  548   56.0                west bengal              Kolkata Uttar   \n",
      "548  549   57.0                west bengal                 Mathurapur   \n",
      "549  550    NaN                        NaN              Phase 7 Total   \n",
      "\n",
      "     Total Electors  Polled (%)  Total Votes  Phase      Location name  \\\n",
      "0            315148       64.10       202018    1.0                NaN   \n",
      "1            375310       83.31       312658    1.0  arunachal pradesh   \n",
      "2            517384       73.60       380783    1.0  arunachal pradesh   \n",
      "3           1659588       76.75      1273744    1.0              assam   \n",
      "4           1727121       79.89      1379749    1.0              assam   \n",
      "..              ...         ...          ...    ...                ...   \n",
      "545         1844780       80.08      1477298    NaN        west bengal   \n",
      "546         1849520       66.95      1238256    NaN        west bengal   \n",
      "547         1505356       63.59       957319    NaN        west bengal   \n",
      "548         1817068       82.02      1490299    NaN        west bengal   \n",
      "549       100653884       63.88     64296221    NaN                NaN   \n",
      "\n",
      "     Amount spent (INR)  \n",
      "0                   NaN  \n",
      "1             1385654.0  \n",
      "2             1385654.0  \n",
      "3            17478091.0  \n",
      "4            17478091.0  \n",
      "..                  ...  \n",
      "545          77244996.0  \n",
      "546          77244996.0  \n",
      "547          77244996.0  \n",
      "548          77244996.0  \n",
      "549                 NaN  \n",
      "\n",
      "[550 rows x 10 columns]\n"
     ]
    }
   ],
   "source": [
    "print(loc_results)"
   ]
  },
  {
   "cell_type": "code",
   "execution_count": 49,
   "metadata": {},
   "outputs": [
    {
     "name": "stdout",
     "output_type": "stream",
     "text": [
      "   Amount spent (INR)  Total Electors  Amount_spent_per_elector\n",
      "0                 NaN          315148                       NaN\n",
      "1           1385654.0          375310                  3.692025\n",
      "2           1385654.0          517384                  2.678193\n",
      "3          17478091.0         1659588                 10.531584\n",
      "4          17478091.0         1727121                 10.119784\n"
     ]
    }
   ],
   "source": [
    "#Creating new features of amount spent (INR)/Total voters\n",
    "# Ensure that both 'Amount spent (INR)' and 'Total Electors' columns are numeric\n",
    "loc_results['Amount spent (INR)'] = pd.to_numeric(loc_results['Amount spent (INR)'], errors='coerce')\n",
    "loc_results['Total Electors'] = pd.to_numeric(loc_results['Total Electors'], errors='coerce')\n",
    "\n",
    "# Create the new feature/column by dividing 'Amount spent (INR)' by 'Total Electors'\n",
    "loc_results['Amount_spent_per_elector'] = loc_results['Amount spent (INR)'] / loc_results['Total Electors']\n",
    "\n",
    "print(loc_results[['Amount spent (INR)', 'Total Electors', 'Amount_spent_per_elector']].head())\n"
   ]
  },
  {
   "cell_type": "code",
   "execution_count": 50,
   "metadata": {},
   "outputs": [
    {
     "data": {
      "application/vnd.plotly.v1+json": {
       "config": {
        "plotlyServerURL": "https://plot.ly"
       },
       "data": [
        {
         "alignmentgroup": "True",
         "hovertemplate": "State=%{x}<br>Amount Spent Per Elector (INR)=%{marker.color}<extra></extra>",
         "legendgroup": "",
         "marker": {
          "color": [
           null,
           61.18837515781473,
           3.1851089294064865,
           10.630776256747575,
           27.95667141770943,
           9.862395707822765,
           8.019316852138658,
           null,
           3.6710645510036857,
           21.171223489076024,
           21.095465712121992,
           8.52647332626129,
           3.773635291971376,
           9.146539899479295,
           21.843888944623703,
           16.390030844910434,
           null,
           0.34346878028520006,
           20.65326585664463,
           53.4506526835198,
           1.4458025066790217,
           0.8508412395379645,
           0.5617377657164476,
           0.45476556238311516,
           null,
           112.95771834263542,
           1.500120640930586,
           null,
           19.378017541407182,
           9.4352932304908,
           48.60257014323402,
           29.412154249142944,
           1.2995000794025326,
           46.962602292278135,
           4.4245703149610325,
           42.82844326703185
          ],
          "coloraxis": "coloraxis",
          "pattern": {
           "shape": ""
          }
         },
         "name": "",
         "offsetgroup": "",
         "orientation": "v",
         "showlegend": false,
         "textposition": "auto",
         "type": "bar",
         "x": [
          "andaman & nicobar islands",
          "andhra pradesh",
          "arunachal pradesh",
          "assam",
          "bihar",
          "chandigarh",
          "chhattisgarh",
          "dadra & nagar haveli and\ndaman & diu",
          "goa",
          "gujarat",
          "haryana",
          "himachal pradesh",
          "jammu and kashmir",
          "jharkhand",
          "karnataka",
          "kerala",
          "ladakh",
          "lakshadweep",
          "madhya pradesh",
          "maharashtra",
          "manipur",
          "meghalaya",
          "mizoram",
          "nagaland",
          "nct of delhi",
          "odisha",
          "puducherry",
          "punjab",
          "rajasthan",
          "sikkim",
          "tamil nadu",
          "telangana",
          "tripura",
          "uttar pradesh",
          "uttarakhand",
          "west bengal"
         ],
         "xaxis": "x",
         "y": [
          null,
          61.18837515781473,
          3.1851089294064865,
          10.630776256747575,
          27.95667141770943,
          9.862395707822765,
          8.019316852138658,
          null,
          3.6710645510036857,
          21.171223489076024,
          21.095465712121992,
          8.52647332626129,
          3.773635291971376,
          9.146539899479295,
          21.843888944623703,
          16.390030844910434,
          null,
          0.34346878028520006,
          20.65326585664463,
          53.4506526835198,
          1.4458025066790217,
          0.8508412395379645,
          0.5617377657164476,
          0.45476556238311516,
          null,
          112.95771834263542,
          1.500120640930586,
          null,
          19.378017541407182,
          9.4352932304908,
          48.60257014323402,
          29.412154249142944,
          1.2995000794025326,
          46.962602292278135,
          4.4245703149610325,
          42.82844326703185
         ],
         "yaxis": "y"
        }
       ],
       "layout": {
        "barmode": "relative",
        "coloraxis": {
         "colorbar": {
          "title": {
           "text": "Amount Spent Per Elector (INR)"
          }
         },
         "colorscale": [
          [
           0,
           "#0d0887"
          ],
          [
           0.1111111111111111,
           "#46039f"
          ],
          [
           0.2222222222222222,
           "#7201a8"
          ],
          [
           0.3333333333333333,
           "#9c179e"
          ],
          [
           0.4444444444444444,
           "#bd3786"
          ],
          [
           0.5555555555555556,
           "#d8576b"
          ],
          [
           0.6666666666666666,
           "#ed7953"
          ],
          [
           0.7777777777777778,
           "#fb9f3a"
          ],
          [
           0.8888888888888888,
           "#fdca26"
          ],
          [
           1,
           "#f0f921"
          ]
         ]
        },
        "height": 600,
        "legend": {
         "tracegroupgap": 0
        },
        "template": {
         "data": {
          "bar": [
           {
            "error_x": {
             "color": "#2a3f5f"
            },
            "error_y": {
             "color": "#2a3f5f"
            },
            "marker": {
             "line": {
              "color": "#E5ECF6",
              "width": 0.5
             },
             "pattern": {
              "fillmode": "overlay",
              "size": 10,
              "solidity": 0.2
             }
            },
            "type": "bar"
           }
          ],
          "barpolar": [
           {
            "marker": {
             "line": {
              "color": "#E5ECF6",
              "width": 0.5
             },
             "pattern": {
              "fillmode": "overlay",
              "size": 10,
              "solidity": 0.2
             }
            },
            "type": "barpolar"
           }
          ],
          "carpet": [
           {
            "aaxis": {
             "endlinecolor": "#2a3f5f",
             "gridcolor": "white",
             "linecolor": "white",
             "minorgridcolor": "white",
             "startlinecolor": "#2a3f5f"
            },
            "baxis": {
             "endlinecolor": "#2a3f5f",
             "gridcolor": "white",
             "linecolor": "white",
             "minorgridcolor": "white",
             "startlinecolor": "#2a3f5f"
            },
            "type": "carpet"
           }
          ],
          "choropleth": [
           {
            "colorbar": {
             "outlinewidth": 0,
             "ticks": ""
            },
            "type": "choropleth"
           }
          ],
          "contour": [
           {
            "colorbar": {
             "outlinewidth": 0,
             "ticks": ""
            },
            "colorscale": [
             [
              0,
              "#0d0887"
             ],
             [
              0.1111111111111111,
              "#46039f"
             ],
             [
              0.2222222222222222,
              "#7201a8"
             ],
             [
              0.3333333333333333,
              "#9c179e"
             ],
             [
              0.4444444444444444,
              "#bd3786"
             ],
             [
              0.5555555555555556,
              "#d8576b"
             ],
             [
              0.6666666666666666,
              "#ed7953"
             ],
             [
              0.7777777777777778,
              "#fb9f3a"
             ],
             [
              0.8888888888888888,
              "#fdca26"
             ],
             [
              1,
              "#f0f921"
             ]
            ],
            "type": "contour"
           }
          ],
          "contourcarpet": [
           {
            "colorbar": {
             "outlinewidth": 0,
             "ticks": ""
            },
            "type": "contourcarpet"
           }
          ],
          "heatmap": [
           {
            "colorbar": {
             "outlinewidth": 0,
             "ticks": ""
            },
            "colorscale": [
             [
              0,
              "#0d0887"
             ],
             [
              0.1111111111111111,
              "#46039f"
             ],
             [
              0.2222222222222222,
              "#7201a8"
             ],
             [
              0.3333333333333333,
              "#9c179e"
             ],
             [
              0.4444444444444444,
              "#bd3786"
             ],
             [
              0.5555555555555556,
              "#d8576b"
             ],
             [
              0.6666666666666666,
              "#ed7953"
             ],
             [
              0.7777777777777778,
              "#fb9f3a"
             ],
             [
              0.8888888888888888,
              "#fdca26"
             ],
             [
              1,
              "#f0f921"
             ]
            ],
            "type": "heatmap"
           }
          ],
          "heatmapgl": [
           {
            "colorbar": {
             "outlinewidth": 0,
             "ticks": ""
            },
            "colorscale": [
             [
              0,
              "#0d0887"
             ],
             [
              0.1111111111111111,
              "#46039f"
             ],
             [
              0.2222222222222222,
              "#7201a8"
             ],
             [
              0.3333333333333333,
              "#9c179e"
             ],
             [
              0.4444444444444444,
              "#bd3786"
             ],
             [
              0.5555555555555556,
              "#d8576b"
             ],
             [
              0.6666666666666666,
              "#ed7953"
             ],
             [
              0.7777777777777778,
              "#fb9f3a"
             ],
             [
              0.8888888888888888,
              "#fdca26"
             ],
             [
              1,
              "#f0f921"
             ]
            ],
            "type": "heatmapgl"
           }
          ],
          "histogram": [
           {
            "marker": {
             "pattern": {
              "fillmode": "overlay",
              "size": 10,
              "solidity": 0.2
             }
            },
            "type": "histogram"
           }
          ],
          "histogram2d": [
           {
            "colorbar": {
             "outlinewidth": 0,
             "ticks": ""
            },
            "colorscale": [
             [
              0,
              "#0d0887"
             ],
             [
              0.1111111111111111,
              "#46039f"
             ],
             [
              0.2222222222222222,
              "#7201a8"
             ],
             [
              0.3333333333333333,
              "#9c179e"
             ],
             [
              0.4444444444444444,
              "#bd3786"
             ],
             [
              0.5555555555555556,
              "#d8576b"
             ],
             [
              0.6666666666666666,
              "#ed7953"
             ],
             [
              0.7777777777777778,
              "#fb9f3a"
             ],
             [
              0.8888888888888888,
              "#fdca26"
             ],
             [
              1,
              "#f0f921"
             ]
            ],
            "type": "histogram2d"
           }
          ],
          "histogram2dcontour": [
           {
            "colorbar": {
             "outlinewidth": 0,
             "ticks": ""
            },
            "colorscale": [
             [
              0,
              "#0d0887"
             ],
             [
              0.1111111111111111,
              "#46039f"
             ],
             [
              0.2222222222222222,
              "#7201a8"
             ],
             [
              0.3333333333333333,
              "#9c179e"
             ],
             [
              0.4444444444444444,
              "#bd3786"
             ],
             [
              0.5555555555555556,
              "#d8576b"
             ],
             [
              0.6666666666666666,
              "#ed7953"
             ],
             [
              0.7777777777777778,
              "#fb9f3a"
             ],
             [
              0.8888888888888888,
              "#fdca26"
             ],
             [
              1,
              "#f0f921"
             ]
            ],
            "type": "histogram2dcontour"
           }
          ],
          "mesh3d": [
           {
            "colorbar": {
             "outlinewidth": 0,
             "ticks": ""
            },
            "type": "mesh3d"
           }
          ],
          "parcoords": [
           {
            "line": {
             "colorbar": {
              "outlinewidth": 0,
              "ticks": ""
             }
            },
            "type": "parcoords"
           }
          ],
          "pie": [
           {
            "automargin": true,
            "type": "pie"
           }
          ],
          "scatter": [
           {
            "fillpattern": {
             "fillmode": "overlay",
             "size": 10,
             "solidity": 0.2
            },
            "type": "scatter"
           }
          ],
          "scatter3d": [
           {
            "line": {
             "colorbar": {
              "outlinewidth": 0,
              "ticks": ""
             }
            },
            "marker": {
             "colorbar": {
              "outlinewidth": 0,
              "ticks": ""
             }
            },
            "type": "scatter3d"
           }
          ],
          "scattercarpet": [
           {
            "marker": {
             "colorbar": {
              "outlinewidth": 0,
              "ticks": ""
             }
            },
            "type": "scattercarpet"
           }
          ],
          "scattergeo": [
           {
            "marker": {
             "colorbar": {
              "outlinewidth": 0,
              "ticks": ""
             }
            },
            "type": "scattergeo"
           }
          ],
          "scattergl": [
           {
            "marker": {
             "colorbar": {
              "outlinewidth": 0,
              "ticks": ""
             }
            },
            "type": "scattergl"
           }
          ],
          "scattermapbox": [
           {
            "marker": {
             "colorbar": {
              "outlinewidth": 0,
              "ticks": ""
             }
            },
            "type": "scattermapbox"
           }
          ],
          "scatterpolar": [
           {
            "marker": {
             "colorbar": {
              "outlinewidth": 0,
              "ticks": ""
             }
            },
            "type": "scatterpolar"
           }
          ],
          "scatterpolargl": [
           {
            "marker": {
             "colorbar": {
              "outlinewidth": 0,
              "ticks": ""
             }
            },
            "type": "scatterpolargl"
           }
          ],
          "scatterternary": [
           {
            "marker": {
             "colorbar": {
              "outlinewidth": 0,
              "ticks": ""
             }
            },
            "type": "scatterternary"
           }
          ],
          "surface": [
           {
            "colorbar": {
             "outlinewidth": 0,
             "ticks": ""
            },
            "colorscale": [
             [
              0,
              "#0d0887"
             ],
             [
              0.1111111111111111,
              "#46039f"
             ],
             [
              0.2222222222222222,
              "#7201a8"
             ],
             [
              0.3333333333333333,
              "#9c179e"
             ],
             [
              0.4444444444444444,
              "#bd3786"
             ],
             [
              0.5555555555555556,
              "#d8576b"
             ],
             [
              0.6666666666666666,
              "#ed7953"
             ],
             [
              0.7777777777777778,
              "#fb9f3a"
             ],
             [
              0.8888888888888888,
              "#fdca26"
             ],
             [
              1,
              "#f0f921"
             ]
            ],
            "type": "surface"
           }
          ],
          "table": [
           {
            "cells": {
             "fill": {
              "color": "#EBF0F8"
             },
             "line": {
              "color": "white"
             }
            },
            "header": {
             "fill": {
              "color": "#C8D4E3"
             },
             "line": {
              "color": "white"
             }
            },
            "type": "table"
           }
          ]
         },
         "layout": {
          "annotationdefaults": {
           "arrowcolor": "#2a3f5f",
           "arrowhead": 0,
           "arrowwidth": 1
          },
          "autotypenumbers": "strict",
          "coloraxis": {
           "colorbar": {
            "outlinewidth": 0,
            "ticks": ""
           }
          },
          "colorscale": {
           "diverging": [
            [
             0,
             "#8e0152"
            ],
            [
             0.1,
             "#c51b7d"
            ],
            [
             0.2,
             "#de77ae"
            ],
            [
             0.3,
             "#f1b6da"
            ],
            [
             0.4,
             "#fde0ef"
            ],
            [
             0.5,
             "#f7f7f7"
            ],
            [
             0.6,
             "#e6f5d0"
            ],
            [
             0.7,
             "#b8e186"
            ],
            [
             0.8,
             "#7fbc41"
            ],
            [
             0.9,
             "#4d9221"
            ],
            [
             1,
             "#276419"
            ]
           ],
           "sequential": [
            [
             0,
             "#0d0887"
            ],
            [
             0.1111111111111111,
             "#46039f"
            ],
            [
             0.2222222222222222,
             "#7201a8"
            ],
            [
             0.3333333333333333,
             "#9c179e"
            ],
            [
             0.4444444444444444,
             "#bd3786"
            ],
            [
             0.5555555555555556,
             "#d8576b"
            ],
            [
             0.6666666666666666,
             "#ed7953"
            ],
            [
             0.7777777777777778,
             "#fb9f3a"
            ],
            [
             0.8888888888888888,
             "#fdca26"
            ],
            [
             1,
             "#f0f921"
            ]
           ],
           "sequentialminus": [
            [
             0,
             "#0d0887"
            ],
            [
             0.1111111111111111,
             "#46039f"
            ],
            [
             0.2222222222222222,
             "#7201a8"
            ],
            [
             0.3333333333333333,
             "#9c179e"
            ],
            [
             0.4444444444444444,
             "#bd3786"
            ],
            [
             0.5555555555555556,
             "#d8576b"
            ],
            [
             0.6666666666666666,
             "#ed7953"
            ],
            [
             0.7777777777777778,
             "#fb9f3a"
            ],
            [
             0.8888888888888888,
             "#fdca26"
            ],
            [
             1,
             "#f0f921"
            ]
           ]
          },
          "colorway": [
           "#636efa",
           "#EF553B",
           "#00cc96",
           "#ab63fa",
           "#FFA15A",
           "#19d3f3",
           "#FF6692",
           "#B6E880",
           "#FF97FF",
           "#FECB52"
          ],
          "font": {
           "color": "#2a3f5f"
          },
          "geo": {
           "bgcolor": "white",
           "lakecolor": "white",
           "landcolor": "#E5ECF6",
           "showlakes": true,
           "showland": true,
           "subunitcolor": "white"
          },
          "hoverlabel": {
           "align": "left"
          },
          "hovermode": "closest",
          "mapbox": {
           "style": "light"
          },
          "paper_bgcolor": "white",
          "plot_bgcolor": "#E5ECF6",
          "polar": {
           "angularaxis": {
            "gridcolor": "white",
            "linecolor": "white",
            "ticks": ""
           },
           "bgcolor": "#E5ECF6",
           "radialaxis": {
            "gridcolor": "white",
            "linecolor": "white",
            "ticks": ""
           }
          },
          "scene": {
           "xaxis": {
            "backgroundcolor": "#E5ECF6",
            "gridcolor": "white",
            "gridwidth": 2,
            "linecolor": "white",
            "showbackground": true,
            "ticks": "",
            "zerolinecolor": "white"
           },
           "yaxis": {
            "backgroundcolor": "#E5ECF6",
            "gridcolor": "white",
            "gridwidth": 2,
            "linecolor": "white",
            "showbackground": true,
            "ticks": "",
            "zerolinecolor": "white"
           },
           "zaxis": {
            "backgroundcolor": "#E5ECF6",
            "gridcolor": "white",
            "gridwidth": 2,
            "linecolor": "white",
            "showbackground": true,
            "ticks": "",
            "zerolinecolor": "white"
           }
          },
          "shapedefaults": {
           "line": {
            "color": "#2a3f5f"
           }
          },
          "ternary": {
           "aaxis": {
            "gridcolor": "white",
            "linecolor": "white",
            "ticks": ""
           },
           "baxis": {
            "gridcolor": "white",
            "linecolor": "white",
            "ticks": ""
           },
           "bgcolor": "#E5ECF6",
           "caxis": {
            "gridcolor": "white",
            "linecolor": "white",
            "ticks": ""
           }
          },
          "title": {
           "x": 0.05
          },
          "xaxis": {
           "automargin": true,
           "gridcolor": "white",
           "linecolor": "white",
           "ticks": "",
           "title": {
            "standoff": 15
           },
           "zerolinecolor": "white",
           "zerolinewidth": 2
          },
          "yaxis": {
           "automargin": true,
           "gridcolor": "white",
           "linecolor": "white",
           "ticks": "",
           "title": {
            "standoff": 15
           },
           "zerolinecolor": "white",
           "zerolinewidth": 2
          }
         }
        },
        "title": {
         "text": "State-wise Amount Spent Per Elector"
        },
        "xaxis": {
         "anchor": "y",
         "categoryorder": "total descending",
         "domain": [
          0,
          1
         ],
         "title": {
          "text": "State"
         }
        },
        "yaxis": {
         "anchor": "x",
         "domain": [
          0,
          1
         ],
         "title": {
          "text": "Amount Spent Per Elector (INR)"
         }
        }
       }
      }
     },
     "metadata": {},
     "output_type": "display_data"
    }
   ],
   "source": [
    "\n",
    "\n",
    "# Group by state and calculate the mean or sum of 'Amount_spent_per_elector' (depending on your analysis)\n",
    "state_wise_spend_per_elector = loc_results.groupby('State')['Amount_spent_per_elector'].mean().reset_index()\n",
    "\n",
    "# Create the bar plot\n",
    "fig = px.bar(state_wise_spend_per_elector, \n",
    "             x='State', \n",
    "             y='Amount_spent_per_elector', \n",
    "             title='State-wise Amount Spent Per Elector',\n",
    "             labels={'Amount_spent_per_elector': 'Amount Spent Per Elector (INR)', 'State': 'State'},\n",
    "             color='Amount_spent_per_elector',  # Optional: Adds a color gradient based on values\n",
    "             height=600)\n",
    "\n",
    "# Customize layout (optional)\n",
    "fig.update_layout(xaxis={'categoryorder':'total descending'})  # Sort bars in descending order\n",
    "\n",
    "# Show the plot\n",
    "fig.show()\n"
   ]
  },
  {
   "cell_type": "code",
   "execution_count": 51,
   "metadata": {},
   "outputs": [
    {
     "name": "stdout",
     "output_type": "stream",
     "text": [
      "Correlation between Amount Spent Per Elector and Polling (%): -0.029494736502205028\n"
     ]
    },
    {
     "data": {
      "application/vnd.plotly.v1+json": {
       "config": {
        "plotlyServerURL": "https://plot.ly"
       },
       "data": [
        {
         "hovertemplate": "Amount Spent Per Elector (INR)=%{x}<br>Polling (%)=%{y}<extra></extra>",
         "legendgroup": "",
         "marker": {
          "color": "#636efa",
          "symbol": "circle"
         },
         "mode": "markers",
         "name": "",
         "orientation": "v",
         "showlegend": false,
         "type": "scatter",
         "x": [
          null,
          61.18837515781473,
          3.1851089294064865,
          10.630776256747575,
          27.95667141770943,
          9.862395707822765,
          8.019316852138658,
          null,
          3.6710645510036857,
          21.171223489076024,
          21.095465712121992,
          8.52647332626129,
          3.773635291971376,
          9.146539899479295,
          21.843888944623703,
          16.390030844910434,
          null,
          0.34346878028520006,
          20.65326585664463,
          53.4506526835198,
          1.4458025066790217,
          0.8508412395379645,
          0.5617377657164476,
          0.45476556238311516,
          null,
          112.95771834263542,
          1.500120640930586,
          null,
          19.378017541407182,
          9.4352932304908,
          48.60257014323402,
          29.412154249142944,
          1.2995000794025326,
          46.962602292278135,
          4.4245703149610325,
          42.82844326703185
         ],
         "xaxis": "x",
         "y": [
          64.1,
          80.7708,
          78.455,
          80.88285714285713,
          56.329499999999996,
          67.98,
          73.10545454545455,
          70.645,
          76.08,
          60.1404,
          65.019,
          70.965,
          58.696000000000005,
          66.605,
          71.71464285714286,
          71.1895,
          71.82,
          84.16,
          66.97034482758622,
          61.46,
          78.03,
          77.575,
          56.87,
          57.72,
          58.50285714285714,
          74.51,
          78.9,
          62.80384615384616,
          61.4264,
          79.88,
          70.03538461538461,
          67.66294117647058,
          80.92,
          57.047000000000004,
          56.184000000000005,
          79.18809523809524
         ],
         "yaxis": "y"
        },
        {
         "hovertemplate": "<b>OLS trendline</b><br>Polled (%) = -0.0107174 * Amount_spent_per_elector + 70.1009<br>R<sup>2</sup>=0.000870<br><br>Amount Spent Per Elector (INR)=%{x}<br>Polling (%)=%{y} <b>(trend)</b><extra></extra>",
         "legendgroup": "",
         "marker": {
          "color": "#636efa",
          "symbol": "circle"
         },
         "mode": "lines",
         "name": "",
         "showlegend": false,
         "type": "scatter",
         "x": [
          0.34346878028520006,
          0.45476556238311516,
          0.5617377657164476,
          0.8508412395379645,
          1.2995000794025326,
          1.4458025066790217,
          1.500120640930586,
          3.1851089294064865,
          3.6710645510036857,
          3.773635291971376,
          4.4245703149610325,
          8.019316852138658,
          8.52647332626129,
          9.146539899479295,
          9.4352932304908,
          9.862395707822765,
          10.630776256747575,
          16.390030844910434,
          19.378017541407182,
          20.65326585664463,
          21.095465712121992,
          21.171223489076024,
          21.843888944623703,
          27.95667141770943,
          29.412154249142944,
          42.82844326703185,
          46.962602292278135,
          48.60257014323402,
          53.4506526835198,
          61.18837515781473,
          112.95771834263542
         ],
         "xaxis": "x",
         "y": [
          70.0972248069388,
          70.09603199188344,
          70.0948855251821,
          70.09178708001923,
          70.08697861198604,
          70.08541062650971,
          70.08482847591117,
          70.06676973817655,
          70.06156154463532,
          70.06046225028233,
          70.05348590217187,
          70.01495947122794,
          70.00952405911308,
          70.00287854133687,
          69.99978384880376,
          69.9952064094965,
          69.986971347622,
          69.92524696124742,
          69.89322343415493,
          69.87955605437023,
          69.87481681002593,
          69.87400488163763,
          69.8667956392186,
          69.80128234380568,
          69.78568331388372,
          69.64189522562052,
          69.59758768111072,
          69.58001144659553,
          69.52805247945638,
          69.44512400939982,
          68.89028989116771
         ],
         "yaxis": "y"
        }
       ],
       "layout": {
        "legend": {
         "tracegroupgap": 0
        },
        "template": {
         "data": {
          "bar": [
           {
            "error_x": {
             "color": "#2a3f5f"
            },
            "error_y": {
             "color": "#2a3f5f"
            },
            "marker": {
             "line": {
              "color": "#E5ECF6",
              "width": 0.5
             },
             "pattern": {
              "fillmode": "overlay",
              "size": 10,
              "solidity": 0.2
             }
            },
            "type": "bar"
           }
          ],
          "barpolar": [
           {
            "marker": {
             "line": {
              "color": "#E5ECF6",
              "width": 0.5
             },
             "pattern": {
              "fillmode": "overlay",
              "size": 10,
              "solidity": 0.2
             }
            },
            "type": "barpolar"
           }
          ],
          "carpet": [
           {
            "aaxis": {
             "endlinecolor": "#2a3f5f",
             "gridcolor": "white",
             "linecolor": "white",
             "minorgridcolor": "white",
             "startlinecolor": "#2a3f5f"
            },
            "baxis": {
             "endlinecolor": "#2a3f5f",
             "gridcolor": "white",
             "linecolor": "white",
             "minorgridcolor": "white",
             "startlinecolor": "#2a3f5f"
            },
            "type": "carpet"
           }
          ],
          "choropleth": [
           {
            "colorbar": {
             "outlinewidth": 0,
             "ticks": ""
            },
            "type": "choropleth"
           }
          ],
          "contour": [
           {
            "colorbar": {
             "outlinewidth": 0,
             "ticks": ""
            },
            "colorscale": [
             [
              0,
              "#0d0887"
             ],
             [
              0.1111111111111111,
              "#46039f"
             ],
             [
              0.2222222222222222,
              "#7201a8"
             ],
             [
              0.3333333333333333,
              "#9c179e"
             ],
             [
              0.4444444444444444,
              "#bd3786"
             ],
             [
              0.5555555555555556,
              "#d8576b"
             ],
             [
              0.6666666666666666,
              "#ed7953"
             ],
             [
              0.7777777777777778,
              "#fb9f3a"
             ],
             [
              0.8888888888888888,
              "#fdca26"
             ],
             [
              1,
              "#f0f921"
             ]
            ],
            "type": "contour"
           }
          ],
          "contourcarpet": [
           {
            "colorbar": {
             "outlinewidth": 0,
             "ticks": ""
            },
            "type": "contourcarpet"
           }
          ],
          "heatmap": [
           {
            "colorbar": {
             "outlinewidth": 0,
             "ticks": ""
            },
            "colorscale": [
             [
              0,
              "#0d0887"
             ],
             [
              0.1111111111111111,
              "#46039f"
             ],
             [
              0.2222222222222222,
              "#7201a8"
             ],
             [
              0.3333333333333333,
              "#9c179e"
             ],
             [
              0.4444444444444444,
              "#bd3786"
             ],
             [
              0.5555555555555556,
              "#d8576b"
             ],
             [
              0.6666666666666666,
              "#ed7953"
             ],
             [
              0.7777777777777778,
              "#fb9f3a"
             ],
             [
              0.8888888888888888,
              "#fdca26"
             ],
             [
              1,
              "#f0f921"
             ]
            ],
            "type": "heatmap"
           }
          ],
          "heatmapgl": [
           {
            "colorbar": {
             "outlinewidth": 0,
             "ticks": ""
            },
            "colorscale": [
             [
              0,
              "#0d0887"
             ],
             [
              0.1111111111111111,
              "#46039f"
             ],
             [
              0.2222222222222222,
              "#7201a8"
             ],
             [
              0.3333333333333333,
              "#9c179e"
             ],
             [
              0.4444444444444444,
              "#bd3786"
             ],
             [
              0.5555555555555556,
              "#d8576b"
             ],
             [
              0.6666666666666666,
              "#ed7953"
             ],
             [
              0.7777777777777778,
              "#fb9f3a"
             ],
             [
              0.8888888888888888,
              "#fdca26"
             ],
             [
              1,
              "#f0f921"
             ]
            ],
            "type": "heatmapgl"
           }
          ],
          "histogram": [
           {
            "marker": {
             "pattern": {
              "fillmode": "overlay",
              "size": 10,
              "solidity": 0.2
             }
            },
            "type": "histogram"
           }
          ],
          "histogram2d": [
           {
            "colorbar": {
             "outlinewidth": 0,
             "ticks": ""
            },
            "colorscale": [
             [
              0,
              "#0d0887"
             ],
             [
              0.1111111111111111,
              "#46039f"
             ],
             [
              0.2222222222222222,
              "#7201a8"
             ],
             [
              0.3333333333333333,
              "#9c179e"
             ],
             [
              0.4444444444444444,
              "#bd3786"
             ],
             [
              0.5555555555555556,
              "#d8576b"
             ],
             [
              0.6666666666666666,
              "#ed7953"
             ],
             [
              0.7777777777777778,
              "#fb9f3a"
             ],
             [
              0.8888888888888888,
              "#fdca26"
             ],
             [
              1,
              "#f0f921"
             ]
            ],
            "type": "histogram2d"
           }
          ],
          "histogram2dcontour": [
           {
            "colorbar": {
             "outlinewidth": 0,
             "ticks": ""
            },
            "colorscale": [
             [
              0,
              "#0d0887"
             ],
             [
              0.1111111111111111,
              "#46039f"
             ],
             [
              0.2222222222222222,
              "#7201a8"
             ],
             [
              0.3333333333333333,
              "#9c179e"
             ],
             [
              0.4444444444444444,
              "#bd3786"
             ],
             [
              0.5555555555555556,
              "#d8576b"
             ],
             [
              0.6666666666666666,
              "#ed7953"
             ],
             [
              0.7777777777777778,
              "#fb9f3a"
             ],
             [
              0.8888888888888888,
              "#fdca26"
             ],
             [
              1,
              "#f0f921"
             ]
            ],
            "type": "histogram2dcontour"
           }
          ],
          "mesh3d": [
           {
            "colorbar": {
             "outlinewidth": 0,
             "ticks": ""
            },
            "type": "mesh3d"
           }
          ],
          "parcoords": [
           {
            "line": {
             "colorbar": {
              "outlinewidth": 0,
              "ticks": ""
             }
            },
            "type": "parcoords"
           }
          ],
          "pie": [
           {
            "automargin": true,
            "type": "pie"
           }
          ],
          "scatter": [
           {
            "fillpattern": {
             "fillmode": "overlay",
             "size": 10,
             "solidity": 0.2
            },
            "type": "scatter"
           }
          ],
          "scatter3d": [
           {
            "line": {
             "colorbar": {
              "outlinewidth": 0,
              "ticks": ""
             }
            },
            "marker": {
             "colorbar": {
              "outlinewidth": 0,
              "ticks": ""
             }
            },
            "type": "scatter3d"
           }
          ],
          "scattercarpet": [
           {
            "marker": {
             "colorbar": {
              "outlinewidth": 0,
              "ticks": ""
             }
            },
            "type": "scattercarpet"
           }
          ],
          "scattergeo": [
           {
            "marker": {
             "colorbar": {
              "outlinewidth": 0,
              "ticks": ""
             }
            },
            "type": "scattergeo"
           }
          ],
          "scattergl": [
           {
            "marker": {
             "colorbar": {
              "outlinewidth": 0,
              "ticks": ""
             }
            },
            "type": "scattergl"
           }
          ],
          "scattermapbox": [
           {
            "marker": {
             "colorbar": {
              "outlinewidth": 0,
              "ticks": ""
             }
            },
            "type": "scattermapbox"
           }
          ],
          "scatterpolar": [
           {
            "marker": {
             "colorbar": {
              "outlinewidth": 0,
              "ticks": ""
             }
            },
            "type": "scatterpolar"
           }
          ],
          "scatterpolargl": [
           {
            "marker": {
             "colorbar": {
              "outlinewidth": 0,
              "ticks": ""
             }
            },
            "type": "scatterpolargl"
           }
          ],
          "scatterternary": [
           {
            "marker": {
             "colorbar": {
              "outlinewidth": 0,
              "ticks": ""
             }
            },
            "type": "scatterternary"
           }
          ],
          "surface": [
           {
            "colorbar": {
             "outlinewidth": 0,
             "ticks": ""
            },
            "colorscale": [
             [
              0,
              "#0d0887"
             ],
             [
              0.1111111111111111,
              "#46039f"
             ],
             [
              0.2222222222222222,
              "#7201a8"
             ],
             [
              0.3333333333333333,
              "#9c179e"
             ],
             [
              0.4444444444444444,
              "#bd3786"
             ],
             [
              0.5555555555555556,
              "#d8576b"
             ],
             [
              0.6666666666666666,
              "#ed7953"
             ],
             [
              0.7777777777777778,
              "#fb9f3a"
             ],
             [
              0.8888888888888888,
              "#fdca26"
             ],
             [
              1,
              "#f0f921"
             ]
            ],
            "type": "surface"
           }
          ],
          "table": [
           {
            "cells": {
             "fill": {
              "color": "#EBF0F8"
             },
             "line": {
              "color": "white"
             }
            },
            "header": {
             "fill": {
              "color": "#C8D4E3"
             },
             "line": {
              "color": "white"
             }
            },
            "type": "table"
           }
          ]
         },
         "layout": {
          "annotationdefaults": {
           "arrowcolor": "#2a3f5f",
           "arrowhead": 0,
           "arrowwidth": 1
          },
          "autotypenumbers": "strict",
          "coloraxis": {
           "colorbar": {
            "outlinewidth": 0,
            "ticks": ""
           }
          },
          "colorscale": {
           "diverging": [
            [
             0,
             "#8e0152"
            ],
            [
             0.1,
             "#c51b7d"
            ],
            [
             0.2,
             "#de77ae"
            ],
            [
             0.3,
             "#f1b6da"
            ],
            [
             0.4,
             "#fde0ef"
            ],
            [
             0.5,
             "#f7f7f7"
            ],
            [
             0.6,
             "#e6f5d0"
            ],
            [
             0.7,
             "#b8e186"
            ],
            [
             0.8,
             "#7fbc41"
            ],
            [
             0.9,
             "#4d9221"
            ],
            [
             1,
             "#276419"
            ]
           ],
           "sequential": [
            [
             0,
             "#0d0887"
            ],
            [
             0.1111111111111111,
             "#46039f"
            ],
            [
             0.2222222222222222,
             "#7201a8"
            ],
            [
             0.3333333333333333,
             "#9c179e"
            ],
            [
             0.4444444444444444,
             "#bd3786"
            ],
            [
             0.5555555555555556,
             "#d8576b"
            ],
            [
             0.6666666666666666,
             "#ed7953"
            ],
            [
             0.7777777777777778,
             "#fb9f3a"
            ],
            [
             0.8888888888888888,
             "#fdca26"
            ],
            [
             1,
             "#f0f921"
            ]
           ],
           "sequentialminus": [
            [
             0,
             "#0d0887"
            ],
            [
             0.1111111111111111,
             "#46039f"
            ],
            [
             0.2222222222222222,
             "#7201a8"
            ],
            [
             0.3333333333333333,
             "#9c179e"
            ],
            [
             0.4444444444444444,
             "#bd3786"
            ],
            [
             0.5555555555555556,
             "#d8576b"
            ],
            [
             0.6666666666666666,
             "#ed7953"
            ],
            [
             0.7777777777777778,
             "#fb9f3a"
            ],
            [
             0.8888888888888888,
             "#fdca26"
            ],
            [
             1,
             "#f0f921"
            ]
           ]
          },
          "colorway": [
           "#636efa",
           "#EF553B",
           "#00cc96",
           "#ab63fa",
           "#FFA15A",
           "#19d3f3",
           "#FF6692",
           "#B6E880",
           "#FF97FF",
           "#FECB52"
          ],
          "font": {
           "color": "#2a3f5f"
          },
          "geo": {
           "bgcolor": "white",
           "lakecolor": "white",
           "landcolor": "#E5ECF6",
           "showlakes": true,
           "showland": true,
           "subunitcolor": "white"
          },
          "hoverlabel": {
           "align": "left"
          },
          "hovermode": "closest",
          "mapbox": {
           "style": "light"
          },
          "paper_bgcolor": "white",
          "plot_bgcolor": "#E5ECF6",
          "polar": {
           "angularaxis": {
            "gridcolor": "white",
            "linecolor": "white",
            "ticks": ""
           },
           "bgcolor": "#E5ECF6",
           "radialaxis": {
            "gridcolor": "white",
            "linecolor": "white",
            "ticks": ""
           }
          },
          "scene": {
           "xaxis": {
            "backgroundcolor": "#E5ECF6",
            "gridcolor": "white",
            "gridwidth": 2,
            "linecolor": "white",
            "showbackground": true,
            "ticks": "",
            "zerolinecolor": "white"
           },
           "yaxis": {
            "backgroundcolor": "#E5ECF6",
            "gridcolor": "white",
            "gridwidth": 2,
            "linecolor": "white",
            "showbackground": true,
            "ticks": "",
            "zerolinecolor": "white"
           },
           "zaxis": {
            "backgroundcolor": "#E5ECF6",
            "gridcolor": "white",
            "gridwidth": 2,
            "linecolor": "white",
            "showbackground": true,
            "ticks": "",
            "zerolinecolor": "white"
           }
          },
          "shapedefaults": {
           "line": {
            "color": "#2a3f5f"
           }
          },
          "ternary": {
           "aaxis": {
            "gridcolor": "white",
            "linecolor": "white",
            "ticks": ""
           },
           "baxis": {
            "gridcolor": "white",
            "linecolor": "white",
            "ticks": ""
           },
           "bgcolor": "#E5ECF6",
           "caxis": {
            "gridcolor": "white",
            "linecolor": "white",
            "ticks": ""
           }
          },
          "title": {
           "x": 0.05
          },
          "xaxis": {
           "automargin": true,
           "gridcolor": "white",
           "linecolor": "white",
           "ticks": "",
           "title": {
            "standoff": 15
           },
           "zerolinecolor": "white",
           "zerolinewidth": 2
          },
          "yaxis": {
           "automargin": true,
           "gridcolor": "white",
           "linecolor": "white",
           "ticks": "",
           "title": {
            "standoff": 15
           },
           "zerolinecolor": "white",
           "zerolinewidth": 2
          }
         }
        },
        "title": {
         "text": "Correlation between Amount Spent Per Elector and Polling (%) State-wise"
        },
        "xaxis": {
         "anchor": "y",
         "domain": [
          0,
          1
         ],
         "title": {
          "text": "Amount Spent Per Elector (INR)"
         }
        },
        "yaxis": {
         "anchor": "x",
         "domain": [
          0,
          1
         ],
         "title": {
          "text": "Polling (%)"
         }
        }
       }
      }
     },
     "metadata": {},
     "output_type": "display_data"
    }
   ],
   "source": [
    "# Group by state and calculate the mean of 'Amount_spent_per_elector' and 'Polled (%)'\n",
    "state_wise_correlation_data = loc_results.groupby('State').agg({\n",
    "    'Amount_spent_per_elector': 'mean',\n",
    "    'Polled (%)': 'mean'\n",
    "}).reset_index()\n",
    "\n",
    "# Calculate correlation\n",
    "correlation = state_wise_correlation_data['Amount_spent_per_elector'].corr(state_wise_correlation_data['Polled (%)'])\n",
    "print(f\"Correlation between Amount Spent Per Elector and Polling (%): {correlation}\")\n",
    "\n",
    "# Create scatter plot to visualize correlation\n",
    "fig = px.scatter(state_wise_correlation_data, \n",
    "                 x='Amount_spent_per_elector', \n",
    "                 y='Polled (%)', \n",
    "                 title='Correlation between Amount Spent Per Elector and Polling (%) State-wise',\n",
    "                 labels={'Amount_spent_per_elector': 'Amount Spent Per Elector (INR)', \n",
    "                         'Polled (%)': 'Polling (%)'},\n",
    "                 trendline='ols')  # Add a trendline\n",
    "\n",
    "# Show the plot\n",
    "fig.show()\n"
   ]
  }
 ],
 "metadata": {
  "kernelspec": {
   "display_name": "Python 3",
   "language": "python",
   "name": "python3"
  },
  "language_info": {
   "codemirror_mode": {
    "name": "ipython",
    "version": 3
   },
   "file_extension": ".py",
   "mimetype": "text/x-python",
   "name": "python",
   "nbconvert_exporter": "python",
   "pygments_lexer": "ipython3",
   "version": "3.10.2"
  }
 },
 "nbformat": 4,
 "nbformat_minor": 2
}
